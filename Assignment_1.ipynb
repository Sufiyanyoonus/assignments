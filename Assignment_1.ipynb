{
  "nbformat": 4,
  "nbformat_minor": 0,
  "metadata": {
    "colab": {
      "provenance": [],
      "authorship_tag": "ABX9TyPXuE46KW2EoSg1fmJBCXFA",
      "include_colab_link": true
    },
    "kernelspec": {
      "name": "python3",
      "display_name": "Python 3"
    },
    "language_info": {
      "name": "python"
    }
  },
  "cells": [
    {
      "cell_type": "markdown",
      "metadata": {
        "id": "view-in-github",
        "colab_type": "text"
      },
      "source": [
        "<a href=\"https://colab.research.google.com/github/Sufiyanyoonus/assignments/blob/main/Assignment_1.ipynb\" target=\"_parent\"><img src=\"https://colab.research.google.com/assets/colab-badge.svg\" alt=\"Open In Colab\"/></a>"
      ]
    },
    {
      "cell_type": "markdown",
      "source": [
        "##TASK 1.1 Write a python program to find those numbers which are divisible by 7 and multiples of 5, for user input."
      ],
      "metadata": {
        "id": "MebvqD0rVoWf"
      }
    },
    {
      "cell_type": "code",
      "execution_count": null,
      "metadata": {
        "colab": {
          "base_uri": "https://localhost:8080/"
        },
        "id": "8eeVohTyVkjh",
        "outputId": "be861183-8a3e-457f-ac8d-7fc3229284e0"
      },
      "outputs": [
        {
          "output_type": "stream",
          "name": "stdout",
          "text": [
            "enter a number:1\n",
            "enter a number100\n",
            "the numbers which is divisable by 7 and multiploed by 5 are  [35, 70]\n"
          ]
        }
      ],
      "source": [
        "def finding_numbers(): #define function\n",
        "  start=int(input(\"enter a number:\")) # get input value from user\n",
        "  end=int(input(\"enter a number\"))\n",
        "  result=[] # make an empty list\n",
        "  for i in range(start,end+1): #using for loop make the range ehich we wanted to look\n",
        "   if i%7==0 and i%5==0: # using if condition look the  number is divisible by 7 and multiplied by 5\n",
        "    result.append(i) # append the numbers to the result\n",
        "  return result #return the result to the function\n",
        "\n",
        "\n",
        "numbers=finding_numbers()\n",
        "print(\"the numbers which is divisable by 7 and multiploed by 5 are \",numbers)#print the numbers which is statisfied by this condition\n",
        "\n"
      ]
    },
    {
      "cell_type": "markdown",
      "source": [
        "##TASK 1.2 Write a python program to check the user input is even or odd or zero."
      ],
      "metadata": {
        "id": "mjGFPt-5XoZX"
      }
    },
    {
      "cell_type": "code",
      "source": [
        "def odd_or_even(num):\n",
        "  if num%2==0 and num!=0:\n",
        "    return (\"the numnber is even\")\n",
        "  elif num%2!=0 and num!=0:\n",
        "    return(\"the numbers is odd\")\n",
        "  else:\n",
        "    if num<1:\n",
        "      return (\"the  num is neither odd or even\")\n",
        "\n",
        "num=int(input(\"Enter a number :\"))\n",
        "result=odd_or_even(num)\n",
        "print(result)"
      ],
      "metadata": {
        "colab": {
          "base_uri": "https://localhost:8080/"
        },
        "id": "YkodLkbkZWDv",
        "outputId": "733b4576-be19-413d-9e43-6252cd934d4a"
      },
      "execution_count": null,
      "outputs": [
        {
          "output_type": "stream",
          "name": "stdout",
          "text": [
            "Enter a number :0\n",
            "the  num is neither odd or even\n"
          ]
        }
      ]
    },
    {
      "cell_type": "markdown",
      "source": [
        "##TASK 1.3 Print decimal part of an input number. If the decimal part is zero print the string : “INTEGER”"
      ],
      "metadata": {
        "id": "1jBb3iLeb2QR"
      }
    },
    {
      "cell_type": "code",
      "source": [
        "\n",
        "input_number = float(input(\"Enter a number: \"))\n",
        "\n",
        "# Split the number into integer and decimal parts\n",
        "integer_part, decimal_part = str(input_number).split('.')\n",
        "\n",
        "# Check if the decimal part is zero\n",
        "if decimal_part == '0':\n",
        "    print(\"INTEGER\")\n",
        "else:\n",
        "    print(\"Decimal part:\", decimal_part)"
      ],
      "metadata": {
        "colab": {
          "base_uri": "https://localhost:8080/"
        },
        "id": "AnRyQj4yb9qi",
        "outputId": "6243a30f-af5c-4c1b-f1f4-f14b8ecfc794"
      },
      "execution_count": null,
      "outputs": [
        {
          "output_type": "stream",
          "name": "stdout",
          "text": [
            "Enter a number: 55\n",
            "INTEGER\n"
          ]
        }
      ]
    }
  ]
}