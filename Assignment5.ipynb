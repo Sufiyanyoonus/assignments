{
  "nbformat": 4,
  "nbformat_minor": 0,
  "metadata": {
    "colab": {
      "provenance": [],
      "authorship_tag": "ABX9TyNnZiCmre+DgEu6JATEB2Cv",
      "include_colab_link": true
    },
    "kernelspec": {
      "name": "python3",
      "display_name": "Python 3"
    },
    "language_info": {
      "name": "python"
    }
  },
  "cells": [
    {
      "cell_type": "markdown",
      "metadata": {
        "id": "view-in-github",
        "colab_type": "text"
      },
      "source": [
        "<a href=\"https://colab.research.google.com/github/Sufiyanyoonus/assignments/blob/main/Assignment5.ipynb\" target=\"_parent\"><img src=\"https://colab.research.google.com/assets/colab-badge.svg\" alt=\"Open In Colab\"/></a>"
      ]
    },
    {
      "cell_type": "markdown",
      "source": [
        "#1.  Write a Python program to create a class representing a Circle. Include methods to calculate its area and perimeter.\n"
      ],
      "metadata": {
        "id": "KGcXm7WTD-v8"
      }
    },
    {
      "cell_type": "code",
      "execution_count": 8,
      "metadata": {
        "colab": {
          "base_uri": "https://localhost:8080/"
        },
        "id": "NqUeJyLcD48t",
        "outputId": "9146ceeb-dbf8-434e-dbe0-6edd8cce070d"
      },
      "outputs": [
        {
          "output_type": "stream",
          "name": "stdout",
          "text": [
            "Area 31.41592653589793\n",
            "Perimeter is 62.83185307179586\n"
          ]
        }
      ],
      "source": [
        "import math # import math for pi ro calculate the area and perimeter of the circle\n",
        "class Circle: # class\n",
        "\n",
        "\n",
        "  def __init__(self,a): # inbuilt function to receive the values\n",
        "   self.r=a\n",
        "\n",
        "  def area(self): # area function\n",
        "   print(\"Area\",self.r*math.pi) # finding the area\n",
        "\n",
        "  def perimeter(self):  # perimeter function\n",
        "    print(\"Perimeter is\",2*self.r*math.pi) # calculating the perimeter\n",
        "\n",
        "r1=Circle(10)  # assign the object\n",
        "r1.area() # call area\n",
        "r1.perimeter() # caLL THE PERIMETER"
      ]
    },
    {
      "cell_type": "markdown",
      "source": [
        "#2. Write a Python program to create a calculator class. Include methods for basic arithmetic operations."
      ],
      "metadata": {
        "id": "PkydsnLOH7Hp"
      }
    },
    {
      "cell_type": "code",
      "source": [
        "\n",
        "class Calculator:\n",
        "\n",
        "  def __init__(self,a,b):\n",
        "    self.a=a\n",
        "    self.b=b\n",
        "\n",
        "\n",
        "  def addition(self):\n",
        "   print(\"the addition of these two numbers is :\",self.a+self.b)\n",
        "\n",
        "\n",
        "  def substraction(self):\n",
        "    print(\"the substraction of these two numbers are :\",self.a-self.b)\n",
        "\n",
        "  def multiplication(self):\n",
        "    print(\"the multiplicationj of these two numbers are :\",self.a*self.b)\n",
        "\n",
        "  def division(self):\n",
        "    print(\"the division of these 2 numbers are :\",self.a/self.b)\n",
        "\n",
        "\n",
        "a1=Calculator(15,5)\n",
        "a1.addition()\n",
        "a1.substraction()\n",
        "a1.multiplication()\n",
        "a1.division()"
      ],
      "metadata": {
        "colab": {
          "base_uri": "https://localhost:8080/"
        },
        "id": "l5ez0tsyH6rS",
        "outputId": "db9f2010-d221-419c-a053-5181600b8e1c"
      },
      "execution_count": 13,
      "outputs": [
        {
          "output_type": "stream",
          "name": "stdout",
          "text": [
            "the addition of these two numbers is : 20\n",
            "the substraction of these two numbers are : 10\n",
            "the multiplicationj of these two numbers are : 75\n",
            "the division of these 2 numbers are : 3.0\n"
          ]
        }
      ]
    },
    {
      "cell_type": "markdown",
      "source": [
        "#3. Write a Python program to create a class that represents a shape. Include methods to calculate its area and perimeter. Implement subclasses for different shapes like circle, triangle, and square."
      ],
      "metadata": {
        "id": "wJ7Pbc0jKc6Z"
      }
    },
    {
      "cell_type": "code",
      "source": [
        "\n",
        "import math\n",
        "class Shape:\n",
        "\n",
        "  def area(self):\n",
        "        raise NotImplementedError(\"Subclasses must implement this method\")\n",
        "\n",
        "  def perimeter(self):\n",
        "        raise NotImplementedError(\"Subclasses must implement this method\")\n",
        "\n",
        "class Circle(Shape):\n",
        "\n",
        "  def __init__(self,a): # inbuilt function to receive the values\n",
        "   self.r=a\n",
        "\n",
        "  def area(self): # area function\n",
        "   print(\"The Area of the Circle is \",self.r*math.pi) # finding the area\n",
        "\n",
        "  def perimeter(self):  # perimeter function\n",
        "    print(\"The Perimeter of the circles is \",2*self.r*math.pi) # calculating the perimeter\n",
        "\n",
        "class Triangle(Shape):\n",
        "  def __init__(self,a,b,c):\n",
        "   self.a=a\n",
        "   self.b=b\n",
        "   self.c=c\n",
        "\n",
        "  def area(self):\n",
        "    print(\"The area of the traingle :\",(self.b*self.c)/2)\n",
        "\n",
        "  def perimeter(self):\n",
        "    print(\"The perimeter of the triangle :\",self.a+self.b+self.c)\n",
        "\n",
        "\n",
        "class Square(Shape):\n",
        "  def __init__(self,side):\n",
        "   self.side=side\n",
        "\n",
        "  def area(self):\n",
        "    print(\"Area of  the square is :\",self.side**2)\n",
        "\n",
        "  def perimeter(self):\n",
        "    print(\"the perimeter of the square is :\",self.side*4)\n",
        "\n",
        "c=Circle(12)\n",
        "t=Triangle(3,4,6)\n",
        "s=Square(4)\n",
        "c.area()\n",
        "c.perimeter()\n",
        "t.area()\n",
        "t.perimeter()\n",
        "s.area()\n",
        "s.perimeter()\n",
        "\n",
        "\n",
        "\n",
        "\n",
        "\n"
      ],
      "metadata": {
        "colab": {
          "base_uri": "https://localhost:8080/"
        },
        "id": "ZZCCvBSmRXgJ",
        "outputId": "cc420df8-decf-4189-8b48-0d832c8b6df1"
      },
      "execution_count": 25,
      "outputs": [
        {
          "output_type": "stream",
          "name": "stdout",
          "text": [
            "The Area of the Circle is  37.69911184307752\n",
            "The Perimeter of the circles is  75.39822368615503\n",
            "The area of the traingle : 12.0\n",
            "The perimeter of the triangle : 13\n",
            "Area of  the square is : 16\n",
            "the perimeter of the square is : 16\n"
          ]
        }
      ]
    }
  ]
}