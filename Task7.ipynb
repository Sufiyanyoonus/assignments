{
  "nbformat": 4,
  "nbformat_minor": 0,
  "metadata": {
    "colab": {
      "provenance": [],
      "include_colab_link": true
    },
    "kernelspec": {
      "name": "python3",
      "display_name": "Python 3"
    },
    "language_info": {
      "name": "python"
    }
  },
  "cells": [
    {
      "cell_type": "markdown",
      "metadata": {
        "id": "view-in-github",
        "colab_type": "text"
      },
      "source": [
        "<a href=\"https://colab.research.google.com/github/Sufiyanyoonus/assignments/blob/main/Task7.ipynb\" target=\"_parent\"><img src=\"https://colab.research.google.com/assets/colab-badge.svg\" alt=\"Open In Colab\"/></a>"
      ]
    },
    {
      "cell_type": "markdown",
      "source": [
        "#NumPy"
      ],
      "metadata": {
        "id": "vsSF6Xu82dAx"
      }
    },
    {
      "cell_type": "markdown",
      "source": [
        "##1. How to extract all odd numbers from arr?\n"
      ],
      "metadata": {
        "id": "XQknjhFB2z2z"
      }
    },
    {
      "cell_type": "code",
      "execution_count": null,
      "metadata": {
        "id": "rv7hu_dl193Z",
        "colab": {
          "base_uri": "https://localhost:8080/"
        },
        "outputId": "0b3c84f3-660a-4d0b-82bf-47b7a037e292"
      },
      "outputs": [
        {
          "output_type": "stream",
          "name": "stdout",
          "text": [
            "[1 3 5 7 9]\n"
          ]
        }
      ],
      "source": [
        "import numpy as np\n",
        "arr = np.array([0, 1, 2, 3, 4, 5, 6, 7, 8, 9])\n",
        "odd=arr[arr%2==1] # it will find odd numbers\n",
        "print(odd)\n"
      ]
    },
    {
      "cell_type": "markdown",
      "source": [
        "##2. Replace all odd numbers in arr with -1 without changing"
      ],
      "metadata": {
        "id": "L4_c6cw23H1S"
      }
    },
    {
      "cell_type": "code",
      "source": [
        "import numpy as np\n",
        "arr = np.array([0, 1, 2, 3, 4, 5, 6, 7, 8, 9])\n",
        "arr[arr%2==1]=-1 # replace the odds with modulus method\n",
        "print(arr)"
      ],
      "metadata": {
        "id": "hwIVhWMX3FEK",
        "colab": {
          "base_uri": "https://localhost:8080/"
        },
        "outputId": "6e4bc6d0-d562-4069-eed8-bcfc6fb3b76b"
      },
      "execution_count": null,
      "outputs": [
        {
          "output_type": "stream",
          "name": "stdout",
          "text": [
            "[ 0 -1  2 -1  4 -1  6 -1  8 -1]\n"
          ]
        }
      ]
    },
    {
      "cell_type": "markdown",
      "source": [
        "##3.  Convert a 1D array to a 2D array with 2 rows\n",
        "\n"
      ],
      "metadata": {
        "id": "-qmIigJO3Xr1"
      }
    },
    {
      "cell_type": "code",
      "source": [
        "import numpy as np\n",
        "arr=np.arange(10)\n",
        "print(arr)\n",
        "print(arr.reshape(2,5))\n",
        "\n",
        "#Desired Output:\n",
        "#> array([[0, 1, 2, 3, 4],\n",
        "#>        [5, 6, 7, 8, 9]])"
      ],
      "metadata": {
        "id": "zkK0sPOk3jmA",
        "colab": {
          "base_uri": "https://localhost:8080/"
        },
        "outputId": "c2049d12-877b-4fdf-bab1-aca3f5286a6a"
      },
      "execution_count": null,
      "outputs": [
        {
          "output_type": "stream",
          "name": "stdout",
          "text": [
            "[0 1 2 3 4 5 6 7 8 9]\n",
            "[[0 1 2 3 4]\n",
            " [5 6 7 8 9]]\n"
          ]
        }
      ]
    },
    {
      "cell_type": "markdown",
      "source": [
        "##4. Stack arrays a and b vertically\n",
        "\n"
      ],
      "metadata": {
        "id": "RkGJycHf3wsg"
      }
    },
    {
      "cell_type": "code",
      "source": [
        "import numpy as np\n",
        "a = np.arange(10).reshape(2,-1)\n",
        "b = np.repeat(1, 10).reshape(2,-1)\n",
        "\n",
        "print (np.vstack((a,b)))  #vertical stack\n",
        "\n",
        "\n",
        "#Desired Output:\n",
        "\n",
        "#> array([[0, 1, 2, 3, 4],\n",
        "#>        [5, 6, 7, 8, 9],\n",
        "#>        [1, 1, 1, 1, 1],\n",
        "#>        [1, 1, 1, 1, 1]])"
      ],
      "metadata": {
        "id": "DdnTO_2r3np2",
        "colab": {
          "base_uri": "https://localhost:8080/"
        },
        "outputId": "688495cc-6a5c-467c-c798-26cb85df9421"
      },
      "execution_count": null,
      "outputs": [
        {
          "output_type": "stream",
          "name": "stdout",
          "text": [
            "[[0 1 2 3 4]\n",
            " [5 6 7 8 9]\n",
            " [1 1 1 1 1]\n",
            " [1 1 1 1 1]]\n"
          ]
        }
      ]
    },
    {
      "cell_type": "markdown",
      "source": [
        "##5. Stack the arrays a and b horizontally.\n",
        "\n"
      ],
      "metadata": {
        "id": "fZhOCoqa38FV"
      }
    },
    {
      "cell_type": "code",
      "source": [
        "import numpy as np\n",
        "a = np.arange(10).reshape(2,-1)\n",
        "b = np.repeat(1, 10).reshape(2,-1)\n",
        "\n",
        "print (np.hstack((a,b)))  #horizontal stackpeint\n",
        "\n",
        "#Desired Output:\n",
        "\n",
        "#> array([[0, 1, 2, 3, 4, 1, 1, 1, 1, 1],\n",
        "#>        [5, 6, 7, 8, 9, 1, 1, 1, 1, 1]])"
      ],
      "metadata": {
        "id": "K9mw1Yhy35cd",
        "colab": {
          "base_uri": "https://localhost:8080/"
        },
        "outputId": "a198bfb7-4639-4b43-dc5a-31cc53b1c9ef"
      },
      "execution_count": null,
      "outputs": [
        {
          "output_type": "stream",
          "name": "stdout",
          "text": [
            "[[0 1 2 3 4 1 1 1 1 1]\n",
            " [5 6 7 8 9 1 1 1 1 1]]\n"
          ]
        }
      ]
    },
    {
      "cell_type": "markdown",
      "source": [
        "##6.How to get the common items between two python numpy arrays?\n",
        "Get the common items between a and b\n",
        "\n",
        "\n"
      ],
      "metadata": {
        "id": "0xV1tmaj4L69"
      }
    },
    {
      "cell_type": "code",
      "source": [
        "import numpy as np\n",
        "a = np.array([1,2,3,2,3,4,3,4,5,6])\n",
        "b = np.array([7,2,10,2,7,4,9,4,9,8])\n",
        "\n",
        "common=np.intersect1d(a,b) # function for finding the common numbers in the array\n",
        "print(common)"
      ],
      "metadata": {
        "id": "Tc1Vdsrj4FYS",
        "colab": {
          "base_uri": "https://localhost:8080/"
        },
        "outputId": "8cdb484b-35d5-4e78-b34f-28b62ae23f59"
      },
      "execution_count": null,
      "outputs": [
        {
          "output_type": "stream",
          "name": "stdout",
          "text": [
            "[2 4]\n"
          ]
        }
      ]
    },
    {
      "cell_type": "markdown",
      "source": [
        "##7.How to remove from one array those items that exist in another?\n",
        "Q. From array a remove all items present in array b"
      ],
      "metadata": {
        "id": "kb1PG4QI4b_m"
      }
    },
    {
      "cell_type": "code",
      "source": [
        "import numpy as np\n",
        "\n",
        "a = np.array([1,2,3,4,5])\n",
        "b = np.array([5,6,7,8,9])\n",
        "set1=set(a) # converting to set\n",
        "set2=set(b)\n",
        "result1=np.array(list(set1-set2))  # by using set removing the common numbers\n",
        "result2=np.array(list(set2-set1))\n",
        "print(result1) #printing result\n",
        "print(result2)"
      ],
      "metadata": {
        "id": "5WvxXTdb4WZ4",
        "colab": {
          "base_uri": "https://localhost:8080/"
        },
        "outputId": "fe77e86d-ff0a-4b3d-cce5-2e2de67ab30c"
      },
      "execution_count": null,
      "outputs": [
        {
          "output_type": "stream",
          "name": "stdout",
          "text": [
            "[1 2 3 4]\n",
            "[8 9 6 7]\n"
          ]
        }
      ]
    },
    {
      "cell_type": "markdown",
      "source": [
        "##8. How to get the positions where elements of two arrays match?\n",
        "\n",
        "Q. Get the positions where elements of a and b match\n",
        "\n"
      ],
      "metadata": {
        "id": "XVSe5ri94oKM"
      }
    },
    {
      "cell_type": "code",
      "source": [
        "import numpy as np\n",
        "a = np.array([1,2,3,2,3,4,3,4,5,6])\n",
        "b = np.array([7,2,10,2,7,4,9,4,9,8])\n",
        "\n",
        "\n",
        "same=np.where(a==b)[0] # using where function it is easy to find\n",
        "print(same)\n",
        "\n",
        "\n",
        "\n",
        "#Desired Output:\n",
        "#> (array([1, 3, 5, 7]),)\n"
      ],
      "metadata": {
        "id": "e1BWOjSb4kPk",
        "colab": {
          "base_uri": "https://localhost:8080/"
        },
        "outputId": "7a87c1d1-9885-4fff-9b4c-52a8f9d164c3"
      },
      "execution_count": null,
      "outputs": [
        {
          "output_type": "stream",
          "name": "stdout",
          "text": [
            "[1 3 5 7]\n"
          ]
        }
      ]
    },
    {
      "cell_type": "markdown",
      "source": [
        "##9. How to extract all numbers between a given range from a numpy array?\n",
        "Get all items between 5 and 10 from a"
      ],
      "metadata": {
        "id": "AcfbnetxAi9Y"
      }
    },
    {
      "cell_type": "code",
      "source": [
        "import numpy as np\n",
        "\n",
        "a = np.array([2, 6, 1, 9, 10, 3, 27])\n",
        "#result=a[5>=a<=10]\n",
        "#print(result)\n",
        "\n",
        "lower = 5\n",
        "upper = 10\n",
        "\n",
        "# a is between 5 and 10\n",
        "result = a[(a >= lower)&(a<=upper)]\n",
        "print(result)\n",
        "\n",
        "#Desired Output:\n",
        "#(array([6, 9, 10]),)"
      ],
      "metadata": {
        "id": "m1uk3EQZAZwS",
        "colab": {
          "base_uri": "https://localhost:8080/"
        },
        "outputId": "51a86f93-9bbf-43a7-e853-76f2d4142292"
      },
      "execution_count": null,
      "outputs": [
        {
          "output_type": "stream",
          "name": "stdout",
          "text": [
            "[ 6  9 10]\n"
          ]
        }
      ]
    },
    {
      "cell_type": "markdown",
      "source": [
        "#Pandas"
      ],
      "metadata": {
        "id": "704c9zfTBW3n"
      }
    },
    {
      "cell_type": "markdown",
      "source": [
        "##Pandas Data Series"
      ],
      "metadata": {
        "id": "vFmbX5IXIgeJ"
      }
    },
    {
      "cell_type": "markdown",
      "source": [
        "##1. Write a Pandas program to convert a dictionary to a Pandas series.\n",
        "\n",
        "```\n",
        "Sample Series:\n",
        "Original dictionary:\n",
        "{'a': 100, 'b': 200, 'c': 300, 'd': 400, 'e': 800}\n",
        "\n",
        "Converted series:\n",
        "a    100\n",
        "b    200\n",
        "c    300\n",
        "d    400\n",
        "e    800\n",
        "dtype: int64\n",
        "\n",
        "```"
      ],
      "metadata": {
        "id": "uXoMD-z1BZe5"
      }
    },
    {
      "cell_type": "code",
      "source": [
        "import pandas as pd # import pandas\n",
        "data={'a': 100, 'b': 200, 'c': 300, 'd': 400, 'e': 800} #defne dictionary\n",
        "pd.Series(data) # using series function in pandas we can easily cinvert the dict to series"
      ],
      "metadata": {
        "colab": {
          "base_uri": "https://localhost:8080/"
        },
        "id": "r2d8SJZtgPos",
        "outputId": "5ea426ba-835b-4431-8048-1da9873e4974"
      },
      "execution_count": null,
      "outputs": [
        {
          "output_type": "execute_result",
          "data": {
            "text/plain": [
              "a    100\n",
              "b    200\n",
              "c    300\n",
              "d    400\n",
              "e    800\n",
              "dtype: int64"
            ]
          },
          "metadata": {},
          "execution_count": 5
        }
      ]
    },
    {
      "cell_type": "markdown",
      "source": [
        "##2. Write a Pandas program to convert a NumPy array to a Pandas series.\n",
        "```\n",
        "Sample Series:\n",
        "  NumPy array:\n",
        "[10 20 30 40 50]\n",
        "Converted Pandas series:\n",
        "0    10\n",
        "1    20\n",
        "2    30\n",
        "3    40\n",
        "4    50\n",
        "dtype: int64\n",
        "\n",
        "```"
      ],
      "metadata": {
        "id": "0x6UlatfHmBX"
      }
    },
    {
      "cell_type": "code",
      "source": [
        "import numpy as np\n",
        "d=np.array([10, 20 ,30, 40 ,50]) # crete a numoy\n",
        "pd.Series(d) # using series function e can convert the array to series"
      ],
      "metadata": {
        "colab": {
          "base_uri": "https://localhost:8080/"
        },
        "id": "ApT0pbrAhqzV",
        "outputId": "a8f445c6-6e16-4f17-c400-519f17860765"
      },
      "execution_count": null,
      "outputs": [
        {
          "output_type": "execute_result",
          "data": {
            "text/plain": [
              "0    10\n",
              "1    20\n",
              "2    30\n",
              "3    40\n",
              "4    50\n",
              "dtype: int64"
            ]
          },
          "metadata": {},
          "execution_count": 13
        }
      ]
    },
    {
      "cell_type": "markdown",
      "source": [
        "##3. Write a Pandas program to change the data type of given a column or a Series.\n",
        "\n",
        "```\n",
        "Sample Series:\n",
        "    Original Data Series:\n",
        "0       100\n",
        "1       200\n",
        "2    python\n",
        "3    300.12\n",
        "4       400\n",
        "dtype: object\n",
        "Change the said data type to numeric:\n",
        "0    100.00\n",
        "1    200.00\n",
        "2       NaN\n",
        "3    300.12\n",
        "4    400.00\n",
        "dtype: float64\n",
        "\n",
        "```"
      ],
      "metadata": {
        "id": "MYTvji7SHx2F"
      }
    },
    {
      "cell_type": "code",
      "source": [
        "sample=pd.Series([100,200,\"python\",300.12,400]) # define  the series\n",
        "print(\"Sample series:\") # print\n",
        "print(sample)\n",
        "\n",
        "sample_numeric=pd.to_numeric(sample, errors=\"coerce\") # (to_numeric and errors=\"coerce\") will help change all unnumeric to \"NaN\" and the data type will be \"float\"\n",
        "print(\"\\nthe changed series:\")\n",
        "print(sample_numeric)"
      ],
      "metadata": {
        "colab": {
          "base_uri": "https://localhost:8080/"
        },
        "id": "55mDkqYVi8sE",
        "outputId": "2aada582-0e1a-43ea-b352-b51d61e614a3"
      },
      "execution_count": null,
      "outputs": [
        {
          "output_type": "stream",
          "name": "stdout",
          "text": [
            "Sample series:\n",
            "0       100\n",
            "1       200\n",
            "2    python\n",
            "3    300.12\n",
            "4       400\n",
            "dtype: object\n",
            "\n",
            "the changed series:\n",
            "0    100.00\n",
            "1    200.00\n",
            "2       NaN\n",
            "3    300.12\n",
            "4    400.00\n",
            "dtype: float64\n"
          ]
        }
      ]
    },
    {
      "cell_type": "markdown",
      "source": [
        "##4. Write a Pandas program to convert the first column of a DataFrame as a Series.\n",
        "\n",
        "```\n",
        "Sample Output:  \n",
        "Original DataFrame\n",
        "   col1  col2  col3\n",
        "0     1     4     7\n",
        "1     2     5     5\n",
        "2     3     6     8\n",
        "3     4     9    12\n",
        "4     7     5     1\n",
        "5    11     0    11\n",
        "\n",
        "1st column as a Series:\n",
        "0     1\n",
        "1     2\n",
        "2     3\n",
        "3     4\n",
        "4     7\n",
        "5    11\n",
        "Name: col1, dtype: int64\n",
        "<class 'pandas.core.series.Series'>\n",
        "\n",
        "```"
      ],
      "metadata": {
        "id": "8KpTxLSPH4qa"
      }
    },
    {
      "cell_type": "code",
      "source": [
        "import pandas as pd\n",
        "import numpy as np\n",
        "\n",
        "# create dataframe\n",
        "data={\"col1\":[1,2,3,4,7,11],\n",
        "      \"col2\":[4,5,6,9,5,0],\n",
        "      \"col3\":[7,5,8,12,1,11]}\n",
        "\n",
        "\n",
        "datas=pd.DataFrame(data)\n",
        "print(datas)\n",
        "\n",
        "v=datas.drop([\"col1\",\"col2\"],axis=1)\n",
        "print(\"\\nThe Data after two columns deleted\")\n",
        "print(v)\n",
        "\n",
        "# Convert v DataFrame into Series\n",
        "series_v = v.stack()\n",
        "print(\"\\nConverted Series:\")\n",
        "print(series_v)"
      ],
      "metadata": {
        "id": "0bnE7-tUSEMv",
        "colab": {
          "base_uri": "https://localhost:8080/"
        },
        "outputId": "bb8d1ba0-ce36-4f07-bb4b-be9397e3d479"
      },
      "execution_count": 15,
      "outputs": [
        {
          "output_type": "stream",
          "name": "stdout",
          "text": [
            "   col1  col2  col3\n",
            "0     1     4     7\n",
            "1     2     5     5\n",
            "2     3     6     8\n",
            "3     4     9    12\n",
            "4     7     5     1\n",
            "5    11     0    11\n",
            "\n",
            "The Data after two columns deleted\n",
            "   col3\n",
            "0     7\n",
            "1     5\n",
            "2     8\n",
            "3    12\n",
            "4     1\n",
            "5    11\n",
            "\n",
            "Converted Series:\n",
            "0  col3     7\n",
            "1  col3     5\n",
            "2  col3     8\n",
            "3  col3    12\n",
            "4  col3     1\n",
            "5  col3    11\n",
            "dtype: int64\n"
          ]
        }
      ]
    },
    {
      "cell_type": "markdown",
      "source": [
        "##5. Write a Pandas program to convert a given Series to an array.\n",
        "\n",
        "```\n",
        "Sample Output:\n",
        "Original Data Series:\n",
        "0       100\n",
        "1       200\n",
        "2    python\n",
        "3    300.12\n",
        "4       400\n",
        "dtype: object\n",
        "Series to an array\n",
        "['100' '200' 'python' '300.12' '400']\n",
        "<class 'numpy.ndarray'>\n",
        "\n",
        "```"
      ],
      "metadata": {
        "id": "I3akTejyIHHR"
      }
    },
    {
      "cell_type": "code",
      "source": [
        "OG=pd.Series([100,200,\"python\",300.12,400]) # define  the series\n",
        "print(\"Original data series\")\n",
        "print(OG)\n",
        "x=np.array(OG) # convert the series into array by using the array function in numpy\n",
        "print(\"\\nSeries to array:\")\n",
        "print(x)\n",
        "type(x) # type function is to find the type"
      ],
      "metadata": {
        "colab": {
          "base_uri": "https://localhost:8080/"
        },
        "id": "rVOKQwKDszKg",
        "outputId": "5237136b-683a-4464-b0e9-0540dc7b51b5"
      },
      "execution_count": null,
      "outputs": [
        {
          "output_type": "stream",
          "name": "stdout",
          "text": [
            "Original data series\n",
            "0       100\n",
            "1       200\n",
            "2    python\n",
            "3    300.12\n",
            "4       400\n",
            "dtype: object\n",
            "\n",
            "Series to array:\n",
            "[100 200 'python' 300.12 400]\n"
          ]
        },
        {
          "output_type": "execute_result",
          "data": {
            "text/plain": [
              "numpy.ndarray"
            ]
          },
          "metadata": {},
          "execution_count": 47
        }
      ]
    },
    {
      "cell_type": "markdown",
      "source": [
        "##6 Write a Pandas program to convert Series of lists to one Series.\n",
        "```\n",
        "Sample Output:\n",
        "Original Series of list\n",
        "0    [Red, Green, White]\n",
        "1           [Red, Black]\n",
        "2               [Yellow]\n",
        "dtype: object\n",
        "One Series\n",
        "0       Red\n",
        "1     Green\n",
        "2     White\n",
        "3       Red\n",
        "4     Black\n",
        "5    Yellow\n",
        "dtype: object\n",
        "\n",
        "```"
      ],
      "metadata": {
        "id": "Xy5hy5DBIOM8"
      }
    },
    {
      "cell_type": "code",
      "source": [
        "list=pd.Series([[\"Red\", \"Green\", \"White\"],[\"Red\", \"Black\"], [\"Yellow\"]])\n"
      ],
      "metadata": {
        "id": "3xoeePa7phg2"
      },
      "execution_count": null,
      "outputs": []
    },
    {
      "cell_type": "code",
      "source": [
        "import pandas as pd\n",
        "\n",
        "ps=pd.Series([['Red', 'Green', 'White'],['Red', 'Black'],['Yellow']])\n",
        "ps.explode().reset_index(drop=True) #original_series.explode(): Converts each list element into separate rows, replicating index values.reset_index(drop=True): Resets the index to start from 0 and drops the old index."
      ],
      "metadata": {
        "colab": {
          "base_uri": "https://localhost:8080/",
          "height": 237
        },
        "id": "RagGZ8pirPMz",
        "outputId": "f9c26d43-e4b5-442d-f526-38797dec360a"
      },
      "execution_count": null,
      "outputs": [
        {
          "output_type": "execute_result",
          "data": {
            "text/plain": [
              "   index       0\n",
              "0      0     Red\n",
              "1      0   Green\n",
              "2      0   White\n",
              "3      1     Red\n",
              "4      1   Black\n",
              "5      2  Yellow"
            ],
            "text/html": [
              "\n",
              "  <div id=\"df-6072574e-42c9-4311-811e-e8f4ba5aeafd\" class=\"colab-df-container\">\n",
              "    <div>\n",
              "<style scoped>\n",
              "    .dataframe tbody tr th:only-of-type {\n",
              "        vertical-align: middle;\n",
              "    }\n",
              "\n",
              "    .dataframe tbody tr th {\n",
              "        vertical-align: top;\n",
              "    }\n",
              "\n",
              "    .dataframe thead th {\n",
              "        text-align: right;\n",
              "    }\n",
              "</style>\n",
              "<table border=\"1\" class=\"dataframe\">\n",
              "  <thead>\n",
              "    <tr style=\"text-align: right;\">\n",
              "      <th></th>\n",
              "      <th>index</th>\n",
              "      <th>0</th>\n",
              "    </tr>\n",
              "  </thead>\n",
              "  <tbody>\n",
              "    <tr>\n",
              "      <th>0</th>\n",
              "      <td>0</td>\n",
              "      <td>Red</td>\n",
              "    </tr>\n",
              "    <tr>\n",
              "      <th>1</th>\n",
              "      <td>0</td>\n",
              "      <td>Green</td>\n",
              "    </tr>\n",
              "    <tr>\n",
              "      <th>2</th>\n",
              "      <td>0</td>\n",
              "      <td>White</td>\n",
              "    </tr>\n",
              "    <tr>\n",
              "      <th>3</th>\n",
              "      <td>1</td>\n",
              "      <td>Red</td>\n",
              "    </tr>\n",
              "    <tr>\n",
              "      <th>4</th>\n",
              "      <td>1</td>\n",
              "      <td>Black</td>\n",
              "    </tr>\n",
              "    <tr>\n",
              "      <th>5</th>\n",
              "      <td>2</td>\n",
              "      <td>Yellow</td>\n",
              "    </tr>\n",
              "  </tbody>\n",
              "</table>\n",
              "</div>\n",
              "    <div class=\"colab-df-buttons\">\n",
              "\n",
              "  <div class=\"colab-df-container\">\n",
              "    <button class=\"colab-df-convert\" onclick=\"convertToInteractive('df-6072574e-42c9-4311-811e-e8f4ba5aeafd')\"\n",
              "            title=\"Convert this dataframe to an interactive table.\"\n",
              "            style=\"display:none;\">\n",
              "\n",
              "  <svg xmlns=\"http://www.w3.org/2000/svg\" height=\"24px\" viewBox=\"0 -960 960 960\">\n",
              "    <path d=\"M120-120v-720h720v720H120Zm60-500h600v-160H180v160Zm220 220h160v-160H400v160Zm0 220h160v-160H400v160ZM180-400h160v-160H180v160Zm440 0h160v-160H620v160ZM180-180h160v-160H180v160Zm440 0h160v-160H620v160Z\"/>\n",
              "  </svg>\n",
              "    </button>\n",
              "\n",
              "  <style>\n",
              "    .colab-df-container {\n",
              "      display:flex;\n",
              "      gap: 12px;\n",
              "    }\n",
              "\n",
              "    .colab-df-convert {\n",
              "      background-color: #E8F0FE;\n",
              "      border: none;\n",
              "      border-radius: 50%;\n",
              "      cursor: pointer;\n",
              "      display: none;\n",
              "      fill: #1967D2;\n",
              "      height: 32px;\n",
              "      padding: 0 0 0 0;\n",
              "      width: 32px;\n",
              "    }\n",
              "\n",
              "    .colab-df-convert:hover {\n",
              "      background-color: #E2EBFA;\n",
              "      box-shadow: 0px 1px 2px rgba(60, 64, 67, 0.3), 0px 1px 3px 1px rgba(60, 64, 67, 0.15);\n",
              "      fill: #174EA6;\n",
              "    }\n",
              "\n",
              "    .colab-df-buttons div {\n",
              "      margin-bottom: 4px;\n",
              "    }\n",
              "\n",
              "    [theme=dark] .colab-df-convert {\n",
              "      background-color: #3B4455;\n",
              "      fill: #D2E3FC;\n",
              "    }\n",
              "\n",
              "    [theme=dark] .colab-df-convert:hover {\n",
              "      background-color: #434B5C;\n",
              "      box-shadow: 0px 1px 3px 1px rgba(0, 0, 0, 0.15);\n",
              "      filter: drop-shadow(0px 1px 2px rgba(0, 0, 0, 0.3));\n",
              "      fill: #FFFFFF;\n",
              "    }\n",
              "  </style>\n",
              "\n",
              "    <script>\n",
              "      const buttonEl =\n",
              "        document.querySelector('#df-6072574e-42c9-4311-811e-e8f4ba5aeafd button.colab-df-convert');\n",
              "      buttonEl.style.display =\n",
              "        google.colab.kernel.accessAllowed ? 'block' : 'none';\n",
              "\n",
              "      async function convertToInteractive(key) {\n",
              "        const element = document.querySelector('#df-6072574e-42c9-4311-811e-e8f4ba5aeafd');\n",
              "        const dataTable =\n",
              "          await google.colab.kernel.invokeFunction('convertToInteractive',\n",
              "                                                    [key], {});\n",
              "        if (!dataTable) return;\n",
              "\n",
              "        const docLinkHtml = 'Like what you see? Visit the ' +\n",
              "          '<a target=\"_blank\" href=https://colab.research.google.com/notebooks/data_table.ipynb>data table notebook</a>'\n",
              "          + ' to learn more about interactive tables.';\n",
              "        element.innerHTML = '';\n",
              "        dataTable['output_type'] = 'display_data';\n",
              "        await google.colab.output.renderOutput(dataTable, element);\n",
              "        const docLink = document.createElement('div');\n",
              "        docLink.innerHTML = docLinkHtml;\n",
              "        element.appendChild(docLink);\n",
              "      }\n",
              "    </script>\n",
              "  </div>\n",
              "\n",
              "\n",
              "<div id=\"df-26f46618-4184-4891-bf95-560985c12faa\">\n",
              "  <button class=\"colab-df-quickchart\" onclick=\"quickchart('df-26f46618-4184-4891-bf95-560985c12faa')\"\n",
              "            title=\"Suggest charts\"\n",
              "            style=\"display:none;\">\n",
              "\n",
              "<svg xmlns=\"http://www.w3.org/2000/svg\" height=\"24px\"viewBox=\"0 0 24 24\"\n",
              "     width=\"24px\">\n",
              "    <g>\n",
              "        <path d=\"M19 3H5c-1.1 0-2 .9-2 2v14c0 1.1.9 2 2 2h14c1.1 0 2-.9 2-2V5c0-1.1-.9-2-2-2zM9 17H7v-7h2v7zm4 0h-2V7h2v10zm4 0h-2v-4h2v4z\"/>\n",
              "    </g>\n",
              "</svg>\n",
              "  </button>\n",
              "\n",
              "<style>\n",
              "  .colab-df-quickchart {\n",
              "      --bg-color: #E8F0FE;\n",
              "      --fill-color: #1967D2;\n",
              "      --hover-bg-color: #E2EBFA;\n",
              "      --hover-fill-color: #174EA6;\n",
              "      --disabled-fill-color: #AAA;\n",
              "      --disabled-bg-color: #DDD;\n",
              "  }\n",
              "\n",
              "  [theme=dark] .colab-df-quickchart {\n",
              "      --bg-color: #3B4455;\n",
              "      --fill-color: #D2E3FC;\n",
              "      --hover-bg-color: #434B5C;\n",
              "      --hover-fill-color: #FFFFFF;\n",
              "      --disabled-bg-color: #3B4455;\n",
              "      --disabled-fill-color: #666;\n",
              "  }\n",
              "\n",
              "  .colab-df-quickchart {\n",
              "    background-color: var(--bg-color);\n",
              "    border: none;\n",
              "    border-radius: 50%;\n",
              "    cursor: pointer;\n",
              "    display: none;\n",
              "    fill: var(--fill-color);\n",
              "    height: 32px;\n",
              "    padding: 0;\n",
              "    width: 32px;\n",
              "  }\n",
              "\n",
              "  .colab-df-quickchart:hover {\n",
              "    background-color: var(--hover-bg-color);\n",
              "    box-shadow: 0 1px 2px rgba(60, 64, 67, 0.3), 0 1px 3px 1px rgba(60, 64, 67, 0.15);\n",
              "    fill: var(--button-hover-fill-color);\n",
              "  }\n",
              "\n",
              "  .colab-df-quickchart-complete:disabled,\n",
              "  .colab-df-quickchart-complete:disabled:hover {\n",
              "    background-color: var(--disabled-bg-color);\n",
              "    fill: var(--disabled-fill-color);\n",
              "    box-shadow: none;\n",
              "  }\n",
              "\n",
              "  .colab-df-spinner {\n",
              "    border: 2px solid var(--fill-color);\n",
              "    border-color: transparent;\n",
              "    border-bottom-color: var(--fill-color);\n",
              "    animation:\n",
              "      spin 1s steps(1) infinite;\n",
              "  }\n",
              "\n",
              "  @keyframes spin {\n",
              "    0% {\n",
              "      border-color: transparent;\n",
              "      border-bottom-color: var(--fill-color);\n",
              "      border-left-color: var(--fill-color);\n",
              "    }\n",
              "    20% {\n",
              "      border-color: transparent;\n",
              "      border-left-color: var(--fill-color);\n",
              "      border-top-color: var(--fill-color);\n",
              "    }\n",
              "    30% {\n",
              "      border-color: transparent;\n",
              "      border-left-color: var(--fill-color);\n",
              "      border-top-color: var(--fill-color);\n",
              "      border-right-color: var(--fill-color);\n",
              "    }\n",
              "    40% {\n",
              "      border-color: transparent;\n",
              "      border-right-color: var(--fill-color);\n",
              "      border-top-color: var(--fill-color);\n",
              "    }\n",
              "    60% {\n",
              "      border-color: transparent;\n",
              "      border-right-color: var(--fill-color);\n",
              "    }\n",
              "    80% {\n",
              "      border-color: transparent;\n",
              "      border-right-color: var(--fill-color);\n",
              "      border-bottom-color: var(--fill-color);\n",
              "    }\n",
              "    90% {\n",
              "      border-color: transparent;\n",
              "      border-bottom-color: var(--fill-color);\n",
              "    }\n",
              "  }\n",
              "</style>\n",
              "\n",
              "  <script>\n",
              "    async function quickchart(key) {\n",
              "      const quickchartButtonEl =\n",
              "        document.querySelector('#' + key + ' button');\n",
              "      quickchartButtonEl.disabled = true;  // To prevent multiple clicks.\n",
              "      quickchartButtonEl.classList.add('colab-df-spinner');\n",
              "      try {\n",
              "        const charts = await google.colab.kernel.invokeFunction(\n",
              "            'suggestCharts', [key], {});\n",
              "      } catch (error) {\n",
              "        console.error('Error during call to suggestCharts:', error);\n",
              "      }\n",
              "      quickchartButtonEl.classList.remove('colab-df-spinner');\n",
              "      quickchartButtonEl.classList.add('colab-df-quickchart-complete');\n",
              "    }\n",
              "    (() => {\n",
              "      let quickchartButtonEl =\n",
              "        document.querySelector('#df-26f46618-4184-4891-bf95-560985c12faa button');\n",
              "      quickchartButtonEl.style.display =\n",
              "        google.colab.kernel.accessAllowed ? 'block' : 'none';\n",
              "    })();\n",
              "  </script>\n",
              "</div>\n",
              "\n",
              "    </div>\n",
              "  </div>\n"
            ]
          },
          "metadata": {},
          "execution_count": 9
        }
      ]
    },
    {
      "cell_type": "markdown",
      "source": [
        "##7.Write a Pandas program to sort a given Series.\n",
        "```\n",
        "Sample Output:\n",
        "Original Data Series:\n",
        "0       100\n",
        "1       200\n",
        "2    python\n",
        "3    300.12\n",
        "4       400\n",
        "dtype: object\n",
        "0       100\n",
        "1       200\n",
        "3    300.12\n",
        "4       400\n",
        "2    python\n",
        "dtype: object\n",
        "```"
      ],
      "metadata": {
        "id": "yZLlnPrFIZGu"
      }
    },
    {
      "cell_type": "code",
      "source": [
        "sample=pd.Series([100,200,\"python\",300.12,400]) # define  the series\n",
        "print(\"Original Data Series:\")\n",
        "print(sample)\n",
        "sorted=sample.iloc[sample_numeric.sort_values().index] # it will sort number and then values\n",
        "print(\"\\nSorted data:\")\n",
        "print(sorted)"
      ],
      "metadata": {
        "colab": {
          "base_uri": "https://localhost:8080/"
        },
        "id": "OrWQpxB3tQ_-",
        "outputId": "91c86280-6f45-42a1-9ba4-8098e46536bf"
      },
      "execution_count": null,
      "outputs": [
        {
          "output_type": "stream",
          "name": "stdout",
          "text": [
            "Original Data Series:\n",
            "0       100\n",
            "1       200\n",
            "2    python\n",
            "3    300.12\n",
            "4       400\n",
            "dtype: object\n",
            "\n",
            "Sorted data:\n",
            "0       100\n",
            "1       200\n",
            "3    300.12\n",
            "4       400\n",
            "2    python\n",
            "dtype: object\n"
          ]
        }
      ]
    },
    {
      "cell_type": "markdown",
      "source": [
        "##Pandas DataFrame"
      ],
      "metadata": {
        "id": "QujcJSvgIxHm"
      }
    },
    {
      "cell_type": "markdown",
      "source": [
        "##1.Write a Pandas program to create a dataframe from a dictionary and display it.\n",
        "```\n",
        "Sample data: {'X':[78,85,96,80,86], 'Y':[84,94,89,83,86],'Z':[86,97,96,72,83]}\n",
        "Expected Output:\n",
        "    X   Y   Z                                                         \n",
        "0  78  84  86                                                        \n",
        "1  85  94  97                                                         \n",
        "2  96  89  96                                                      \n",
        "3  80  83  72                                                         \n",
        "4  86  86  83\n",
        "\n",
        "```\n"
      ],
      "metadata": {
        "id": "IOLHAKSjI0cz"
      }
    },
    {
      "cell_type": "code",
      "source": [
        "import pandas as pd # import pandas\n",
        "Sample_data= {'X':[78,85,96,80,86], 'Y':[84,94,89,83,86],'Z':[86,97,96,72,83]} # define the dictionary\n",
        "x=pd.DataFrame(Sample_data) # using dataframe function we can easily convert the dict to dataframe\n",
        "print(x)"
      ],
      "metadata": {
        "colab": {
          "base_uri": "https://localhost:8080/"
        },
        "id": "qP-ifb_jSRvu",
        "outputId": "83e882c2-e7d3-4e94-ea9c-6d007908113c"
      },
      "execution_count": null,
      "outputs": [
        {
          "output_type": "stream",
          "name": "stdout",
          "text": [
            "    X   Y   Z\n",
            "0  78  84  86\n",
            "1  85  94  97\n",
            "2  96  89  96\n",
            "3  80  83  72\n",
            "4  86  86  83\n"
          ]
        }
      ]
    },
    {
      "cell_type": "markdown",
      "source": [
        "##2. Write a Pandas program to create and display a DataFrame from a specified dictionary data which has the index labels.\n",
        "```\n",
        "Sample Python dictionary data and list labels:\n",
        "exam_data = {'name': ['Anastasia', 'Dima', 'Katherine', 'James', 'Emily', 'Michael', 'Matthew', 'Laura', 'Kevin', 'Jonas'],\n",
        "'score': [12.5, 9, 16.5, np.nan, 9, 20, 14.5, np.nan, 8, 19],\n",
        "'attempts': [1, 3, 2, 3, 2, 3, 1, 1, 2, 1],\n",
        "'qualify': ['yes', 'no', 'yes', 'no', 'no', 'yes', 'yes', 'no', 'no', 'yes']}\n",
        "labels = ['a', 'b', 'c', 'd', 'e', 'f', 'g', 'h', 'i', 'j']\n",
        "```\n",
        "\n",
        "```\n",
        "Expected Output:\n",
        "   attempts       name qualify  score                              \n",
        "a         1  Anastasia     yes   12.5                                 \n",
        "b         3       Dima      no    9.0                                 \n",
        "....                              \n",
        "i         2      Kevin      no    8.0                                \n",
        "j         1      Jonas     yes   19.0\n",
        "\n",
        "```"
      ],
      "metadata": {
        "id": "kaEX2PN6I7s_"
      }
    },
    {
      "cell_type": "code",
      "source": [
        "import numpy as np\n",
        "exam_data = {'name': ['Anastasia', 'Dima', 'Katherine', 'James', 'Emily', 'Michael', 'Matthew', 'Laura', 'Kevin', 'Jonas'],\n",
        "'score': [12.5, 9, 16.5, np.nan, 9, 20, 14.5, np.nan, 8, 19],\n",
        "'attempts': [1, 3, 2, 3, 2, 3, 1, 1, 2, 1],\n",
        "'qualify': ['yes', 'no', 'yes', 'no', 'no', 'yes', 'yes', 'no', 'no', 'yes']}\n",
        "labels = ['a', 'b', 'c', 'd', 'e', 'f', 'g', 'h', 'i', 'j']\n",
        "\n",
        "x=pd.DataFrame(exam_data,index=labels) # first the dict name and index\n",
        "print(x)"
      ],
      "metadata": {
        "colab": {
          "base_uri": "https://localhost:8080/"
        },
        "id": "VWw3j-f3TT2O",
        "outputId": "a6138716-2971-4629-8a09-eeadb9d23612"
      },
      "execution_count": null,
      "outputs": [
        {
          "output_type": "stream",
          "name": "stdout",
          "text": [
            "        name  score  attempts qualify\n",
            "a  Anastasia   12.5         1     yes\n",
            "b       Dima    9.0         3      no\n",
            "c  Katherine   16.5         2     yes\n",
            "d      James    NaN         3      no\n",
            "e      Emily    9.0         2      no\n",
            "f    Michael   20.0         3     yes\n",
            "g    Matthew   14.5         1     yes\n",
            "h      Laura    NaN         1      no\n",
            "i      Kevin    8.0         2      no\n",
            "j      Jonas   19.0         1     yes\n"
          ]
        }
      ]
    },
    {
      "cell_type": "markdown",
      "source": [
        "##3. Write a Pandas program to get the first 3 rows of a given DataFrame.\n",
        "```\n",
        "Sample Python dictionary data and list labels:\n",
        "exam_data = {'name': ['Anastasia', 'Dima', 'Katherine', 'James', 'Emily', 'Michael', 'Matthew', 'Laura', 'Kevin', 'Jonas'],\n",
        "'score': [12.5, 9, 16.5, np.nan, 9, 20, 14.5, np.nan, 8, 19],\n",
        "'attempts': [1, 3, 2, 3, 2, 3, 1, 1, 2, 1],\n",
        "'qualify': ['yes', 'no', 'yes', 'no', 'no', 'yes', 'yes', 'no', 'no', 'yes']}\n",
        "labels = ['a', 'b', 'c', 'd', 'e', 'f', 'g', 'h', 'i', 'j']\n",
        "```\n",
        "\n",
        "```\n",
        "Expected Output:\n",
        "First three rows of the data frame:                                   \n",
        "   attempts       name qualify  score                              \n",
        "a         1  Anastasia     yes   12.5                                 \n",
        "b         3       Dima      no    9.0                                 \n",
        "c         2  Katherine     yes   16.5\n",
        "\n",
        "```"
      ],
      "metadata": {
        "id": "yT64ZxLnJNLt"
      }
    },
    {
      "cell_type": "code",
      "source": [
        "exam_data = {'name': ['Anastasia', 'Dima', 'Katherine', 'James', 'Emily', 'Michael', 'Matthew', 'Laura', 'Kevin', 'Jonas'], #define dictionary\n",
        "'score': [12.5, 9, 16.5, np.nan, 9, 20, 14.5, np.nan, 8, 19],\n",
        "'attempts': [1, 3, 2, 3, 2, 3, 1, 1, 2, 1],\n",
        "'qualify': ['yes', 'no', 'yes', 'no', 'no', 'yes', 'yes', 'no', 'no', 'yes']}\n",
        "labels = ['a', 'b', 'c', 'd', 'e', 'f', 'g', 'h', 'i', 'j']\n",
        "\n",
        "d=pd.DataFrame(exam_data,index=labels) # make the data frame using data frame function\n",
        "print(x) # print the data\n",
        "\n",
        "d.head(3) # head functuon will give the rowas by default it is 5 and we can change it by ourself"
      ],
      "metadata": {
        "colab": {
          "base_uri": "https://localhost:8080/",
          "height": 344
        },
        "id": "BAouhgl2Xm2P",
        "outputId": "648e541e-2663-47be-ac0d-242b2ab663f9"
      },
      "execution_count": null,
      "outputs": [
        {
          "output_type": "stream",
          "name": "stdout",
          "text": [
            "        name  score  attempts qualify\n",
            "a  Anastasia   12.5         1     yes\n",
            "b       Dima    9.0         3      no\n",
            "c  Katherine   16.5         2     yes\n",
            "d      James    NaN         3      no\n",
            "e      Emily    9.0         2      no\n",
            "f    Michael   20.0         3     yes\n",
            "g    Matthew   14.5         1     yes\n",
            "h      Laura    NaN         1      no\n",
            "i      Kevin    8.0         2      no\n",
            "j      Jonas   19.0         1     yes\n"
          ]
        },
        {
          "output_type": "execute_result",
          "data": {
            "text/plain": [
              "        name  score  attempts qualify\n",
              "a  Anastasia   12.5         1     yes\n",
              "b       Dima    9.0         3      no\n",
              "c  Katherine   16.5         2     yes"
            ],
            "text/html": [
              "\n",
              "  <div id=\"df-2c79b3a6-1477-4779-a38c-3476f3ef8dc2\" class=\"colab-df-container\">\n",
              "    <div>\n",
              "<style scoped>\n",
              "    .dataframe tbody tr th:only-of-type {\n",
              "        vertical-align: middle;\n",
              "    }\n",
              "\n",
              "    .dataframe tbody tr th {\n",
              "        vertical-align: top;\n",
              "    }\n",
              "\n",
              "    .dataframe thead th {\n",
              "        text-align: right;\n",
              "    }\n",
              "</style>\n",
              "<table border=\"1\" class=\"dataframe\">\n",
              "  <thead>\n",
              "    <tr style=\"text-align: right;\">\n",
              "      <th></th>\n",
              "      <th>name</th>\n",
              "      <th>score</th>\n",
              "      <th>attempts</th>\n",
              "      <th>qualify</th>\n",
              "    </tr>\n",
              "  </thead>\n",
              "  <tbody>\n",
              "    <tr>\n",
              "      <th>a</th>\n",
              "      <td>Anastasia</td>\n",
              "      <td>12.5</td>\n",
              "      <td>1</td>\n",
              "      <td>yes</td>\n",
              "    </tr>\n",
              "    <tr>\n",
              "      <th>b</th>\n",
              "      <td>Dima</td>\n",
              "      <td>9.0</td>\n",
              "      <td>3</td>\n",
              "      <td>no</td>\n",
              "    </tr>\n",
              "    <tr>\n",
              "      <th>c</th>\n",
              "      <td>Katherine</td>\n",
              "      <td>16.5</td>\n",
              "      <td>2</td>\n",
              "      <td>yes</td>\n",
              "    </tr>\n",
              "  </tbody>\n",
              "</table>\n",
              "</div>\n",
              "    <div class=\"colab-df-buttons\">\n",
              "\n",
              "  <div class=\"colab-df-container\">\n",
              "    <button class=\"colab-df-convert\" onclick=\"convertToInteractive('df-2c79b3a6-1477-4779-a38c-3476f3ef8dc2')\"\n",
              "            title=\"Convert this dataframe to an interactive table.\"\n",
              "            style=\"display:none;\">\n",
              "\n",
              "  <svg xmlns=\"http://www.w3.org/2000/svg\" height=\"24px\" viewBox=\"0 -960 960 960\">\n",
              "    <path d=\"M120-120v-720h720v720H120Zm60-500h600v-160H180v160Zm220 220h160v-160H400v160Zm0 220h160v-160H400v160ZM180-400h160v-160H180v160Zm440 0h160v-160H620v160ZM180-180h160v-160H180v160Zm440 0h160v-160H620v160Z\"/>\n",
              "  </svg>\n",
              "    </button>\n",
              "\n",
              "  <style>\n",
              "    .colab-df-container {\n",
              "      display:flex;\n",
              "      gap: 12px;\n",
              "    }\n",
              "\n",
              "    .colab-df-convert {\n",
              "      background-color: #E8F0FE;\n",
              "      border: none;\n",
              "      border-radius: 50%;\n",
              "      cursor: pointer;\n",
              "      display: none;\n",
              "      fill: #1967D2;\n",
              "      height: 32px;\n",
              "      padding: 0 0 0 0;\n",
              "      width: 32px;\n",
              "    }\n",
              "\n",
              "    .colab-df-convert:hover {\n",
              "      background-color: #E2EBFA;\n",
              "      box-shadow: 0px 1px 2px rgba(60, 64, 67, 0.3), 0px 1px 3px 1px rgba(60, 64, 67, 0.15);\n",
              "      fill: #174EA6;\n",
              "    }\n",
              "\n",
              "    .colab-df-buttons div {\n",
              "      margin-bottom: 4px;\n",
              "    }\n",
              "\n",
              "    [theme=dark] .colab-df-convert {\n",
              "      background-color: #3B4455;\n",
              "      fill: #D2E3FC;\n",
              "    }\n",
              "\n",
              "    [theme=dark] .colab-df-convert:hover {\n",
              "      background-color: #434B5C;\n",
              "      box-shadow: 0px 1px 3px 1px rgba(0, 0, 0, 0.15);\n",
              "      filter: drop-shadow(0px 1px 2px rgba(0, 0, 0, 0.3));\n",
              "      fill: #FFFFFF;\n",
              "    }\n",
              "  </style>\n",
              "\n",
              "    <script>\n",
              "      const buttonEl =\n",
              "        document.querySelector('#df-2c79b3a6-1477-4779-a38c-3476f3ef8dc2 button.colab-df-convert');\n",
              "      buttonEl.style.display =\n",
              "        google.colab.kernel.accessAllowed ? 'block' : 'none';\n",
              "\n",
              "      async function convertToInteractive(key) {\n",
              "        const element = document.querySelector('#df-2c79b3a6-1477-4779-a38c-3476f3ef8dc2');\n",
              "        const dataTable =\n",
              "          await google.colab.kernel.invokeFunction('convertToInteractive',\n",
              "                                                    [key], {});\n",
              "        if (!dataTable) return;\n",
              "\n",
              "        const docLinkHtml = 'Like what you see? Visit the ' +\n",
              "          '<a target=\"_blank\" href=https://colab.research.google.com/notebooks/data_table.ipynb>data table notebook</a>'\n",
              "          + ' to learn more about interactive tables.';\n",
              "        element.innerHTML = '';\n",
              "        dataTable['output_type'] = 'display_data';\n",
              "        await google.colab.output.renderOutput(dataTable, element);\n",
              "        const docLink = document.createElement('div');\n",
              "        docLink.innerHTML = docLinkHtml;\n",
              "        element.appendChild(docLink);\n",
              "      }\n",
              "    </script>\n",
              "  </div>\n",
              "\n",
              "\n",
              "<div id=\"df-3e4e4ac9-521c-405d-83a4-0b091ee55765\">\n",
              "  <button class=\"colab-df-quickchart\" onclick=\"quickchart('df-3e4e4ac9-521c-405d-83a4-0b091ee55765')\"\n",
              "            title=\"Suggest charts\"\n",
              "            style=\"display:none;\">\n",
              "\n",
              "<svg xmlns=\"http://www.w3.org/2000/svg\" height=\"24px\"viewBox=\"0 0 24 24\"\n",
              "     width=\"24px\">\n",
              "    <g>\n",
              "        <path d=\"M19 3H5c-1.1 0-2 .9-2 2v14c0 1.1.9 2 2 2h14c1.1 0 2-.9 2-2V5c0-1.1-.9-2-2-2zM9 17H7v-7h2v7zm4 0h-2V7h2v10zm4 0h-2v-4h2v4z\"/>\n",
              "    </g>\n",
              "</svg>\n",
              "  </button>\n",
              "\n",
              "<style>\n",
              "  .colab-df-quickchart {\n",
              "      --bg-color: #E8F0FE;\n",
              "      --fill-color: #1967D2;\n",
              "      --hover-bg-color: #E2EBFA;\n",
              "      --hover-fill-color: #174EA6;\n",
              "      --disabled-fill-color: #AAA;\n",
              "      --disabled-bg-color: #DDD;\n",
              "  }\n",
              "\n",
              "  [theme=dark] .colab-df-quickchart {\n",
              "      --bg-color: #3B4455;\n",
              "      --fill-color: #D2E3FC;\n",
              "      --hover-bg-color: #434B5C;\n",
              "      --hover-fill-color: #FFFFFF;\n",
              "      --disabled-bg-color: #3B4455;\n",
              "      --disabled-fill-color: #666;\n",
              "  }\n",
              "\n",
              "  .colab-df-quickchart {\n",
              "    background-color: var(--bg-color);\n",
              "    border: none;\n",
              "    border-radius: 50%;\n",
              "    cursor: pointer;\n",
              "    display: none;\n",
              "    fill: var(--fill-color);\n",
              "    height: 32px;\n",
              "    padding: 0;\n",
              "    width: 32px;\n",
              "  }\n",
              "\n",
              "  .colab-df-quickchart:hover {\n",
              "    background-color: var(--hover-bg-color);\n",
              "    box-shadow: 0 1px 2px rgba(60, 64, 67, 0.3), 0 1px 3px 1px rgba(60, 64, 67, 0.15);\n",
              "    fill: var(--button-hover-fill-color);\n",
              "  }\n",
              "\n",
              "  .colab-df-quickchart-complete:disabled,\n",
              "  .colab-df-quickchart-complete:disabled:hover {\n",
              "    background-color: var(--disabled-bg-color);\n",
              "    fill: var(--disabled-fill-color);\n",
              "    box-shadow: none;\n",
              "  }\n",
              "\n",
              "  .colab-df-spinner {\n",
              "    border: 2px solid var(--fill-color);\n",
              "    border-color: transparent;\n",
              "    border-bottom-color: var(--fill-color);\n",
              "    animation:\n",
              "      spin 1s steps(1) infinite;\n",
              "  }\n",
              "\n",
              "  @keyframes spin {\n",
              "    0% {\n",
              "      border-color: transparent;\n",
              "      border-bottom-color: var(--fill-color);\n",
              "      border-left-color: var(--fill-color);\n",
              "    }\n",
              "    20% {\n",
              "      border-color: transparent;\n",
              "      border-left-color: var(--fill-color);\n",
              "      border-top-color: var(--fill-color);\n",
              "    }\n",
              "    30% {\n",
              "      border-color: transparent;\n",
              "      border-left-color: var(--fill-color);\n",
              "      border-top-color: var(--fill-color);\n",
              "      border-right-color: var(--fill-color);\n",
              "    }\n",
              "    40% {\n",
              "      border-color: transparent;\n",
              "      border-right-color: var(--fill-color);\n",
              "      border-top-color: var(--fill-color);\n",
              "    }\n",
              "    60% {\n",
              "      border-color: transparent;\n",
              "      border-right-color: var(--fill-color);\n",
              "    }\n",
              "    80% {\n",
              "      border-color: transparent;\n",
              "      border-right-color: var(--fill-color);\n",
              "      border-bottom-color: var(--fill-color);\n",
              "    }\n",
              "    90% {\n",
              "      border-color: transparent;\n",
              "      border-bottom-color: var(--fill-color);\n",
              "    }\n",
              "  }\n",
              "</style>\n",
              "\n",
              "  <script>\n",
              "    async function quickchart(key) {\n",
              "      const quickchartButtonEl =\n",
              "        document.querySelector('#' + key + ' button');\n",
              "      quickchartButtonEl.disabled = true;  // To prevent multiple clicks.\n",
              "      quickchartButtonEl.classList.add('colab-df-spinner');\n",
              "      try {\n",
              "        const charts = await google.colab.kernel.invokeFunction(\n",
              "            'suggestCharts', [key], {});\n",
              "      } catch (error) {\n",
              "        console.error('Error during call to suggestCharts:', error);\n",
              "      }\n",
              "      quickchartButtonEl.classList.remove('colab-df-spinner');\n",
              "      quickchartButtonEl.classList.add('colab-df-quickchart-complete');\n",
              "    }\n",
              "    (() => {\n",
              "      let quickchartButtonEl =\n",
              "        document.querySelector('#df-3e4e4ac9-521c-405d-83a4-0b091ee55765 button');\n",
              "      quickchartButtonEl.style.display =\n",
              "        google.colab.kernel.accessAllowed ? 'block' : 'none';\n",
              "    })();\n",
              "  </script>\n",
              "</div>\n",
              "\n",
              "    </div>\n",
              "  </div>\n"
            ],
            "application/vnd.google.colaboratory.intrinsic+json": {
              "type": "dataframe",
              "variable_name": "d",
              "summary": "{\n  \"name\": \"d\",\n  \"rows\": 10,\n  \"fields\": [\n    {\n      \"column\": \"name\",\n      \"properties\": {\n        \"dtype\": \"string\",\n        \"num_unique_values\": 10,\n        \"samples\": [\n          \"Kevin\",\n          \"Dima\",\n          \"Michael\"\n        ],\n        \"semantic_type\": \"\",\n        \"description\": \"\"\n      }\n    },\n    {\n      \"column\": \"score\",\n      \"properties\": {\n        \"dtype\": \"number\",\n        \"std\": 4.6937458388796465,\n        \"min\": 8.0,\n        \"max\": 20.0,\n        \"num_unique_values\": 7,\n        \"samples\": [\n          12.5,\n          9.0,\n          8.0\n        ],\n        \"semantic_type\": \"\",\n        \"description\": \"\"\n      }\n    },\n    {\n      \"column\": \"attempts\",\n      \"properties\": {\n        \"dtype\": \"number\",\n        \"std\": 0,\n        \"min\": 1,\n        \"max\": 3,\n        \"num_unique_values\": 3,\n        \"samples\": [\n          1,\n          3,\n          2\n        ],\n        \"semantic_type\": \"\",\n        \"description\": \"\"\n      }\n    },\n    {\n      \"column\": \"qualify\",\n      \"properties\": {\n        \"dtype\": \"category\",\n        \"num_unique_values\": 2,\n        \"samples\": [\n          \"no\",\n          \"yes\"\n        ],\n        \"semantic_type\": \"\",\n        \"description\": \"\"\n      }\n    }\n  ]\n}"
            }
          },
          "metadata": {},
          "execution_count": 11
        }
      ]
    },
    {
      "cell_type": "markdown",
      "source": [
        "##4.Write a Pandas program to select the 'name' and 'score' columns from the following DataFrame.\n",
        "\n",
        "```\n",
        "Sample Python dictionary data and list labels:\n",
        "exam_data = {'name': ['Anastasia', 'Dima', 'Katherine', 'James', 'Emily', 'Michael', 'Matthew', 'Laura', 'Kevin', 'Jonas'],\n",
        "'score': [12.5, 9, 16.5, np.nan, 9, 20, 14.5, np.nan, 8, 19],\n",
        "'attempts': [1, 3, 2, 3, 2, 3, 1, 1, 2, 1],\n",
        "'qualify': ['yes', 'no', 'yes', 'no', 'no', 'yes', 'yes', 'no', 'no', 'yes']}\n",
        "labels = ['a', 'b', 'c', 'd', 'e', 'f', 'g', 'h', 'i', 'j']\n",
        "```\n",
        "```\n",
        "Expected Output:\n",
        "Select specific columns:                                               \n",
        "        name  score                                                  \n",
        "a  Anastasia   12.5                                                   \n",
        "b       Dima    9.0                                                \n",
        "c  Katherine   16.5                                                    \n",
        "...                                                  \n",
        "h      Laura    NaN                                                   \n",
        "i      Kevin    8.0                                                  \n",
        "j      Jonas   19.0\n",
        "```"
      ],
      "metadata": {
        "id": "oju0J2PQJXkF"
      }
    },
    {
      "cell_type": "code",
      "source": [
        "\n",
        "d[[\"name\",\"score\"]] # accesing the columne sby calling the column names"
      ],
      "metadata": {
        "colab": {
          "base_uri": "https://localhost:8080/",
          "height": 363
        },
        "id": "BGWAgaB4YxLQ",
        "outputId": "4861be70-6275-45e7-8944-36ef6fcea40f"
      },
      "execution_count": null,
      "outputs": [
        {
          "output_type": "execute_result",
          "data": {
            "text/plain": [
              "        name  score\n",
              "a  Anastasia   12.5\n",
              "b       Dima    9.0\n",
              "c  Katherine   16.5\n",
              "d      James    NaN\n",
              "e      Emily    9.0\n",
              "f    Michael   20.0\n",
              "g    Matthew   14.5\n",
              "h      Laura    NaN\n",
              "i      Kevin    8.0\n",
              "j      Jonas   19.0"
            ],
            "text/html": [
              "\n",
              "  <div id=\"df-3dce5b8c-9566-40c7-a45e-40807a9c72b5\" class=\"colab-df-container\">\n",
              "    <div>\n",
              "<style scoped>\n",
              "    .dataframe tbody tr th:only-of-type {\n",
              "        vertical-align: middle;\n",
              "    }\n",
              "\n",
              "    .dataframe tbody tr th {\n",
              "        vertical-align: top;\n",
              "    }\n",
              "\n",
              "    .dataframe thead th {\n",
              "        text-align: right;\n",
              "    }\n",
              "</style>\n",
              "<table border=\"1\" class=\"dataframe\">\n",
              "  <thead>\n",
              "    <tr style=\"text-align: right;\">\n",
              "      <th></th>\n",
              "      <th>name</th>\n",
              "      <th>score</th>\n",
              "    </tr>\n",
              "  </thead>\n",
              "  <tbody>\n",
              "    <tr>\n",
              "      <th>a</th>\n",
              "      <td>Anastasia</td>\n",
              "      <td>12.5</td>\n",
              "    </tr>\n",
              "    <tr>\n",
              "      <th>b</th>\n",
              "      <td>Dima</td>\n",
              "      <td>9.0</td>\n",
              "    </tr>\n",
              "    <tr>\n",
              "      <th>c</th>\n",
              "      <td>Katherine</td>\n",
              "      <td>16.5</td>\n",
              "    </tr>\n",
              "    <tr>\n",
              "      <th>d</th>\n",
              "      <td>James</td>\n",
              "      <td>NaN</td>\n",
              "    </tr>\n",
              "    <tr>\n",
              "      <th>e</th>\n",
              "      <td>Emily</td>\n",
              "      <td>9.0</td>\n",
              "    </tr>\n",
              "    <tr>\n",
              "      <th>f</th>\n",
              "      <td>Michael</td>\n",
              "      <td>20.0</td>\n",
              "    </tr>\n",
              "    <tr>\n",
              "      <th>g</th>\n",
              "      <td>Matthew</td>\n",
              "      <td>14.5</td>\n",
              "    </tr>\n",
              "    <tr>\n",
              "      <th>h</th>\n",
              "      <td>Laura</td>\n",
              "      <td>NaN</td>\n",
              "    </tr>\n",
              "    <tr>\n",
              "      <th>i</th>\n",
              "      <td>Kevin</td>\n",
              "      <td>8.0</td>\n",
              "    </tr>\n",
              "    <tr>\n",
              "      <th>j</th>\n",
              "      <td>Jonas</td>\n",
              "      <td>19.0</td>\n",
              "    </tr>\n",
              "  </tbody>\n",
              "</table>\n",
              "</div>\n",
              "    <div class=\"colab-df-buttons\">\n",
              "\n",
              "  <div class=\"colab-df-container\">\n",
              "    <button class=\"colab-df-convert\" onclick=\"convertToInteractive('df-3dce5b8c-9566-40c7-a45e-40807a9c72b5')\"\n",
              "            title=\"Convert this dataframe to an interactive table.\"\n",
              "            style=\"display:none;\">\n",
              "\n",
              "  <svg xmlns=\"http://www.w3.org/2000/svg\" height=\"24px\" viewBox=\"0 -960 960 960\">\n",
              "    <path d=\"M120-120v-720h720v720H120Zm60-500h600v-160H180v160Zm220 220h160v-160H400v160Zm0 220h160v-160H400v160ZM180-400h160v-160H180v160Zm440 0h160v-160H620v160ZM180-180h160v-160H180v160Zm440 0h160v-160H620v160Z\"/>\n",
              "  </svg>\n",
              "    </button>\n",
              "\n",
              "  <style>\n",
              "    .colab-df-container {\n",
              "      display:flex;\n",
              "      gap: 12px;\n",
              "    }\n",
              "\n",
              "    .colab-df-convert {\n",
              "      background-color: #E8F0FE;\n",
              "      border: none;\n",
              "      border-radius: 50%;\n",
              "      cursor: pointer;\n",
              "      display: none;\n",
              "      fill: #1967D2;\n",
              "      height: 32px;\n",
              "      padding: 0 0 0 0;\n",
              "      width: 32px;\n",
              "    }\n",
              "\n",
              "    .colab-df-convert:hover {\n",
              "      background-color: #E2EBFA;\n",
              "      box-shadow: 0px 1px 2px rgba(60, 64, 67, 0.3), 0px 1px 3px 1px rgba(60, 64, 67, 0.15);\n",
              "      fill: #174EA6;\n",
              "    }\n",
              "\n",
              "    .colab-df-buttons div {\n",
              "      margin-bottom: 4px;\n",
              "    }\n",
              "\n",
              "    [theme=dark] .colab-df-convert {\n",
              "      background-color: #3B4455;\n",
              "      fill: #D2E3FC;\n",
              "    }\n",
              "\n",
              "    [theme=dark] .colab-df-convert:hover {\n",
              "      background-color: #434B5C;\n",
              "      box-shadow: 0px 1px 3px 1px rgba(0, 0, 0, 0.15);\n",
              "      filter: drop-shadow(0px 1px 2px rgba(0, 0, 0, 0.3));\n",
              "      fill: #FFFFFF;\n",
              "    }\n",
              "  </style>\n",
              "\n",
              "    <script>\n",
              "      const buttonEl =\n",
              "        document.querySelector('#df-3dce5b8c-9566-40c7-a45e-40807a9c72b5 button.colab-df-convert');\n",
              "      buttonEl.style.display =\n",
              "        google.colab.kernel.accessAllowed ? 'block' : 'none';\n",
              "\n",
              "      async function convertToInteractive(key) {\n",
              "        const element = document.querySelector('#df-3dce5b8c-9566-40c7-a45e-40807a9c72b5');\n",
              "        const dataTable =\n",
              "          await google.colab.kernel.invokeFunction('convertToInteractive',\n",
              "                                                    [key], {});\n",
              "        if (!dataTable) return;\n",
              "\n",
              "        const docLinkHtml = 'Like what you see? Visit the ' +\n",
              "          '<a target=\"_blank\" href=https://colab.research.google.com/notebooks/data_table.ipynb>data table notebook</a>'\n",
              "          + ' to learn more about interactive tables.';\n",
              "        element.innerHTML = '';\n",
              "        dataTable['output_type'] = 'display_data';\n",
              "        await google.colab.output.renderOutput(dataTable, element);\n",
              "        const docLink = document.createElement('div');\n",
              "        docLink.innerHTML = docLinkHtml;\n",
              "        element.appendChild(docLink);\n",
              "      }\n",
              "    </script>\n",
              "  </div>\n",
              "\n",
              "\n",
              "<div id=\"df-9a0802c1-47c6-4b85-8e50-7ad58d23b4dc\">\n",
              "  <button class=\"colab-df-quickchart\" onclick=\"quickchart('df-9a0802c1-47c6-4b85-8e50-7ad58d23b4dc')\"\n",
              "            title=\"Suggest charts\"\n",
              "            style=\"display:none;\">\n",
              "\n",
              "<svg xmlns=\"http://www.w3.org/2000/svg\" height=\"24px\"viewBox=\"0 0 24 24\"\n",
              "     width=\"24px\">\n",
              "    <g>\n",
              "        <path d=\"M19 3H5c-1.1 0-2 .9-2 2v14c0 1.1.9 2 2 2h14c1.1 0 2-.9 2-2V5c0-1.1-.9-2-2-2zM9 17H7v-7h2v7zm4 0h-2V7h2v10zm4 0h-2v-4h2v4z\"/>\n",
              "    </g>\n",
              "</svg>\n",
              "  </button>\n",
              "\n",
              "<style>\n",
              "  .colab-df-quickchart {\n",
              "      --bg-color: #E8F0FE;\n",
              "      --fill-color: #1967D2;\n",
              "      --hover-bg-color: #E2EBFA;\n",
              "      --hover-fill-color: #174EA6;\n",
              "      --disabled-fill-color: #AAA;\n",
              "      --disabled-bg-color: #DDD;\n",
              "  }\n",
              "\n",
              "  [theme=dark] .colab-df-quickchart {\n",
              "      --bg-color: #3B4455;\n",
              "      --fill-color: #D2E3FC;\n",
              "      --hover-bg-color: #434B5C;\n",
              "      --hover-fill-color: #FFFFFF;\n",
              "      --disabled-bg-color: #3B4455;\n",
              "      --disabled-fill-color: #666;\n",
              "  }\n",
              "\n",
              "  .colab-df-quickchart {\n",
              "    background-color: var(--bg-color);\n",
              "    border: none;\n",
              "    border-radius: 50%;\n",
              "    cursor: pointer;\n",
              "    display: none;\n",
              "    fill: var(--fill-color);\n",
              "    height: 32px;\n",
              "    padding: 0;\n",
              "    width: 32px;\n",
              "  }\n",
              "\n",
              "  .colab-df-quickchart:hover {\n",
              "    background-color: var(--hover-bg-color);\n",
              "    box-shadow: 0 1px 2px rgba(60, 64, 67, 0.3), 0 1px 3px 1px rgba(60, 64, 67, 0.15);\n",
              "    fill: var(--button-hover-fill-color);\n",
              "  }\n",
              "\n",
              "  .colab-df-quickchart-complete:disabled,\n",
              "  .colab-df-quickchart-complete:disabled:hover {\n",
              "    background-color: var(--disabled-bg-color);\n",
              "    fill: var(--disabled-fill-color);\n",
              "    box-shadow: none;\n",
              "  }\n",
              "\n",
              "  .colab-df-spinner {\n",
              "    border: 2px solid var(--fill-color);\n",
              "    border-color: transparent;\n",
              "    border-bottom-color: var(--fill-color);\n",
              "    animation:\n",
              "      spin 1s steps(1) infinite;\n",
              "  }\n",
              "\n",
              "  @keyframes spin {\n",
              "    0% {\n",
              "      border-color: transparent;\n",
              "      border-bottom-color: var(--fill-color);\n",
              "      border-left-color: var(--fill-color);\n",
              "    }\n",
              "    20% {\n",
              "      border-color: transparent;\n",
              "      border-left-color: var(--fill-color);\n",
              "      border-top-color: var(--fill-color);\n",
              "    }\n",
              "    30% {\n",
              "      border-color: transparent;\n",
              "      border-left-color: var(--fill-color);\n",
              "      border-top-color: var(--fill-color);\n",
              "      border-right-color: var(--fill-color);\n",
              "    }\n",
              "    40% {\n",
              "      border-color: transparent;\n",
              "      border-right-color: var(--fill-color);\n",
              "      border-top-color: var(--fill-color);\n",
              "    }\n",
              "    60% {\n",
              "      border-color: transparent;\n",
              "      border-right-color: var(--fill-color);\n",
              "    }\n",
              "    80% {\n",
              "      border-color: transparent;\n",
              "      border-right-color: var(--fill-color);\n",
              "      border-bottom-color: var(--fill-color);\n",
              "    }\n",
              "    90% {\n",
              "      border-color: transparent;\n",
              "      border-bottom-color: var(--fill-color);\n",
              "    }\n",
              "  }\n",
              "</style>\n",
              "\n",
              "  <script>\n",
              "    async function quickchart(key) {\n",
              "      const quickchartButtonEl =\n",
              "        document.querySelector('#' + key + ' button');\n",
              "      quickchartButtonEl.disabled = true;  // To prevent multiple clicks.\n",
              "      quickchartButtonEl.classList.add('colab-df-spinner');\n",
              "      try {\n",
              "        const charts = await google.colab.kernel.invokeFunction(\n",
              "            'suggestCharts', [key], {});\n",
              "      } catch (error) {\n",
              "        console.error('Error during call to suggestCharts:', error);\n",
              "      }\n",
              "      quickchartButtonEl.classList.remove('colab-df-spinner');\n",
              "      quickchartButtonEl.classList.add('colab-df-quickchart-complete');\n",
              "    }\n",
              "    (() => {\n",
              "      let quickchartButtonEl =\n",
              "        document.querySelector('#df-9a0802c1-47c6-4b85-8e50-7ad58d23b4dc button');\n",
              "      quickchartButtonEl.style.display =\n",
              "        google.colab.kernel.accessAllowed ? 'block' : 'none';\n",
              "    })();\n",
              "  </script>\n",
              "</div>\n",
              "\n",
              "    </div>\n",
              "  </div>\n"
            ],
            "application/vnd.google.colaboratory.intrinsic+json": {
              "type": "dataframe",
              "summary": "{\n  \"name\": \"d[[\\\"name\\\",\\\"score\\\"]]\",\n  \"rows\": 10,\n  \"fields\": [\n    {\n      \"column\": \"name\",\n      \"properties\": {\n        \"dtype\": \"string\",\n        \"num_unique_values\": 10,\n        \"samples\": [\n          \"Kevin\",\n          \"Dima\",\n          \"Michael\"\n        ],\n        \"semantic_type\": \"\",\n        \"description\": \"\"\n      }\n    },\n    {\n      \"column\": \"score\",\n      \"properties\": {\n        \"dtype\": \"number\",\n        \"std\": 4.6937458388796465,\n        \"min\": 8.0,\n        \"max\": 20.0,\n        \"num_unique_values\": 7,\n        \"samples\": [\n          12.5,\n          9.0,\n          8.0\n        ],\n        \"semantic_type\": \"\",\n        \"description\": \"\"\n      }\n    }\n  ]\n}"
            }
          },
          "metadata": {},
          "execution_count": 12
        }
      ]
    },
    {
      "cell_type": "markdown",
      "source": [
        "##5.  Write a Pandas program to select the specified columns and rows from a given data frame.\n",
        "```\n",
        "Sample Python dictionary data and list labels:\n",
        "Select 'name' and 'score' columns in rows 1, 3, 5, 6 from the following data frame.\n",
        "exam_data = {'name': ['Anastasia', 'Dima', 'Katherine', 'James', 'Emily', 'Michael', 'Matthew', 'Laura', 'Kevin', 'Jonas'],\n",
        "'score': [12.5, 9, 16.5, np.nan, 9, 20, 14.5, np.nan, 8, 19],\n",
        "'attempts': [1, 3, 2, 3, 2, 3, 1, 1, 2, 1],\n",
        "'qualify': ['yes', 'no', 'yes', 'no', 'no', 'yes', 'yes', 'no', 'no', 'yes']}\n",
        "labels = ['a', 'b', 'c', 'd', 'e', 'f', 'g', 'h', 'i', 'j']\n",
        "```\n",
        "```\n",
        "Expected Output:\n",
        "Select specific columns and rows:\n",
        "   score qualify\n",
        "b    9.0      no\n",
        "d    NaN      no\n",
        "f   20.0     yes\n",
        "g   14.5     yes\n",
        "\n",
        "```"
      ],
      "metadata": {
        "id": "IPLZcBpjJldx"
      }
    },
    {
      "cell_type": "code",
      "source": [
        "exam_data = {'name': ['Anastasia', 'Dima', 'Katherine', 'James', 'Emily', 'Michael', 'Matthew', 'Laura', 'Kevin', 'Jonas'],\n",
        "'score': [12.5, 9, 16.5, np.nan, 9, 20, 14.5, np.nan, 8, 19],\n",
        "'attempts': [1, 3, 2, 3, 2, 3, 1, 1, 2, 1],\n",
        "'qualify': ['yes', 'no', 'yes', 'no', 'no', 'yes', 'yes', 'no', 'no', 'yes']}\n",
        "labels = ['a', 'b', 'c', 'd', 'e', 'f', 'g', 'h', 'i', 'j']\n",
        "\n",
        "d=pd.DataFrame(exam_data,index=labels) # make the data frame using data frame function\n",
        "print(x) # print the data\n",
        "\n",
        "d.loc[[\"b\",\"d\",\"f\",\"g\"],[\"score\",\"qualify\"]] # loc function is used for accesing the data byt using the index name\n"
      ],
      "metadata": {
        "id": "1b6hcQixHit9",
        "colab": {
          "base_uri": "https://localhost:8080/",
          "height": 375
        },
        "outputId": "f35a4ed8-6678-4db9-f472-305d5c04659e"
      },
      "execution_count": null,
      "outputs": [
        {
          "output_type": "stream",
          "name": "stdout",
          "text": [
            "        name  score  attempts qualify\n",
            "a  Anastasia   12.5         1     yes\n",
            "b       Dima    9.0         3      no\n",
            "c  Katherine   16.5         2     yes\n",
            "d      James    NaN         3      no\n",
            "e      Emily    9.0         2      no\n",
            "f    Michael   20.0         3     yes\n",
            "g    Matthew   14.5         1     yes\n",
            "h      Laura    NaN         1      no\n",
            "i      Kevin    8.0         2      no\n",
            "j      Jonas   19.0         1     yes\n"
          ]
        },
        {
          "output_type": "execute_result",
          "data": {
            "text/plain": [
              "   score qualify\n",
              "b    9.0      no\n",
              "d    NaN      no\n",
              "f   20.0     yes\n",
              "g   14.5     yes"
            ],
            "text/html": [
              "\n",
              "  <div id=\"df-be57f843-e8c1-43c8-b132-526a2d9117fa\" class=\"colab-df-container\">\n",
              "    <div>\n",
              "<style scoped>\n",
              "    .dataframe tbody tr th:only-of-type {\n",
              "        vertical-align: middle;\n",
              "    }\n",
              "\n",
              "    .dataframe tbody tr th {\n",
              "        vertical-align: top;\n",
              "    }\n",
              "\n",
              "    .dataframe thead th {\n",
              "        text-align: right;\n",
              "    }\n",
              "</style>\n",
              "<table border=\"1\" class=\"dataframe\">\n",
              "  <thead>\n",
              "    <tr style=\"text-align: right;\">\n",
              "      <th></th>\n",
              "      <th>score</th>\n",
              "      <th>qualify</th>\n",
              "    </tr>\n",
              "  </thead>\n",
              "  <tbody>\n",
              "    <tr>\n",
              "      <th>b</th>\n",
              "      <td>9.0</td>\n",
              "      <td>no</td>\n",
              "    </tr>\n",
              "    <tr>\n",
              "      <th>d</th>\n",
              "      <td>NaN</td>\n",
              "      <td>no</td>\n",
              "    </tr>\n",
              "    <tr>\n",
              "      <th>f</th>\n",
              "      <td>20.0</td>\n",
              "      <td>yes</td>\n",
              "    </tr>\n",
              "    <tr>\n",
              "      <th>g</th>\n",
              "      <td>14.5</td>\n",
              "      <td>yes</td>\n",
              "    </tr>\n",
              "  </tbody>\n",
              "</table>\n",
              "</div>\n",
              "    <div class=\"colab-df-buttons\">\n",
              "\n",
              "  <div class=\"colab-df-container\">\n",
              "    <button class=\"colab-df-convert\" onclick=\"convertToInteractive('df-be57f843-e8c1-43c8-b132-526a2d9117fa')\"\n",
              "            title=\"Convert this dataframe to an interactive table.\"\n",
              "            style=\"display:none;\">\n",
              "\n",
              "  <svg xmlns=\"http://www.w3.org/2000/svg\" height=\"24px\" viewBox=\"0 -960 960 960\">\n",
              "    <path d=\"M120-120v-720h720v720H120Zm60-500h600v-160H180v160Zm220 220h160v-160H400v160Zm0 220h160v-160H400v160ZM180-400h160v-160H180v160Zm440 0h160v-160H620v160ZM180-180h160v-160H180v160Zm440 0h160v-160H620v160Z\"/>\n",
              "  </svg>\n",
              "    </button>\n",
              "\n",
              "  <style>\n",
              "    .colab-df-container {\n",
              "      display:flex;\n",
              "      gap: 12px;\n",
              "    }\n",
              "\n",
              "    .colab-df-convert {\n",
              "      background-color: #E8F0FE;\n",
              "      border: none;\n",
              "      border-radius: 50%;\n",
              "      cursor: pointer;\n",
              "      display: none;\n",
              "      fill: #1967D2;\n",
              "      height: 32px;\n",
              "      padding: 0 0 0 0;\n",
              "      width: 32px;\n",
              "    }\n",
              "\n",
              "    .colab-df-convert:hover {\n",
              "      background-color: #E2EBFA;\n",
              "      box-shadow: 0px 1px 2px rgba(60, 64, 67, 0.3), 0px 1px 3px 1px rgba(60, 64, 67, 0.15);\n",
              "      fill: #174EA6;\n",
              "    }\n",
              "\n",
              "    .colab-df-buttons div {\n",
              "      margin-bottom: 4px;\n",
              "    }\n",
              "\n",
              "    [theme=dark] .colab-df-convert {\n",
              "      background-color: #3B4455;\n",
              "      fill: #D2E3FC;\n",
              "    }\n",
              "\n",
              "    [theme=dark] .colab-df-convert:hover {\n",
              "      background-color: #434B5C;\n",
              "      box-shadow: 0px 1px 3px 1px rgba(0, 0, 0, 0.15);\n",
              "      filter: drop-shadow(0px 1px 2px rgba(0, 0, 0, 0.3));\n",
              "      fill: #FFFFFF;\n",
              "    }\n",
              "  </style>\n",
              "\n",
              "    <script>\n",
              "      const buttonEl =\n",
              "        document.querySelector('#df-be57f843-e8c1-43c8-b132-526a2d9117fa button.colab-df-convert');\n",
              "      buttonEl.style.display =\n",
              "        google.colab.kernel.accessAllowed ? 'block' : 'none';\n",
              "\n",
              "      async function convertToInteractive(key) {\n",
              "        const element = document.querySelector('#df-be57f843-e8c1-43c8-b132-526a2d9117fa');\n",
              "        const dataTable =\n",
              "          await google.colab.kernel.invokeFunction('convertToInteractive',\n",
              "                                                    [key], {});\n",
              "        if (!dataTable) return;\n",
              "\n",
              "        const docLinkHtml = 'Like what you see? Visit the ' +\n",
              "          '<a target=\"_blank\" href=https://colab.research.google.com/notebooks/data_table.ipynb>data table notebook</a>'\n",
              "          + ' to learn more about interactive tables.';\n",
              "        element.innerHTML = '';\n",
              "        dataTable['output_type'] = 'display_data';\n",
              "        await google.colab.output.renderOutput(dataTable, element);\n",
              "        const docLink = document.createElement('div');\n",
              "        docLink.innerHTML = docLinkHtml;\n",
              "        element.appendChild(docLink);\n",
              "      }\n",
              "    </script>\n",
              "  </div>\n",
              "\n",
              "\n",
              "<div id=\"df-43fef5cc-c415-4d8a-a8d0-b1ea4aaeb27a\">\n",
              "  <button class=\"colab-df-quickchart\" onclick=\"quickchart('df-43fef5cc-c415-4d8a-a8d0-b1ea4aaeb27a')\"\n",
              "            title=\"Suggest charts\"\n",
              "            style=\"display:none;\">\n",
              "\n",
              "<svg xmlns=\"http://www.w3.org/2000/svg\" height=\"24px\"viewBox=\"0 0 24 24\"\n",
              "     width=\"24px\">\n",
              "    <g>\n",
              "        <path d=\"M19 3H5c-1.1 0-2 .9-2 2v14c0 1.1.9 2 2 2h14c1.1 0 2-.9 2-2V5c0-1.1-.9-2-2-2zM9 17H7v-7h2v7zm4 0h-2V7h2v10zm4 0h-2v-4h2v4z\"/>\n",
              "    </g>\n",
              "</svg>\n",
              "  </button>\n",
              "\n",
              "<style>\n",
              "  .colab-df-quickchart {\n",
              "      --bg-color: #E8F0FE;\n",
              "      --fill-color: #1967D2;\n",
              "      --hover-bg-color: #E2EBFA;\n",
              "      --hover-fill-color: #174EA6;\n",
              "      --disabled-fill-color: #AAA;\n",
              "      --disabled-bg-color: #DDD;\n",
              "  }\n",
              "\n",
              "  [theme=dark] .colab-df-quickchart {\n",
              "      --bg-color: #3B4455;\n",
              "      --fill-color: #D2E3FC;\n",
              "      --hover-bg-color: #434B5C;\n",
              "      --hover-fill-color: #FFFFFF;\n",
              "      --disabled-bg-color: #3B4455;\n",
              "      --disabled-fill-color: #666;\n",
              "  }\n",
              "\n",
              "  .colab-df-quickchart {\n",
              "    background-color: var(--bg-color);\n",
              "    border: none;\n",
              "    border-radius: 50%;\n",
              "    cursor: pointer;\n",
              "    display: none;\n",
              "    fill: var(--fill-color);\n",
              "    height: 32px;\n",
              "    padding: 0;\n",
              "    width: 32px;\n",
              "  }\n",
              "\n",
              "  .colab-df-quickchart:hover {\n",
              "    background-color: var(--hover-bg-color);\n",
              "    box-shadow: 0 1px 2px rgba(60, 64, 67, 0.3), 0 1px 3px 1px rgba(60, 64, 67, 0.15);\n",
              "    fill: var(--button-hover-fill-color);\n",
              "  }\n",
              "\n",
              "  .colab-df-quickchart-complete:disabled,\n",
              "  .colab-df-quickchart-complete:disabled:hover {\n",
              "    background-color: var(--disabled-bg-color);\n",
              "    fill: var(--disabled-fill-color);\n",
              "    box-shadow: none;\n",
              "  }\n",
              "\n",
              "  .colab-df-spinner {\n",
              "    border: 2px solid var(--fill-color);\n",
              "    border-color: transparent;\n",
              "    border-bottom-color: var(--fill-color);\n",
              "    animation:\n",
              "      spin 1s steps(1) infinite;\n",
              "  }\n",
              "\n",
              "  @keyframes spin {\n",
              "    0% {\n",
              "      border-color: transparent;\n",
              "      border-bottom-color: var(--fill-color);\n",
              "      border-left-color: var(--fill-color);\n",
              "    }\n",
              "    20% {\n",
              "      border-color: transparent;\n",
              "      border-left-color: var(--fill-color);\n",
              "      border-top-color: var(--fill-color);\n",
              "    }\n",
              "    30% {\n",
              "      border-color: transparent;\n",
              "      border-left-color: var(--fill-color);\n",
              "      border-top-color: var(--fill-color);\n",
              "      border-right-color: var(--fill-color);\n",
              "    }\n",
              "    40% {\n",
              "      border-color: transparent;\n",
              "      border-right-color: var(--fill-color);\n",
              "      border-top-color: var(--fill-color);\n",
              "    }\n",
              "    60% {\n",
              "      border-color: transparent;\n",
              "      border-right-color: var(--fill-color);\n",
              "    }\n",
              "    80% {\n",
              "      border-color: transparent;\n",
              "      border-right-color: var(--fill-color);\n",
              "      border-bottom-color: var(--fill-color);\n",
              "    }\n",
              "    90% {\n",
              "      border-color: transparent;\n",
              "      border-bottom-color: var(--fill-color);\n",
              "    }\n",
              "  }\n",
              "</style>\n",
              "\n",
              "  <script>\n",
              "    async function quickchart(key) {\n",
              "      const quickchartButtonEl =\n",
              "        document.querySelector('#' + key + ' button');\n",
              "      quickchartButtonEl.disabled = true;  // To prevent multiple clicks.\n",
              "      quickchartButtonEl.classList.add('colab-df-spinner');\n",
              "      try {\n",
              "        const charts = await google.colab.kernel.invokeFunction(\n",
              "            'suggestCharts', [key], {});\n",
              "      } catch (error) {\n",
              "        console.error('Error during call to suggestCharts:', error);\n",
              "      }\n",
              "      quickchartButtonEl.classList.remove('colab-df-spinner');\n",
              "      quickchartButtonEl.classList.add('colab-df-quickchart-complete');\n",
              "    }\n",
              "    (() => {\n",
              "      let quickchartButtonEl =\n",
              "        document.querySelector('#df-43fef5cc-c415-4d8a-a8d0-b1ea4aaeb27a button');\n",
              "      quickchartButtonEl.style.display =\n",
              "        google.colab.kernel.accessAllowed ? 'block' : 'none';\n",
              "    })();\n",
              "  </script>\n",
              "</div>\n",
              "\n",
              "    </div>\n",
              "  </div>\n"
            ],
            "application/vnd.google.colaboratory.intrinsic+json": {
              "type": "dataframe",
              "summary": "{\n  \"name\": \"d\",\n  \"rows\": 4,\n  \"fields\": [\n    {\n      \"column\": \"score\",\n      \"properties\": {\n        \"dtype\": \"number\",\n        \"std\": 5.5,\n        \"min\": 9.0,\n        \"max\": 20.0,\n        \"num_unique_values\": 3,\n        \"samples\": [\n          9.0,\n          20.0,\n          14.5\n        ],\n        \"semantic_type\": \"\",\n        \"description\": \"\"\n      }\n    },\n    {\n      \"column\": \"qualify\",\n      \"properties\": {\n        \"dtype\": \"string\",\n        \"num_unique_values\": 2,\n        \"samples\": [\n          \"yes\",\n          \"no\"\n        ],\n        \"semantic_type\": \"\",\n        \"description\": \"\"\n      }\n    }\n  ]\n}"
            }
          },
          "metadata": {},
          "execution_count": 25
        }
      ]
    },
    {
      "cell_type": "markdown",
      "source": [
        "##6. Write a Pandas program to select the rows where the number of attempts in the examination is greater than 2.\n",
        "\n",
        "```\n",
        "Sample Python dictionary data and list labels:\n",
        "exam_data = {'name': ['Anastasia', 'Dima', 'Katherine', 'James', 'Emily', 'Michael', 'Matthew', 'Laura', 'Kevin', 'Jonas'],\n",
        "'score': [12.5, 9, 16.5, np.nan, 9, 20, 14.5, np.nan, 8, 19],\n",
        "'attempts': [1, 3, 2, 3, 2, 3, 1, 1, 2, 1],\n",
        "'qualify': ['yes', 'no', 'yes', 'no', 'no', 'yes', 'yes', 'no', 'no', 'yes']}\n",
        "labels = ['a', 'b', 'c', 'd', 'e', 'f', 'g', 'h', 'i', 'j']\n",
        "```\n",
        "\n",
        "```\n",
        "Expected Output:\n",
        "Number of attempts in the examination is greater than 2:\n",
        "      name  score  attempts qualify\n",
        "b     Dima    9.0         3      no\n",
        "d    James    NaN         3      no\n",
        "f  Michael   20.0         3     yes\n",
        "\n",
        "```"
      ],
      "metadata": {
        "id": "fTlzhTKbqQ7e"
      }
    },
    {
      "cell_type": "code",
      "source": [
        "exam_data = {'name': ['Anastasia', 'Dima', 'Katherine', 'James', 'Emily', 'Michael', 'Matthew', 'Laura', 'Kevin', 'Jonas'],\n",
        "'score': [12.5, 9, 16.5, np.nan, 9, 20, 14.5, np.nan, 8, 19],\n",
        "'attempts': [1, 3, 2, 3, 2, 3, 1, 1, 2, 1],\n",
        "'qualify': ['yes', 'no', 'yes', 'no', 'no', 'yes', 'yes', 'no', 'no', 'yes']}\n",
        "labels = ['a', 'b', 'c', 'd', 'e', 'f', 'g', 'h', 'i', 'j']\n",
        "\n",
        "d=pd.DataFrame(exam_data,index=labels) # make the data frame using data frame function\n",
        "print(x) # print the data\n",
        "\n",
        "y=d[d[\"attempts\"]>2]\n",
        "print(\"\\nNumber of attempts in the examination is greater than 2:\"\"\\n\",y)"
      ],
      "metadata": {
        "id": "GYfjiqTWAuT3",
        "colab": {
          "base_uri": "https://localhost:8080/"
        },
        "outputId": "f3da90be-69df-43f1-a45c-01c29d092e81"
      },
      "execution_count": null,
      "outputs": [
        {
          "output_type": "stream",
          "name": "stdout",
          "text": [
            "        name  score  attempts qualify\n",
            "a  Anastasia   12.5         1     yes\n",
            "b       Dima    9.0         3      no\n",
            "c  Katherine   16.5         2     yes\n",
            "d      James    NaN         3      no\n",
            "e      Emily    9.0         2      no\n",
            "f    Michael   20.0         3     yes\n",
            "g    Matthew   14.5         1     yes\n",
            "h      Laura    NaN         1      no\n",
            "i      Kevin    8.0         2      no\n",
            "j      Jonas   19.0         1     yes\n",
            "\n",
            "Number of attempts in the examination is greater than 2:\n",
            "       name  score  attempts qualify\n",
            "b     Dima    9.0         3      no\n",
            "d    James    NaN         3      no\n",
            "f  Michael   20.0         3     yes\n"
          ]
        }
      ]
    },
    {
      "cell_type": "markdown",
      "source": [
        "##7. Write a Pandas program to select the rows where the score is missing, i.e. is NaN.\n",
        "\n",
        "```\n",
        "Sample Python dictionary data and list labels:\n",
        "exam_data = {'name': ['Anastasia', 'Dima', 'Katherine', 'James', 'Emily', 'Michael', 'Matthew', 'Laura', 'Kevin', 'Jonas'],\n",
        "'score': [12.5, 9, 16.5, np.nan, 9, 20, 14.5, np.nan, 8, 19],\n",
        "'attempts': [1, 3, 2, 3, 2, 3, 1, 1, 2, 1],\n",
        "'qualify': ['yes', 'no', 'yes', 'no', 'no', 'yes', 'yes', 'no', 'no', 'yes']}\n",
        "labels = ['a', 'b', 'c', 'd', 'e', 'f', 'g', labels = ['a', 'b', 'c', 'd', 'e', 'f', 'g', 'h', 'i', 'j']\n",
        "```\n",
        "\n",
        "```\n",
        "Expected Output:\n",
        "Rows where score is missing:\n",
        "   attempts   name qualify  score\n",
        "d         3  James      no    NaN\n",
        "h         1  Laura      no    NaN\n",
        "\n",
        "```"
      ],
      "metadata": {
        "id": "-8QV9ZHjqa1P"
      }
    },
    {
      "cell_type": "code",
      "source": [
        "exam_data = {'name': ['Anastasia', 'Dima', 'Katherine', 'James', 'Emily', 'Michael', 'Matthew', 'Laura', 'Kevin', 'Jonas'],\n",
        "'score': [12.5, 9, 16.5, np.nan, 9, 20, 14.5, np.nan, 8, 19],\n",
        "'attempts': [1, 3, 2, 3, 2, 3, 1, 1, 2, 1],\n",
        "'qualify': ['yes', 'no', 'yes', 'no', 'no', 'yes', 'yes', 'no', 'no', 'yes']}\n",
        "labels = ['a', 'b', 'c', 'd', 'e', 'f', 'g', 'h', 'i', 'j']\n",
        "\n",
        "d=pd.DataFrame(exam_data,index=labels) # make the data frame using data frame function\n",
        "print(x) # print the data\n",
        "\n",
        "zero=d[d[\"score\"].isna()] # isna means is it num or is it null\n",
        "\n",
        "print(\"\\nRows where score is missing:\",zero)"
      ],
      "metadata": {
        "id": "WrUBKXMKqrHF",
        "colab": {
          "base_uri": "https://localhost:8080/"
        },
        "outputId": "2f486092-0061-45b8-8991-1c01bc81c45d"
      },
      "execution_count": null,
      "outputs": [
        {
          "output_type": "stream",
          "name": "stdout",
          "text": [
            "        name  score  attempts qualify\n",
            "a  Anastasia   12.5         1     yes\n",
            "b       Dima    9.0         3      no\n",
            "c  Katherine   16.5         2     yes\n",
            "d      James    NaN         3      no\n",
            "e      Emily    9.0         2      no\n",
            "f    Michael   20.0         3     yes\n",
            "g    Matthew   14.5         1     yes\n",
            "h      Laura    NaN         1      no\n",
            "i      Kevin    8.0         2      no\n",
            "j      Jonas   19.0         1     yes\n",
            "\n",
            "Rows where score is missing:     name  score  attempts qualify\n",
            "d  James    NaN         3      no\n",
            "h  Laura    NaN         1      no\n"
          ]
        }
      ]
    },
    {
      "cell_type": "markdown",
      "source": [
        "##8. Write a Pandas program to select the rows the score is between 15 and 20 (inclusive).\n",
        "```\n",
        "Sample Python dictionary data and list labels:\n",
        "exam_data = {'name': ['Anastasia', 'Dima', 'Katherine', 'James', 'Emily', 'Michael', 'Matthew', 'Laura', 'Kevin', 'Jonas'],\n",
        "'score': [12.5, 9, 16.5, np.nan, 9, 20, 14.5, np.nan, 8, 19],\n",
        "'attempts': [1, 3, 2, 3, 2, 3, 1, 1, 2, 1],\n",
        "'qualify': ['yes', 'no', 'yes', 'no', 'no', 'yes', 'yes', 'no', 'no', 'yes']}\n",
        "labels = ['a', 'b', 'c', 'd', 'e', 'f', 'g', labels = ['a', 'b', 'c', 'd', 'e', 'f', 'g', 'h', 'i', 'j']\n",
        "```\n",
        "```\n",
        "Expected Output:\n",
        "Rows where score between 15 and 20 (inclusive):                        \n",
        "   attempts       name qualify  score                                  \n",
        "c         2  Katherine     yes   16.5                                \n",
        "f         3    Michael     yes   20.0                                 \n",
        "j         1      Jonas     yes   19.0\n",
        "```\n"
      ],
      "metadata": {
        "id": "Wul2T54jqvf0"
      }
    },
    {
      "cell_type": "code",
      "source": [
        "exam_data = {'name': ['Anastasia', 'Dima', 'Katherine', 'James', 'Emily', 'Michael', 'Matthew', 'Laura', 'Kevin', 'Jonas'],\n",
        "'score': [12.5, 9, 16.5, np.nan, 9, 20, 14.5, np.nan, 8, 19],\n",
        "'attempts': [1, 3, 2, 3, 2, 3, 1, 1, 2, 1],\n",
        "'qualify': ['yes', 'no', 'yes', 'no', 'no', 'yes', 'yes', 'no', 'no', 'yes']}\n",
        "labels = ['a', 'b', 'c', 'd', 'e', 'f', 'g', 'h', 'i', 'j']\n",
        "\n",
        "d=pd.DataFrame(exam_data,index=labels) # make the data frame using data frame function\n",
        "print(x) # print the data\n",
        "\n",
        "marks=d[d[\"score\"].between(15,20)] # \"between\" the pandas function is used find the between values\n",
        "print(\"\\nRows where score between 15 and 20 (inclusive):\",marks)"
      ],
      "metadata": {
        "id": "gpB-XPmJq0x1",
        "colab": {
          "base_uri": "https://localhost:8080/"
        },
        "outputId": "0e08b970-a672-4ea5-9507-1e7b939d36b1"
      },
      "execution_count": null,
      "outputs": [
        {
          "output_type": "stream",
          "name": "stdout",
          "text": [
            "        name  score  attempts qualify\n",
            "a  Anastasia   12.5         1     yes\n",
            "b       Dima    9.0         3      no\n",
            "c  Katherine   16.5         2     yes\n",
            "d      James    NaN         3      no\n",
            "e      Emily    9.0         2      no\n",
            "f    Michael   20.0         3     yes\n",
            "g    Matthew   14.5         1     yes\n",
            "h      Laura    NaN         1      no\n",
            "i      Kevin    8.0         2      no\n",
            "j      Jonas   19.0         1     yes\n",
            "\n",
            "Rows where score between 15 and 20 (inclusive):         name  score  attempts qualify\n",
            "c  Katherine   16.5         2     yes\n",
            "f    Michael   20.0         3     yes\n",
            "j      Jonas   19.0         1     yes\n"
          ]
        }
      ]
    },
    {
      "cell_type": "markdown",
      "source": [
        "##9. Write a Pandas program to select the rows where number of attempts in the examination is less than 2 and score greater than 15.\n",
        "\n",
        "```\n",
        "Sample Python dictionary data and list labels:\n",
        "exam_data = {'name': ['Anastasia', 'Dima', 'Katherine', 'James', 'Emily', 'Michael', 'Matthew', 'Laura', 'Kevin', 'Jonas'],\n",
        "'score': [12.5, 9, 16.5, np.nan, 9, 20, 14.5, np.nan, 8, 19],\n",
        "'attempts': [1, 3, 2, 3, 2, 3, 1, 1, 2, 1],\n",
        "'qualify': ['yes', 'no', 'yes', 'no', 'no', 'yes', 'yes', 'no', 'no', 'yes']}\n",
        "labels = ['a', 'b', 'c', 'd', 'e', 'f', 'g', labels = ['a', 'b', 'c', 'd', 'e', 'f', 'g', 'h', 'i', 'j']\n",
        "```\n",
        "```\n",
        "Expected Output:\n",
        "Number of attempts in the examination is less than 2 and score greater than 15 :\n",
        "    name  score  attempts qualify\n",
        "j  Jonas   19.0         1     yes\n",
        "\n",
        "```"
      ],
      "metadata": {
        "id": "W6WRzh-uq5Ln"
      }
    },
    {
      "cell_type": "code",
      "source": [
        "xam_data = {'name': ['Anastasia', 'Dima', 'Katherine', 'James', 'Emily', 'Michael', 'Matthew', 'Laura', 'Kevin', 'Jonas'],\n",
        "'score': [12.5, 9, 16.5, np.nan, 9, 20, 14.5, np.nan, 8, 19],\n",
        "'attempts': [1, 3, 2, 3, 2, 3, 1, 1, 2, 1],\n",
        "'qualify': ['yes', 'no', 'yes', 'no', 'no', 'yes', 'yes', 'no', 'no', 'yes']}\n",
        "labels = ['a', 'b', 'c', 'd', 'e', 'f', 'g', 'h', 'i', 'j']\n",
        "\n",
        "d=pd.DataFrame(exam_data,index=labels) # make the data frame using data frame function\n",
        "print(x) # print the data\n",
        "\n",
        "\n",
        "unique=d[(d[\"score\"]>15) & (d[\"attempts\"]<2)] # assesing the out put with simople condition\n",
        "print(\"\\nNumber of attempts in the examination is less than 2 and score greater than 15 :\",unique)"
      ],
      "metadata": {
        "id": "8LDEhGiUq-xT",
        "colab": {
          "base_uri": "https://localhost:8080/"
        },
        "outputId": "5a8c1543-2eeb-4f78-d7a6-288d857da2ed"
      },
      "execution_count": null,
      "outputs": [
        {
          "output_type": "stream",
          "name": "stdout",
          "text": [
            "        name  score  attempts qualify\n",
            "a  Anastasia   12.5         1     yes\n",
            "b       Dima    9.0         3      no\n",
            "c  Katherine   16.5         2     yes\n",
            "d      James    NaN         3      no\n",
            "e      Emily    9.0         2      no\n",
            "f    Michael   20.0         3     yes\n",
            "g    Matthew   14.5         1     yes\n",
            "h      Laura    NaN         1      no\n",
            "i      Kevin    8.0         2      no\n",
            "j      Jonas   19.0         1     yes\n",
            "\n",
            "Number of attempts in the examination is less than 2 and score greater than 15 :     name  score  attempts qualify\n",
            "j  Jonas   19.0         1     yes\n"
          ]
        }
      ]
    },
    {
      "cell_type": "markdown",
      "source": [
        "##10. Write a Pandas program to change the score in row 'd' to 11.5.\n",
        "\n",
        "```\n",
        "Sample Python dictionary data and list labels:\n",
        "exam_data = {'name': ['Anastasia', 'Dima', 'Katherine', 'James', 'Emily', 'Michael', 'Matthew', 'Laura', 'Kevin', 'Jonas'],\n",
        "'score': [12.5, 9, 16.5, np.nan, 9, 20, 14.5, np.nan, 8, 19],\n",
        "'attempts': [1, 3, 2, 3, 2, 3, 1, 1, 2, 1],\n",
        "'qualify': ['yes', 'no', 'yes', 'no', 'no', 'yes', 'yes', 'no', 'no', 'yes']}\n",
        "labels = ['a', 'b', 'c', 'd', 'e', 'f', 'g', 'h', 'i', 'j']\n",
        "\n",
        "```\n",
        "\n",
        "```\n",
        "Expected Output:\n",
        "Change the score in row 'd' to 11.5:                                  \n",
        "   attempts       name qualify  score                                \n",
        "a         1  Anastasia     yes   12.5                               \n",
        "b         3       Dima      no    9.0                                \n",
        "c         2  Katherine     yes   16.5\n",
        "...                                \n",
        "i         2      Kevin      no    8.0                                 \n",
        "j         1      Jonas     yes   19.0\n",
        "\n",
        "```"
      ],
      "metadata": {
        "id": "pUnX1JFJrLmD"
      }
    },
    {
      "cell_type": "code",
      "source": [
        "import numpy as np\n",
        "import pandas as pd\n",
        "\n",
        "exam_data = {'name': ['Anastasia', 'Dima', 'Katherine', 'James', 'Emily', 'Michael', 'Matthew', 'Laura', 'Kevin', 'Jonas'],\n",
        "'score': [12.5, 9, 16.5, np.nan, 9, 20, 14.5, np.nan, 8, 19],\n",
        "'attempts': [1, 3, 2, 3, 2, 3, 1, 1, 2, 1],\n",
        "'qualify': ['yes', 'no', 'yes', 'no', 'no', 'yes', 'yes', 'no', 'no', 'yes']}\n",
        "labels = ['a', 'b', 'c', 'd', 'e', 'f', 'g', 'h', 'i', 'j']\n",
        "\n",
        "x=pd.DataFrame(exam_data,index=labels) # make the data frame using data frame function\n",
        "print(x) # print the data\n",
        "\n",
        "x.loc[[\"d\"],[\"score\"]]=11.5 # using loc function we can change by giving specifucalyyh the column and the index\n",
        "print(\"\\nthe changed DataFrame is :\")\n",
        "print(x)"
      ],
      "metadata": {
        "id": "wxhJfGnarSMH",
        "colab": {
          "base_uri": "https://localhost:8080/"
        },
        "outputId": "5ac6f9da-fd1a-43ad-dbf1-70d1e1c311a7"
      },
      "execution_count": null,
      "outputs": [
        {
          "output_type": "stream",
          "name": "stdout",
          "text": [
            "        name  score  attempts qualify\n",
            "a  Anastasia   12.5         1     yes\n",
            "b       Dima    9.0         3      no\n",
            "c  Katherine   16.5         2     yes\n",
            "d      James    NaN         3      no\n",
            "e      Emily    9.0         2      no\n",
            "f    Michael   20.0         3     yes\n",
            "g    Matthew   14.5         1     yes\n",
            "h      Laura    NaN         1      no\n",
            "i      Kevin    8.0         2      no\n",
            "j      Jonas   19.0         1     yes\n",
            "\n",
            "the changed DataFrame is :\n",
            "        name  score  attempts qualify\n",
            "a  Anastasia   12.5         1     yes\n",
            "b       Dima    9.0         3      no\n",
            "c  Katherine   16.5         2     yes\n",
            "d      James   11.5         3      no\n",
            "e      Emily    9.0         2      no\n",
            "f    Michael   20.0         3     yes\n",
            "g    Matthew   14.5         1     yes\n",
            "h      Laura    NaN         1      no\n",
            "i      Kevin    8.0         2      no\n",
            "j      Jonas   19.0         1     yes\n"
          ]
        }
      ]
    },
    {
      "cell_type": "markdown",
      "source": [
        "##11. Write a Pandas program to calculate the sum of the examination attempts by the students.\n",
        "```\n",
        "Sample Python dictionary data and list labels:\n",
        "exam_data = {'name': ['Anastasia', 'Dima', 'Katherine', 'James', 'Emily', 'Michael', 'Matthew', 'Laura', 'Kevin', 'Jonas'],\n",
        "'score': [12.5, 9, 16.5, np.nan, 9, 20, 14.5, np.nan, 8, 19],\n",
        "'attempts': [1, 3, 2, 3, 2, 3, 1, 1, 2, 1],\n",
        "'qualify': ['yes', 'no', 'yes', 'no', 'no', 'yes', 'yes', 'no', 'no', 'yes']}\n",
        "labels = ['a', 'b', 'c', 'd', 'e', 'f', 'g', 'h', 'i', 'j']\n",
        "```\n",
        "```\n",
        "Expected Output:\n",
        "Sum of the examination attempts by the students:                     \n",
        "19\n",
        "```"
      ],
      "metadata": {
        "id": "AwcBiDaSrTM3"
      }
    },
    {
      "cell_type": "code",
      "source": [
        "import numpy as np\n",
        "import pandas as pd\n",
        "\n",
        "exam_data = {'name': ['Anastasia', 'Dima', 'Katherine', 'James', 'Emily', 'Michael', 'Matthew', 'Laura', 'Kevin', 'Jonas'],\n",
        "'score': [12.5, 9, 16.5, np.nan, 9, 20, 14.5, np.nan, 8, 19],\n",
        "'attempts': [1, 3, 2, 3, 2, 3, 1, 1, 2, 1],\n",
        "'qualify': ['yes', 'no', 'yes', 'no', 'no', 'yes', 'yes', 'no', 'no', 'yes']}\n",
        "labels = ['a', 'b', 'c', 'd', 'e', 'f', 'g', 'h', 'i', 'j']\n",
        "\n",
        "d=pd.DataFrame(exam_data,index=labels) # make the data frame using data frame function\n",
        "print(d) # print the data\n",
        "\n",
        "# Sum the specified column using loc\n",
        "sum_attempts = d.loc[:, \"attempts\"].sum()\n",
        "\n",
        "print(\"\\nthe sum of the total attempts is :\")\n",
        "print(sum_attempts)"
      ],
      "metadata": {
        "id": "G6ebFduRrZ6D",
        "colab": {
          "base_uri": "https://localhost:8080/"
        },
        "outputId": "ecdae05f-fbde-4859-f6d7-9c064267e595"
      },
      "execution_count": null,
      "outputs": [
        {
          "output_type": "stream",
          "name": "stdout",
          "text": [
            "        name  score  attempts qualify\n",
            "a  Anastasia   12.5         1     yes\n",
            "b       Dima    9.0         3      no\n",
            "c  Katherine   16.5         2     yes\n",
            "d      James    NaN         3      no\n",
            "e      Emily    9.0         2      no\n",
            "f    Michael   20.0         3     yes\n",
            "g    Matthew   14.5         1     yes\n",
            "h      Laura    NaN         1      no\n",
            "i      Kevin    8.0         2      no\n",
            "j      Jonas   19.0         1     yes\n",
            "\n",
            "the sum of the total attempts is :\n",
            "19\n"
          ]
        }
      ]
    },
    {
      "cell_type": "markdown",
      "source": [
        "##12. Write a Pandas program to calculate the mean of all students' scores. Data is stored in a dataframe.\n",
        "```\n",
        "Sample Python dictionary data and list labels:\n",
        "exam_data = {'name': ['Anastasia', 'Dima', 'Katherine', 'James', 'Emily', 'Michael', 'Matthew', 'Laura', 'Kevin', 'Jonas'],\n",
        "'score': [12.5, 9, 16.5, np.nan, 9, 20, 14.5, np.nan, 8, 19],\n",
        "'attempts': [1, 3, 2, 3, 2, 3, 1, 1, 2, 1],\n",
        "'qualify': ['yes', 'no', 'yes', 'no', 'no', 'yes', 'yes', 'no', 'no', 'yes']}\n",
        "labels = ['a', 'b', 'c', 'd', 'e', 'f', 'g', 'h', 'i', 'j']\n",
        "```\n",
        "```\n",
        "Expected Output:\n",
        "Mean score for each different student in data frame:                  \n",
        "13.5625\n",
        "```"
      ],
      "metadata": {
        "id": "NCpyXg-Jrfjr"
      }
    },
    {
      "cell_type": "code",
      "source": [
        "import numpy as np\n",
        "import pandas as pd\n",
        "\n",
        "exam_data = {'name': ['Anastasia', 'Dima', 'Katherine', 'James', 'Emily', 'Michael', 'Matthew', 'Laura', 'Kevin', 'Jonas'],\n",
        "'score': [12.5, 9, 16.5, np.nan, 9, 20, 14.5, np.nan, 8, 19],\n",
        "'attempts': [1, 3, 2, 3, 2, 3, 1, 1, 2, 1],\n",
        "'qualify': ['yes', 'no', 'yes', 'no', 'no', 'yes', 'yes', 'no', 'no', 'yes']}\n",
        "labels = ['a', 'b', 'c', 'd', 'e', 'f', 'g', 'h', 'i', 'j']\n",
        "\n",
        "d=pd.DataFrame(exam_data,index=labels) # make the data frame using data frame function\n",
        "print(d) # print the data\n",
        "\n",
        "mean=d.loc[:, \"score\"].mean()\n",
        "print(\"\\nMean score for each different student in data frame: \")\n",
        "print(mean)\n"
      ],
      "metadata": {
        "id": "87dA6nqarop9",
        "colab": {
          "base_uri": "https://localhost:8080/"
        },
        "outputId": "98f7f534-769c-4c74-8c8e-c59b9b0aa79d"
      },
      "execution_count": null,
      "outputs": [
        {
          "output_type": "stream",
          "name": "stdout",
          "text": [
            "        name  score  attempts qualify\n",
            "a  Anastasia   12.5         1     yes\n",
            "b       Dima    9.0         3      no\n",
            "c  Katherine   16.5         2     yes\n",
            "d      James    NaN         3      no\n",
            "e      Emily    9.0         2      no\n",
            "f    Michael   20.0         3     yes\n",
            "g    Matthew   14.5         1     yes\n",
            "h      Laura    NaN         1      no\n",
            "i      Kevin    8.0         2      no\n",
            "j      Jonas   19.0         1     yes\n",
            "\n",
            "Mean score for each different student in data frame: \n",
            "13.5625\n"
          ]
        }
      ]
    },
    {
      "cell_type": "markdown",
      "source": [
        "##13. Write a Pandas program to replace the 'qualify' column contains the values 'yes' and 'no' with True and False.\n",
        "\n",
        "```\n",
        "Sample Python dictionary data and list labels:\n",
        "exam_data = {'name': ['Anastasia', 'Dima', 'Katherine', 'James', 'Emily', 'Michael', 'Matthew', 'Laura', 'Kevin', 'Jonas'],\n",
        "'score': [12.5, 9, 16.5, np.nan, 9, 20, 14.5, np.nan, 8, 19],\n",
        "'attempts': [1, 3, 2, 3, 2, 3, 1, 1, 2, 1],\n",
        "'qualify': ['yes', 'no', 'yes', 'no', 'no', 'yes', 'yes', 'no', 'no', 'yes']}\n",
        "labels = ['a', 'b', 'c', 'd', 'e', 'f', 'g', 'h', 'i', 'j']\n",
        "```\n",
        "\n",
        "```\n",
        "Expected Output:\n",
        "Replace the 'qualify' column contains the values 'yes' and 'no'  with T\n",
        "rue and  False:                                                      \n",
        "   attempts       name  qualify  score                              \n",
        "a         1  Anastasia     True   12.5                          \n",
        "b         3       Dima    False    9.0                              \n",
        "......                           \n",
        "i         2      Kevin    False    8.0                                 \n",
        "j         1      Jonas     True   19.0\n",
        "```"
      ],
      "metadata": {
        "id": "1fZOVLG9sLTo"
      }
    },
    {
      "cell_type": "code",
      "source": [
        "import numpy as np\n",
        "import pandas as pd\n",
        "\n",
        "exam_data = {'name': ['Anastasia', 'Dima', 'Katherine', 'James', 'Emily', 'Michael', 'Matthew', 'Laura', 'Kevin', 'Jonas'],\n",
        "'score': [12.5, 9, 16.5, np.nan, 9, 20, 14.5, np.nan, 8, 19],\n",
        "'attempts': [1, 3, 2, 3, 2, 3, 1, 1, 2, 1],\n",
        "'qualify': ['yes', 'no', 'yes', 'no', 'no', 'yes', 'yes', 'no', 'no', 'yes']}\n",
        "labels = ['a', 'b', 'c', 'd', 'e', 'f', 'g', 'h', 'i', 'j']\n",
        "\n",
        "d=pd.DataFrame(exam_data,index=labels) # make the data frame using data frame function\n",
        "print(d) # print the data\n",
        "\n",
        "d[\"qualify\"]=d[\"qualify\"].replace({\"yes\":\"True\",\"no\":\"False\"}) # we update whole column by replace function\n",
        "print(\"\\nReplace the 'qualify' column contains the values 'yes' and 'no'  with True and  False:\")\n",
        "print(d)"
      ],
      "metadata": {
        "id": "zIup3T_OsRd7",
        "colab": {
          "base_uri": "https://localhost:8080/"
        },
        "outputId": "adcf446b-acae-413d-8b51-24eb3f5f4370"
      },
      "execution_count": null,
      "outputs": [
        {
          "output_type": "stream",
          "name": "stdout",
          "text": [
            "        name  score  attempts qualify\n",
            "a  Anastasia   12.5         1     yes\n",
            "b       Dima    9.0         3      no\n",
            "c  Katherine   16.5         2     yes\n",
            "d      James    NaN         3      no\n",
            "e      Emily    9.0         2      no\n",
            "f    Michael   20.0         3     yes\n",
            "g    Matthew   14.5         1     yes\n",
            "h      Laura    NaN         1      no\n",
            "i      Kevin    8.0         2      no\n",
            "j      Jonas   19.0         1     yes\n",
            "\n",
            "Replace the 'qualify' column contains the values 'yes' and 'no'  with True and  False:\n",
            "        name  score  attempts qualify\n",
            "a  Anastasia   12.5         1    True\n",
            "b       Dima    9.0         3   False\n",
            "c  Katherine   16.5         2    True\n",
            "d      James    NaN         3   False\n",
            "e      Emily    9.0         2   False\n",
            "f    Michael   20.0         3    True\n",
            "g    Matthew   14.5         1    True\n",
            "h      Laura    NaN         1   False\n",
            "i      Kevin    8.0         2   False\n",
            "j      Jonas   19.0         1    True\n"
          ]
        }
      ]
    },
    {
      "cell_type": "markdown",
      "source": [
        "##14. Write a Pandas program to change the name 'James' to 'Suresh' in name column of the DataFrame.\n",
        "\n",
        "```\n",
        "Sample Python dictionary data and list labels:\n",
        "exam_data = {'name': ['Anastasia', 'Dima', 'Katherine', 'James', 'Emily', 'Michael', 'Matthew', 'Laura', 'Kevin', 'Jonas'],\n",
        "'score': [12.5, 9, 16.5, np.nan, 9, 20, 14.5, np.nan, 8, 19],\n",
        "'attempts': [1, 3, 2, 3, 2, 3, 1, 1, 2, 1],\n",
        "'qualify': ['yes', 'no', 'yes', 'no', 'no', 'yes', 'yes', 'no', 'no', 'yes']}\n",
        "labels = ['a', 'b', 'c', 'd', 'e', 'f', 'g', 'h', 'i', 'j']\n",
        "```\n",
        "```\n",
        "Expected Output:\n",
        "Change the name 'James' to \\?Suresh\\?:                                \n",
        "   attempts       name qualify  score                                  \n",
        "a         1  Anastasia     yes   12.5                                  \n",
        "b         3       Dima      no    9.0                                  \n",
        ".......                               \n",
        "i         2      Kevin      no    8.0                                 \n",
        "j         1      Jonas     yes   19.0\n",
        "```"
      ],
      "metadata": {
        "id": "VevSITkvsSH-"
      }
    },
    {
      "cell_type": "code",
      "source": [
        "import numpy as np\n",
        "import pandas as pd\n",
        "\n",
        "exam_data = {'name': ['Anastasia', 'Dima', 'Katherine', 'James', 'Emily', 'Michael', 'Matthew', 'Laura', 'Kevin', 'Jonas'],\n",
        "'score': [12.5, 9, 16.5, np.nan, 9, 20, 14.5, np.nan, 8, 19],\n",
        "'attempts': [1, 3, 2, 3, 2, 3, 1, 1, 2, 1],\n",
        "'qualify': ['yes', 'no', 'yes', 'no', 'no', 'yes', 'yes', 'no', 'no', 'yes']}\n",
        "labels = ['a', 'b', 'c', 'd', 'e', 'f', 'g', 'h', 'i', 'j']\n",
        "\n",
        "d=pd.DataFrame(exam_data,index=labels) # make the data frame using data frame function\n",
        "print(d) # print the data\n",
        "\n",
        "d[\"name\"]=d[\"name\"].replace( 'James','Suresh') # replace function\n",
        "print(\"\\nDataFrame after renaming index 'James' to 'Suresh':\") # print\n",
        "print(d)"
      ],
      "metadata": {
        "id": "GPlad_JGsZuF",
        "colab": {
          "base_uri": "https://localhost:8080/"
        },
        "outputId": "8ebd220d-95df-4396-e60d-81489de7baa7"
      },
      "execution_count": null,
      "outputs": [
        {
          "output_type": "stream",
          "name": "stdout",
          "text": [
            "        name  score  attempts qualify\n",
            "a  Anastasia   12.5         1     yes\n",
            "b       Dima    9.0         3      no\n",
            "c  Katherine   16.5         2     yes\n",
            "d      James    NaN         3      no\n",
            "e      Emily    9.0         2      no\n",
            "f    Michael   20.0         3     yes\n",
            "g    Matthew   14.5         1     yes\n",
            "h      Laura    NaN         1      no\n",
            "i      Kevin    8.0         2      no\n",
            "j      Jonas   19.0         1     yes\n",
            "\n",
            "DataFrame after renaming index 'James' to 'Suresh':\n",
            "        name  score  attempts qualify\n",
            "a  Anastasia   12.5         1     yes\n",
            "b       Dima    9.0         3      no\n",
            "c  Katherine   16.5         2     yes\n",
            "d     Suresh    NaN         3      no\n",
            "e      Emily    9.0         2      no\n",
            "f    Michael   20.0         3     yes\n",
            "g    Matthew   14.5         1     yes\n",
            "h      Laura    NaN         1      no\n",
            "i      Kevin    8.0         2      no\n",
            "j      Jonas   19.0         1     yes\n"
          ]
        }
      ]
    },
    {
      "cell_type": "markdown",
      "source": [
        "##15. Write a Pandas program to delete the 'attempts' column from the DataFrame.\n",
        "```\n",
        "Sample Python dictionary data and list labels:\n",
        "exam_data = {'name': ['Anastasia', 'Dima', 'Katherine', 'James', 'Emily', 'Michael', 'Matthew', 'Laura', 'Kevin', 'Jonas'],\n",
        "'score': [12.5, 9, 16.5, np.nan, 9, 20, 14.5, np.nan, 8, 19],\n",
        "'attempts': [1, 3, 2, 3, 2, 3, 1, 1, 2, 1],\n",
        "'qualify': ['yes', 'no', 'yes', 'no', 'no', 'yes', 'yes', 'no', 'no', 'yes']}\n",
        "labels = ['a', 'b', 'c', 'd', 'e', 'f', 'g', 'h', 'i', 'j']\n",
        "```\n",
        "```\n",
        "Expected Output:\n",
        "Delete the 'attempts' column from the data frame:                    \n",
        "        name qualify  score                                          \n",
        "a  Anastasia     yes   12.5                                           \n",
        "b       Dima      no    9.0                                          \n",
        ".....                                       \n",
        "i      Kevin      no    8.0                                          \n",
        "j      Jonas     yes   19.0\n",
        "```"
      ],
      "metadata": {
        "id": "SOkgCA-XsftL"
      }
    },
    {
      "cell_type": "code",
      "source": [
        "import numpy as np\n",
        "import pandas as pd\n",
        "\n",
        "exam_data = {'name': ['Anastasia', 'Dima', 'Katherine', 'James', 'Emily', 'Michael', 'Matthew', 'Laura', 'Kevin', 'Jonas'],\n",
        "'score': [12.5, 9, 16.5, np.nan, 9, 20, 14.5, np.nan, 8, 19],\n",
        "'attempts': [1, 3, 2, 3, 2, 3, 1, 1, 2, 1],\n",
        "'qualify': ['yes', 'no', 'yes', 'no', 'no', 'yes', 'yes', 'no', 'no', 'yes']}\n",
        "labels = ['a', 'b', 'c', 'd', 'e', 'f', 'g', 'h', 'i', 'j']\n",
        "\n",
        "d=pd.DataFrame(exam_data,index=labels) # make the data frame using data frame function\n",
        "print(d) # print the data\n",
        "\n",
        "p=d.drop(\"attempts\",axis=1) #using drop function we can drop any index or row if the axis =1 we can also drop the column\n",
        "print(\"\\nDelete the 'attempts' column from the data frame:\")\n",
        "print(p)\n",
        "\n"
      ],
      "metadata": {
        "id": "6YhM9w0qsjpQ",
        "colab": {
          "base_uri": "https://localhost:8080/"
        },
        "outputId": "73f37041-7914-4adb-ce18-06501556bf6c"
      },
      "execution_count": null,
      "outputs": [
        {
          "output_type": "stream",
          "name": "stdout",
          "text": [
            "        name  score  attempts qualify\n",
            "a  Anastasia   12.5         1     yes\n",
            "b       Dima    9.0         3      no\n",
            "c  Katherine   16.5         2     yes\n",
            "d      James    NaN         3      no\n",
            "e      Emily    9.0         2      no\n",
            "f    Michael   20.0         3     yes\n",
            "g    Matthew   14.5         1     yes\n",
            "h      Laura    NaN         1      no\n",
            "i      Kevin    8.0         2      no\n",
            "j      Jonas   19.0         1     yes\n",
            "\n",
            "Delete the 'attempts' column from the data frame:\n",
            "        name  score qualify\n",
            "a  Anastasia   12.5     yes\n",
            "b       Dima    9.0      no\n",
            "c  Katherine   16.5     yes\n",
            "d      James    NaN      no\n",
            "e      Emily    9.0      no\n",
            "f    Michael   20.0     yes\n",
            "g    Matthew   14.5     yes\n",
            "h      Laura    NaN      no\n",
            "i      Kevin    8.0      no\n",
            "j      Jonas   19.0     yes\n"
          ]
        }
      ]
    },
    {
      "cell_type": "markdown",
      "source": [
        "##16.  Write a Pandas program to insert a new column in existing DataFrame.\n",
        "\n",
        "```\n",
        "Sample Python dictionary data and list labels:\n",
        "exam_data = {'name': ['Anastasia', 'Dima', 'Katherine', 'James', 'Emily', 'Michael', 'Matthew', 'Laura', 'Kevin', 'Jonas'],\n",
        "'score': [12.5, 9, 16.5, np.nan, 9, 20, 14.5, np.nan, 8, 19],\n",
        "'attempts': [1, 3, 2, 3, 2, 3, 1, 1, 2, 1],\n",
        "'qualify': ['yes', 'no', 'yes', 'no', 'no', 'yes', 'yes', 'no', 'no', 'yes']}\n",
        "labels = ['a', 'b', 'c', 'd', 'e', 'f', 'g', 'h', 'i', 'j']\n",
        "```\n",
        "```\n",
        "Expected Output:\n",
        "New DataFrame after inserting the 'color' column                       \n",
        "   attempts       name qualify  score   color                       \n",
        "a         1  Anastasia     yes   12.5     Red                         \n",
        "b         3       Dima      no    9.0    Blue                        \n",
        ".......                     \n",
        "i         2      Kevin      no    8.0   Green                        \n",
        "j         1      Jonas     yes   19.0     Red\n",
        "```"
      ],
      "metadata": {
        "id": "jMcYKDVqsxwV"
      }
    },
    {
      "cell_type": "code",
      "source": [
        "import numpy as np\n",
        "import pandas as pd\n",
        "\n",
        "exam_data = {'name': ['Anastasia', 'Dima', 'Katherine', 'James', 'Emily', 'Michael', 'Matthew', 'Laura', 'Kevin', 'Jonas'],\n",
        "'score': [12.5, 9, 16.5, np.nan, 9, 20, 14.5, np.nan, 8, 19],\n",
        "'attempts': [1, 3, 2, 3, 2, 3, 1, 1, 2, 1],\n",
        "'qualify': ['yes', 'no', 'yes', 'no', 'no', 'yes', 'yes', 'no', 'no', 'yes']}\n",
        "labels = ['a', 'b', 'c', 'd', 'e', 'f', 'g', 'h', 'i', 'j']\n",
        "\n",
        "f=pd.DataFrame(exam_data,index=labels) # make the data frame using data frame function\n",
        "print(f) # print the data\n",
        "\n",
        "colour=pd.Series(['blue', 'red', 'green', 'yellow', 'orange', 'purple', 'pink', 'brown', 'black', 'white'],index=['a', 'b', 'c', 'd', 'e', 'f', 'g', 'h', 'i', 'j'],name=\"colours\") # define a series of colours\n",
        "print(\"\\nThe new colur column\")\n",
        "print(colour)\n",
        "\n",
        "f[\"colours\"]=colour # add the series to the DataFrame\n",
        "print(\"\\nThe table with new column called colours is added\")\n",
        "print(f)\n"
      ],
      "metadata": {
        "id": "gVRGJuO0s2gS",
        "colab": {
          "base_uri": "https://localhost:8080/"
        },
        "outputId": "83a8202c-621e-455e-cdf6-5c2f7c8628fa"
      },
      "execution_count": null,
      "outputs": [
        {
          "output_type": "stream",
          "name": "stdout",
          "text": [
            "        name  score  attempts qualify\n",
            "a  Anastasia   12.5         1     yes\n",
            "b       Dima    9.0         3      no\n",
            "c  Katherine   16.5         2     yes\n",
            "d      James    NaN         3      no\n",
            "e      Emily    9.0         2      no\n",
            "f    Michael   20.0         3     yes\n",
            "g    Matthew   14.5         1     yes\n",
            "h      Laura    NaN         1      no\n",
            "i      Kevin    8.0         2      no\n",
            "j      Jonas   19.0         1     yes\n",
            "\n",
            "The new colur column\n",
            "a      blue\n",
            "b       red\n",
            "c     green\n",
            "d    yellow\n",
            "e    orange\n",
            "f    purple\n",
            "g      pink\n",
            "h     brown\n",
            "i     black\n",
            "j     white\n",
            "Name: colours, dtype: object\n",
            "\n",
            "The table with new column called colours is added\n",
            "        name  score  attempts qualify colours\n",
            "a  Anastasia   12.5         1     yes    blue\n",
            "b       Dima    9.0         3      no     red\n",
            "c  Katherine   16.5         2     yes   green\n",
            "d      James    NaN         3      no  yellow\n",
            "e      Emily    9.0         2      no  orange\n",
            "f    Michael   20.0         3     yes  purple\n",
            "g    Matthew   14.5         1     yes    pink\n",
            "h      Laura    NaN         1      no   brown\n",
            "i      Kevin    8.0         2      no   black\n",
            "j      Jonas   19.0         1     yes   white\n"
          ]
        }
      ]
    },
    {
      "cell_type": "markdown",
      "source": [
        "##17.  Write a Pandas program to rename columns of a given DataFrame\n",
        "\n",
        "```\n",
        "Sample data:\n",
        "Original DataFrame\n",
        "   col1  col2  col3\n",
        "0     1     4     7\n",
        "1     2     5     8\n",
        "2     3     6     9\n",
        "New DataFrame after renaming columns:\n",
        "   Column1  Column2  Column3\n",
        "0        1        4        7\n",
        "1        2        5        8\n",
        "2        3        6        9\n",
        "```"
      ],
      "metadata": {
        "id": "hfw-zYXNs8P2"
      }
    },
    {
      "cell_type": "code",
      "source": [
        "df=pd.DataFrame(np.array([[1,2,3],[4,5,6],[7,8,9]]),columns=[\" Col1\" ,\" Col2\" , \"Col3\"]) # define the DataFrame\n",
        "print(df) # print the data frame\n",
        "\n",
        "df=df.rename(columns={\" Col1\": \"Column1\", \" Col2\": \"Column2\", \"Col3\": \"Column3\"}) # reaname function is used for renaming the rows and columns\n",
        "\n",
        "print(\"\\nDataFrame after renaming columns:\") # print\n",
        "print(df) #print the DataFrame\n",
        "\n"
      ],
      "metadata": {
        "id": "Mddzpu09s_EU",
        "colab": {
          "base_uri": "https://localhost:8080/"
        },
        "outputId": "503e44df-9d16-41c7-a602-68f7ddfec32f"
      },
      "execution_count": null,
      "outputs": [
        {
          "output_type": "stream",
          "name": "stdout",
          "text": [
            "    Col1   Col2  Col3\n",
            "0      1      2     3\n",
            "1      4      5     6\n",
            "2      7      8     9\n",
            "\n",
            "DataFrame after renaming columns:\n",
            "   Column1  Column2  Column3\n",
            "0        1        2        3\n",
            "1        4        5        6\n",
            "2        7        8        9\n"
          ]
        }
      ]
    },
    {
      "cell_type": "markdown",
      "source": [
        "##18. Write a Pandas program to select rows from a given DataFrame based on values in some columns.\n",
        "```\n",
        "Sample data:\n",
        "Original DataFrame\n",
        "   col1  col2  col3\n",
        "0     1     4     7\n",
        "1     4     5     8\n",
        "2     3     6     9\n",
        "3     4     7     0\n",
        "4     5     8     1\n",
        "Rows for colum1 value == 4\n",
        "   col1  col2  col3\n",
        "1     4     5     8\n",
        "3     4     7     0\n",
        "```"
      ],
      "metadata": {
        "id": "ohV2QQQgtCg4"
      }
    },
    {
      "cell_type": "code",
      "source": [
        "# Define the DataFrame\n",
        "data = {\n",
        "    'col1': [1, 4, 3, 4, 5],\n",
        "    'col2': [4, 5, 6, 7, 8],\n",
        "    'col3': [7, 8, 9, 0, 1]\n",
        "}\n",
        "df = pd.DataFrame(data)\n",
        "print(\"Original DataFrame:\")\n",
        "print(df)  # Print the original DataFrame\n",
        "\n",
        "d=df[df[\"col1\"]==4] # give the condition in square bracket\n",
        "print(\"\\nRows for colum1 value == 4\")\n",
        "print(d)\n"
      ],
      "metadata": {
        "id": "yQ3wBxhztFUi",
        "colab": {
          "base_uri": "https://localhost:8080/"
        },
        "outputId": "39d48bcb-e015-45c5-db70-d114a89a6e65"
      },
      "execution_count": null,
      "outputs": [
        {
          "output_type": "stream",
          "name": "stdout",
          "text": [
            "Original DataFrame:\n",
            "   col1  col2  col3\n",
            "0     1     4     7\n",
            "1     4     5     8\n",
            "2     3     6     9\n",
            "3     4     7     0\n",
            "4     5     8     1\n",
            "\n",
            "Rows for colum1 value == 4\n",
            "   col1  col2  col3\n",
            "1     4     5     8\n",
            "3     4     7     0\n"
          ]
        }
      ]
    },
    {
      "cell_type": "markdown",
      "source": [
        "##19. Write a Pandas program to add one row in an existing DataFrame.\n",
        "\n",
        "```\n",
        "Sample data:\n",
        "Original DataFrame\n",
        "   col1  col2  col3\n",
        "0     1     4     7\n",
        "1     4     5     8\n",
        "2     3     6     9\n",
        "3     4     7     0\n",
        "4     5     8     1\n",
        "After add one row:\n",
        "   col1  col2  col3\n",
        "0     1     4     7\n",
        "1     4     5     8\n",
        "2     3     6     9\n",
        "3     4     7     0\n",
        "4     5     8     1\n",
        "5    10    11    12\n",
        "```"
      ],
      "metadata": {
        "id": "TWHWrlCVtOCr"
      }
    },
    {
      "cell_type": "code",
      "source": [
        "# Define the DataFrame\n",
        "data = {\n",
        "    'col1': [1, 4, 3, 4, 5],\n",
        "    'col2': [4, 5, 6, 7, 8],\n",
        "    'col3': [7, 8, 9, 0, 1]\n",
        "}\n",
        "df = pd.DataFrame(data)\n",
        "print(\"Original DataFrame:\")\n",
        "print(df)  # Print the original DataFrame\n",
        "\n",
        "df.loc[len(df)]=[10,11,12] # using loc function we can add the data frame\n",
        "print(\"\\nAfter add one row:\") # print\n",
        "print(df) # print the DatFrame"
      ],
      "metadata": {
        "id": "psVnuNJvtQ8d",
        "colab": {
          "base_uri": "https://localhost:8080/"
        },
        "outputId": "321144a1-7a49-4dcb-fe86-93e637793e39"
      },
      "execution_count": null,
      "outputs": [
        {
          "output_type": "stream",
          "name": "stdout",
          "text": [
            "Original DataFrame:\n",
            "   col1  col2  col3\n",
            "0     1     4     7\n",
            "1     4     5     8\n",
            "2     3     6     9\n",
            "3     4     7     0\n",
            "4     5     8     1\n",
            "\n",
            "After add one row:\n",
            "   col1  col2  col3\n",
            "0     1     4     7\n",
            "1     4     5     8\n",
            "2     3     6     9\n",
            "3     4     7     0\n",
            "4     5     8     1\n",
            "5    10    11    12\n"
          ]
        }
      ]
    },
    {
      "cell_type": "markdown",
      "source": [
        "##20. Write a Pandas program to replace all the NaN values with Zero's in a column of a dataframe.\n",
        "\n",
        "```\n",
        "Sample data:\n",
        "Original DataFrame\n",
        "\n",
        "   attempts       name qualify  score\n",
        "0         1  Anastasia     yes   12.5\n",
        "1         3       Dima      no    9.0\n",
        "2         2  Katherine     yes   16.5\n",
        ".....\n",
        "8         2      Kevin      no    8.0\n",
        "9         1      Jonas     yes   19.0\n",
        "\n",
        "```\n",
        "```\n",
        "\n",
        "New DataFrame replacing all NaN with 0:\n",
        "   attempts       name qualify  score\n",
        "0         1  Anastasia     yes   12.5\n",
        "1         3       Dima      no    9.0\n",
        "2         2  Katherine     yes   16.5\n",
        ".....\n",
        "8         2      Kevin      no    8.0\n",
        "9         1      Jonas     yes   19.0\n",
        "```"
      ],
      "metadata": {
        "id": "5UFVkEYMteus"
      }
    },
    {
      "cell_type": "code",
      "source": [
        "import numpy as np\n",
        "import pandas as pd\n",
        "\n",
        "exam_data = {'name': ['Anastasia', 'Dima', 'Katherine', 'James', 'Emily', 'Michael', 'Matthew', 'Laura', 'Kevin', 'Jonas'],\n",
        "'score': [12.5, 9, 16.5, np.nan, 9, 20, 14.5, np.nan, 8, 19],\n",
        "'attempts': [1, 3, 2, 3, 2, 3, 1, 1, 2, 1],\n",
        "'qualify': ['yes', 'no', 'yes', 'no', 'no', 'yes', 'yes', 'no', 'no', 'yes']}\n",
        "labels = ['a', 'b', 'c', 'd', 'e', 'f', 'g', 'h', 'i', 'j']\n",
        "\n",
        "f=pd.DataFrame(exam_data,index=labels) # make the data frame using data frame function\n",
        "print(f) # print the data\n",
        "\n",
        "p=f.fillna(\"ZEROES\") # fillna dunction is used for replacing na or null values\n",
        "print(\"\\nNew DataFrame replacing all NaN with 0:\")\n",
        "print(p)"
      ],
      "metadata": {
        "id": "GII1oSuNtjX7",
        "colab": {
          "base_uri": "https://localhost:8080/"
        },
        "outputId": "2c9a1762-e266-4a34-f4a9-5080f98c6439"
      },
      "execution_count": null,
      "outputs": [
        {
          "output_type": "stream",
          "name": "stdout",
          "text": [
            "        name  score  attempts qualify\n",
            "a  Anastasia   12.5         1     yes\n",
            "b       Dima    9.0         3      no\n",
            "c  Katherine   16.5         2     yes\n",
            "d      James    NaN         3      no\n",
            "e      Emily    9.0         2      no\n",
            "f    Michael   20.0         3     yes\n",
            "g    Matthew   14.5         1     yes\n",
            "h      Laura    NaN         1      no\n",
            "i      Kevin    8.0         2      no\n",
            "j      Jonas   19.0         1     yes\n",
            "\n",
            "New DataFrame replacing all NaN with 0:\n",
            "        name   score  attempts qualify\n",
            "a  Anastasia    12.5         1     yes\n",
            "b       Dima     9.0         3      no\n",
            "c  Katherine    16.5         2     yes\n",
            "d      James  ZEROES         3      no\n",
            "e      Emily     9.0         2      no\n",
            "f    Michael    20.0         3     yes\n",
            "g    Matthew    14.5         1     yes\n",
            "h      Laura  ZEROES         1      no\n",
            "i      Kevin     8.0         2      no\n",
            "j      Jonas    19.0         1     yes\n"
          ]
        }
      ]
    },
    {
      "cell_type": "markdown",
      "source": [
        "##21. Write a Pandas program to count the NaN values in one or more columns in DataFrame.\n",
        "```\n",
        "Sample data:\n",
        "Original DataFrame\n",
        "   attempts       name qualify  score\n",
        "0         1  Anastasia     yes   12.5\n",
        "1         3       Dima      no    9.0\n",
        "2         2  Katherine     yes   16.5\n",
        "3         3      James      no    NaN\n",
        "4         2      Emily      no    9.0\n",
        "5         3    Michael     yes   20.0\n",
        "6         1    Matthew     yes   14.5\n",
        "7         1      Laura      no    NaN\n",
        "8         2      Kevin      no    8.0\n",
        "9         1      Jonas     yes   19.0\n",
        "\n",
        "Number of NaN values in one or more columns:\n",
        "2\n",
        "\n",
        "```"
      ],
      "metadata": {
        "id": "i8CfYSH_tp71"
      }
    },
    {
      "cell_type": "code",
      "source": [
        "import numpy as np\n",
        "import pandas as pd\n",
        "\n",
        "exam_data = {'name': ['Anastasia', 'Dima', 'Katherine', 'James', 'Emily', 'Michael', 'Matthew', 'Laura', 'Kevin', 'Jonas'],\n",
        "'score': [12.5, 9, 16.5, np.nan, 9, 20, 14.5, np.nan, 8, 19],\n",
        "'attempts': [1, 3, 2, 3, 2, 3, 1, 1, 2, 1],\n",
        "'qualify': ['yes', 'no', 'yes', 'no', 'no', 'yes', 'yes', 'no', 'no', 'yes']}\n",
        "labels = ['a', 'b', 'c', 'd', 'e', 'f', 'g', 'h', 'i', 'j']\n",
        "\n",
        "f=pd.DataFrame(exam_data,index=labels) # make the data frame using data frame function\n",
        "print(f) # print the data\n",
        "\n",
        "\n",
        "num_na=f.isna().sum().sum() # using isna function we can easily\n",
        "print(f'\\nTotal number of NA values: {num_na}') # print the result"
      ],
      "metadata": {
        "id": "TBmRXqHAttfw",
        "colab": {
          "base_uri": "https://localhost:8080/"
        },
        "outputId": "d1c66b56-7f19-4af9-ec63-4da9a0790edb"
      },
      "execution_count": null,
      "outputs": [
        {
          "output_type": "stream",
          "name": "stdout",
          "text": [
            "        name  score  attempts qualify\n",
            "a  Anastasia   12.5         1     yes\n",
            "b       Dima    9.0         3      no\n",
            "c  Katherine   16.5         2     yes\n",
            "d      James    NaN         3      no\n",
            "e      Emily    9.0         2      no\n",
            "f    Michael   20.0         3     yes\n",
            "g    Matthew   14.5         1     yes\n",
            "h      Laura    NaN         1      no\n",
            "i      Kevin    8.0         2      no\n",
            "j      Jonas   19.0         1     yes\n",
            "\n",
            "Total number of NA values: 2\n"
          ]
        }
      ]
    },
    {
      "cell_type": "markdown",
      "source": [
        "##22. Write a Pandas program to drop a list of rows from a specified DataFrame.\n",
        "```\n",
        "Sample data:\n",
        "Original DataFrame\n",
        "   col1  col2  col3\n",
        "0     1     4     7\n",
        "1     4     5     8\n",
        "2     3     6     9\n",
        "3     4     7     0\n",
        "4     5     8     1\n",
        "\n",
        "\n",
        "New DataFrame after removing 2nd & 4th rows:\n",
        "   col1  col2  col3\n",
        "0     1     4     7\n",
        "1     4     5     8\n",
        "3     4     7     0\n",
        "```"
      ],
      "metadata": {
        "id": "Rg1rIYUftyLY"
      }
    },
    {
      "cell_type": "code",
      "source": [
        "# Define the DataFrame\n",
        "data = {\n",
        "    'col1': [1, 4, 3, 4, 5],\n",
        "    'col2': [4, 5, 6, 7, 8],\n",
        "    'col3': [7, 8, 9, 0, 1]\n",
        "}\n",
        "df = pd.DataFrame(data)\n",
        "print(\"Original DataFrame:\")\n",
        "print(df)  # Print the original DataFrame\n",
        "\n",
        "l=df.drop([4,2]) # using drop function we can drop multiples rows and columns\n",
        "print(\"\\nNew DataFrame after removing 2nd & 4th rows:\")\n",
        "print(l)"
      ],
      "metadata": {
        "id": "zKC7OCAXt1rB",
        "colab": {
          "base_uri": "https://localhost:8080/"
        },
        "outputId": "50ac3cfe-9431-4f9a-867d-29f5980e0b35"
      },
      "execution_count": null,
      "outputs": [
        {
          "output_type": "stream",
          "name": "stdout",
          "text": [
            "Original DataFrame:\n",
            "   col1  col2  col3\n",
            "0     1     4     7\n",
            "1     4     5     8\n",
            "2     3     6     9\n",
            "3     4     7     0\n",
            "4     5     8     1\n",
            "\n",
            "New DataFrame after removing 2nd & 4th rows:\n",
            "   col1  col2  col3\n",
            "0     1     4     7\n",
            "1     4     5     8\n",
            "3     4     7     0\n"
          ]
        }
      ]
    },
    {
      "cell_type": "markdown",
      "source": [
        "##23. . Write a Pandas program to convert DataFrame column type from string to datetime.\n",
        "\n",
        "```\n",
        "\n",
        "Sample data:\n",
        "String Date:\n",
        "0    3/11/2000\n",
        "1    3/12/2000\n",
        "2    3/13/2000\n",
        "dtype: object\n",
        "\n",
        "\n",
        "Original DataFrame (string to datetime):\n",
        "           0\n",
        "0 2000-03-11\n",
        "1 2000-03-12\n",
        "2 2000-03-13\n",
        "```"
      ],
      "metadata": {
        "id": "jZ1dWICquCd5"
      }
    },
    {
      "cell_type": "code",
      "source": [
        "#create the DataFrame\n",
        "\n",
        "dates=[\"3/11/2000\",\"3/12/2000\",\"3/13/2000\"]\n",
        "d=pd.DataFrame(dates,columns=[\"Dates\"])\n",
        "print(d)\n",
        "\n",
        "# using function convert the DataFrame\n",
        "d['Dates'] = pd.to_datetime(d['Dates'], format='%m/%d/%Y') #to datetime funccction is used for conversion\n",
        "print(\"\\nDataFrame after converting to datetime:\") # print the\n",
        "print(d)\n"
      ],
      "metadata": {
        "id": "UkAHlL6vuGvG",
        "colab": {
          "base_uri": "https://localhost:8080/"
        },
        "outputId": "ca7d00f6-a7fd-4a9d-e886-ba0a26bea5ca"
      },
      "execution_count": null,
      "outputs": [
        {
          "output_type": "stream",
          "name": "stdout",
          "text": [
            "       Dates\n",
            "0  3/11/2000\n",
            "1  3/12/2000\n",
            "2  3/13/2000\n",
            "\n",
            "DataFrame after converting to datetime:\n",
            "       Dates\n",
            "0 2000-03-11\n",
            "1 2000-03-12\n",
            "2 2000-03-13\n"
          ]
        }
      ]
    },
    {
      "cell_type": "markdown",
      "source": [
        "##24. Write a Pandas program to find the row for where the value of a given column is maximum.\n",
        "\n",
        "```\n",
        "Sample Output:\n",
        "Original DataFrame\n",
        "   col1  col2  col3\n",
        "0     1     4     7\n",
        "1     2     5     8\n",
        "2     3     6    12\n",
        "3     4     9     1\n",
        "4     7     5    11\n",
        "Row where col1 has maximum value:\n",
        "4\n",
        "Row where col2 has maximum value:\n",
        "3\n",
        "Row where col3 has maximum value:\n",
        "2\n",
        "```"
      ],
      "metadata": {
        "id": "1WjOTutIuNFr"
      }
    },
    {
      "cell_type": "code",
      "source": [
        "# create the database\n",
        "\n",
        "num={\"col1\":[1,2,3,4,7],\n",
        "     \"col2\":[4,5,6,9,5],\n",
        "     \"col3\":[7,8,12,1,11]\n",
        "     }\n",
        "\n",
        "numbers=pd.DataFrame(num)\n",
        "print(numbers) # print the DataFramen\n",
        "\n",
        "\n",
        "# Find row index where each column has the maximum value\n",
        "max_index1 = numbers['col1'].idxmax()\n",
        "max_index2 = numbers['col2'].idxmax() # idxmax function in Pandas to find the rows where each column in a DataFrame has its maximum value\n",
        "max_index3 = numbers['col3'].idxmax()\n",
        "\n",
        "\n",
        "print(\"\\nRow where col1 has maximum value:\")\n",
        "print(max_index1)\n",
        "\n",
        "print(\"Row where col2 has maximum value:\")\n",
        "print(max_index2)\n",
        "\n",
        "print(\"Row where col3 has maximum value:\")\n",
        "print(max_index3)\n",
        "\n"
      ],
      "metadata": {
        "id": "arfeSzUDuPPx",
        "colab": {
          "base_uri": "https://localhost:8080/"
        },
        "outputId": "cd7f2cbb-1a6c-4774-8641-422d273e7d1a"
      },
      "execution_count": null,
      "outputs": [
        {
          "output_type": "stream",
          "name": "stdout",
          "text": [
            "   col1  col2  col3\n",
            "0     1     4     7\n",
            "1     2     5     8\n",
            "2     3     6    12\n",
            "3     4     9     1\n",
            "4     7     5    11\n",
            "\n",
            "Row where col1 has maximum value:\n",
            "4\n",
            "Row where col2 has maximum value:\n",
            "3\n",
            "Row where col3 has maximum value:\n",
            "2\n"
          ]
        }
      ]
    },
    {
      "cell_type": "markdown",
      "source": [
        "##25. Write a Pandas program to get the datatypes of columns of a DataFrame.\n",
        "\n",
        "```\n",
        "Sample data:\n",
        "Original DataFrame:\n",
        "   attempts       name qualify  score\n",
        "0         1  Anastasia     yes   12.5\n",
        "1         3       Dima      no    9.0\n",
        ".......\n",
        "8         2      Kevin      no    8.0\n",
        "9         1      Jonas     yes   19.0\n",
        "Data types of the columns of the said DataFrame:\n",
        "attempts      int64\n",
        "name         object\n",
        "qualify      object\n",
        "score       float64\n",
        "dtype: object\n",
        "```"
      ],
      "metadata": {
        "id": "aoGo3biQuUyd"
      }
    },
    {
      "cell_type": "code",
      "source": [
        "import numpy as np\n",
        "import pandas as pd\n",
        "\n",
        "exam_data = {'name': ['Anastasia', 'Dima', 'Katherine', 'James', 'Emily', 'Michael', 'Matthew', 'Laura', 'Kevin', 'Jonas'],\n",
        "'score': [12.5, 9, 16.5, np.nan, 9, 20, 14.5, np.nan, 8, 19],\n",
        "'attempts': [1, 3, 2, 3, 2, 3, 1, 1, 2, 1],\n",
        "'qualify': ['yes', 'no', 'yes', 'no', 'no', 'yes', 'yes', 'no', 'no', 'yes']}\n",
        "labels = ['a', 'b', 'c', 'd', 'e', 'f', 'g', 'h', 'i', 'j']\n",
        "\n",
        "l=pd.DataFrame(exam_data,index=labels) # make the data frame using data frame function\n",
        "print(l) # print the data\n",
        "\n",
        "\n",
        "# Find the data types of the columns\n",
        "print(\"\\nData types of the columns:\")\n",
        "print(l.dtypes)"
      ],
      "metadata": {
        "id": "FCy0tW-JuXIn",
        "colab": {
          "base_uri": "https://localhost:8080/"
        },
        "outputId": "d910ed74-2793-4115-b983-3561be001701"
      },
      "execution_count": null,
      "outputs": [
        {
          "output_type": "stream",
          "name": "stdout",
          "text": [
            "        name  score  attempts qualify\n",
            "a  Anastasia   12.5         1     yes\n",
            "b       Dima    9.0         3      no\n",
            "c  Katherine   16.5         2     yes\n",
            "d      James    NaN         3      no\n",
            "e      Emily    9.0         2      no\n",
            "f    Michael   20.0         3     yes\n",
            "g    Matthew   14.5         1     yes\n",
            "h      Laura    NaN         1      no\n",
            "i      Kevin    8.0         2      no\n",
            "j      Jonas   19.0         1     yes\n",
            "\n",
            "Data types of the columns:\n",
            "name         object\n",
            "score       float64\n",
            "attempts      int64\n",
            "qualify      object\n",
            "dtype: object\n"
          ]
        }
      ]
    },
    {
      "cell_type": "markdown",
      "source": [
        "##26. Write a Pandas program to group by the first column and get second column as lists in rows.\n",
        "\n",
        "```\n",
        "Sample data:\n",
        "Original DataFrame\n",
        "col1 col2\n",
        "0 C1 1\n",
        "1 C1 2\n",
        "2 C2 3\n",
        "3 C2 3\n",
        "4 C2 4\n",
        "5 C3 6\n",
        "6 C2 5\n",
        "\n",
        "\n",
        "Group on the col1:\n",
        "col1\n",
        "C1 [1, 2]\n",
        "C2 [3, 3, 4, 5]\n",
        "C3 [6]\n",
        "Name: col2, dtype: object\n",
        "```"
      ],
      "metadata": {
        "id": "KBMjpEeOue8v"
      }
    },
    {
      "cell_type": "code",
      "source": [
        "# Sample data\n",
        "data = {\n",
        "    'col1': ['C1', 'C1', 'C2', 'C2', 'C2', 'C3', 'C2'],\n",
        "    'col2': [1, 2, 3, 3, 4, 6, 5]\n",
        "}\n",
        "\n",
        "df = pd.DataFrame(data)\n",
        "print(\"Original DataFrame:\")\n",
        "print(df)\n",
        "\n",
        "# Group by 'col1' and aggregate 'col2' into lists\n",
        "grouped_df = df.groupby('col1').agg(list) # group the first column and make the agg the second column to list\n",
        "print(\"\\nGrouped DataFrame:\")\n",
        "print(grouped_df)\n",
        "\n"
      ],
      "metadata": {
        "id": "sgka6sYjuiuS",
        "colab": {
          "base_uri": "https://localhost:8080/"
        },
        "outputId": "67dc5805-db6d-4dcf-cc20-850e5ffd6874"
      },
      "execution_count": null,
      "outputs": [
        {
          "output_type": "stream",
          "name": "stdout",
          "text": [
            "Original DataFrame:\n",
            "  col1  col2\n",
            "0   C1     1\n",
            "1   C1     2\n",
            "2   C2     3\n",
            "3   C2     3\n",
            "4   C2     4\n",
            "5   C3     6\n",
            "6   C2     5\n",
            "\n",
            "Grouped DataFrame:\n",
            "              col2\n",
            "col1              \n",
            "C1          [1, 2]\n",
            "C2    [3, 3, 4, 5]\n",
            "C3             [6]\n"
          ]
        }
      ]
    },
    {
      "cell_type": "markdown",
      "source": [
        "##27  Write a Pandas program to count number of columns of a DataFrame.\n",
        "\n",
        "```\n",
        "Sample Output:\n",
        "Original DataFrame\n",
        "  col1 col2 col3\n",
        "0  1    4   7\n",
        "1  2    5   8\n",
        "2  3    6   12\n",
        "3  4    9   1\n",
        "4  7    5   11\n",
        "\n",
        "Number of columns:\n",
        "3\n",
        "```"
      ],
      "metadata": {
        "id": "40Z4J_oMurA8"
      }
    },
    {
      "cell_type": "code",
      "source": [
        "# create the database\n",
        "\n",
        "num={\"col1\":[1,2,3,4,7],\n",
        "     \"col2\":[4,5,6,9,5],\n",
        "     \"col3\":[7,8,12,1,11]\n",
        "     }\n",
        "\n",
        "numbers=pd.DataFrame(num)\n",
        "print(numbers) # print the DataFramen\n",
        "\n",
        "\n",
        "print(\"\\nNumber of columns:\")\n",
        "numbers.shape[1] # shape attribut is for findung the number of rows and columns [0] for row and [1 for column]"
      ],
      "metadata": {
        "id": "lOUFqUeHuvLp",
        "colab": {
          "base_uri": "https://localhost:8080/"
        },
        "outputId": "b0645ecd-8f9f-4a29-b00c-0c9e04734a60"
      },
      "execution_count": 16,
      "outputs": [
        {
          "output_type": "stream",
          "name": "stdout",
          "text": [
            "   col1  col2  col3\n",
            "0     1     4     7\n",
            "1     2     5     8\n",
            "2     3     6    12\n",
            "3     4     9     1\n",
            "4     7     5    11\n",
            "\n",
            "Number of columns:\n"
          ]
        },
        {
          "output_type": "execute_result",
          "data": {
            "text/plain": [
              "3"
            ]
          },
          "metadata": {},
          "execution_count": 16
        }
      ]
    },
    {
      "cell_type": "markdown",
      "source": [
        "##28.  Write a Pandas program to get first n records of a DataFrame.\n",
        "\n",
        "```\n",
        "Sample Output:\n",
        "Original DataFrame\n",
        "col1 col2 col3\n",
        "0 1 4 7\n",
        "1 2 5 5\n",
        "2 3 6 8\n",
        "3 4 9 12\n",
        "4 7 5 1\n",
        "5 11 0 11\n",
        "\n",
        "First 3 rows of the said DataFrame':\n",
        "col1 col2 col3\n",
        "0 1 4 7\n",
        "1 2 5 5\n",
        "2 3 6 8\n",
        "```\n"
      ],
      "metadata": {
        "id": "0ubM3981vg4v"
      }
    },
    {
      "cell_type": "code",
      "source": [
        "# create the database\n",
        "\n",
        "num={\"col1\":[1,2,3,4,7,11],\n",
        "     \"col2\":[4,5,6,9,5,0],\n",
        "     \"col3\":[7,5,8,12,1,11,]\n",
        "     }\n",
        "\n",
        "numbers=pd.DataFrame(num)\n",
        "print(numbers) # print the DataFramen\n",
        "\n",
        "# head function is used for first n columns\n",
        "first_3=numbers.head(3)\n",
        "print(\"\\nThe first 3 rows of numbers\")\n",
        "print(first_3)"
      ],
      "metadata": {
        "id": "tF2RrjuWvkU3",
        "colab": {
          "base_uri": "https://localhost:8080/"
        },
        "outputId": "9058209f-8ca2-451d-fb57-91f3603337ef"
      },
      "execution_count": 20,
      "outputs": [
        {
          "output_type": "stream",
          "name": "stdout",
          "text": [
            "   col1  col2  col3\n",
            "0     1     4     7\n",
            "1     2     5     5\n",
            "2     3     6     8\n",
            "3     4     9    12\n",
            "4     7     5     1\n",
            "5    11     0    11\n",
            "\n",
            "The first 3 rows of numbers\n",
            "   col1  col2  col3\n",
            "0     1     4     7\n",
            "1     2     5     5\n",
            "2     3     6     8\n"
          ]
        }
      ]
    },
    {
      "cell_type": "markdown",
      "source": [
        "##29. Write a Pandas program to get last n records of a DataFrame.\n",
        "\n",
        "```\n",
        "Sample Output:\n",
        "Original DataFrame\n",
        "col1 col2 col3\n",
        "0 1 4 7\n",
        "1 2 5 5\n",
        "2 3 6 8\n",
        "3 4 9 12\n",
        "4 7 5 1\n",
        "5 11 0 11\n",
        "\n",
        "Last 3 rows of the said DataFrame':\n",
        "col1 col2 col3\n",
        "3 4 9 12\n",
        "4 7 5 1\n",
        "5 11 0 11\n",
        "```"
      ],
      "metadata": {
        "id": "HYe8IeZcvnBM"
      }
    },
    {
      "cell_type": "code",
      "source": [
        " #create the database\n",
        "\n",
        "num={\"col1\":[1,2,3,4,7,11],\n",
        "     \"col2\":[4,5,6,9,5,0],\n",
        "     \"col3\":[7,5,8,12,1,11,]\n",
        "     }\n",
        "\n",
        "numbers=pd.DataFrame(num)\n",
        "\n",
        "x=numbers.tail(3) # head function will give the first 5 rows(default) we can change it\n",
        "print(\"\\nLast 3 rows of the said DataFrame'\")\n",
        "print(x)"
      ],
      "metadata": {
        "id": "uF1krIWivqOZ",
        "colab": {
          "base_uri": "https://localhost:8080/"
        },
        "outputId": "732fe390-5364-4009-d4c5-b6fb78a6cd33"
      },
      "execution_count": 25,
      "outputs": [
        {
          "output_type": "stream",
          "name": "stdout",
          "text": [
            "\n",
            "Last 3 rows of the said DataFrame'\n",
            "   col1  col2  col3\n",
            "3     4     9    12\n",
            "4     7     5     1\n",
            "5    11     0    11\n"
          ]
        }
      ]
    },
    {
      "cell_type": "markdown",
      "source": [
        "##30.  Write a Pandas program to get topmost n records within each group of a DataFrame.\n",
        "\n",
        "```\n",
        "Sample Output:\n",
        "Original DataFrame\n",
        "col1 col2 col3\n",
        "0 1 4 7\n",
        "1 2 5 5\n",
        "2 3 6 8\n",
        "3 4 9 12\n",
        "4 7 5 1\n",
        "5 11 0 11\n",
        "\n",
        "```\n",
        "```\n",
        "topmost n records within each group of a DataFrame:\n",
        "col1 col2 col3\n",
        "5 11 0 11\n",
        "4 7 5 1\n",
        "3 4 9 12\n",
        "col1 col2 col3\n",
        "3 4 9 12\n",
        "2 3 6 8\n",
        "1 2 5 5\n",
        "4 7 5 1\n",
        "col1 col2 col3\n",
        "3 4 9 12\n",
        "5 11 0 11\n",
        "2 3 6 8\n",
        "```"
      ],
      "metadata": {
        "id": "EqqWIAyEvvvQ"
      }
    },
    {
      "cell_type": "code",
      "source": [
        "# create the database\n",
        "\n",
        "num={\"col1\":[1,2,3,4,7,11],\n",
        "     \"col2\":[4,5,6,9,5,0],\n",
        "     \"col3\":[7,5,8,12,1,11,]\n",
        "     }\n",
        "\n",
        "data=pd.DataFrame(num)\n",
        "print(data)\n",
        "\n",
        "# Selecting topmost records\n",
        "l1 = datas.nlargest(3, 'col1')\n",
        "print(\"\\nTopmost n records within each group of a DataFrame:\")\n",
        "print(l1)\n",
        "\n",
        "l2 = datas.nlargest(4, 'col2')\n",
        "print(\"\\nTopmost n records within each group of a DataFrame:\")\n",
        "print(l2)\n",
        "\n",
        "l3 = datas.nlargest(3, 'col3')\n",
        "print(\"\\nTopmost n records within each group of a DataFrame:\")\n",
        "print(l3)\n"
      ],
      "metadata": {
        "id": "FhFjzbvivzr8",
        "colab": {
          "base_uri": "https://localhost:8080/"
        },
        "outputId": "e387dcdb-884e-42dd-dd13-c713eea59b23"
      },
      "execution_count": 33,
      "outputs": [
        {
          "output_type": "stream",
          "name": "stdout",
          "text": [
            "   col1  col2  col3\n",
            "0     1     4     7\n",
            "1     2     5     5\n",
            "2     3     6     8\n",
            "3     4     9    12\n",
            "4     7     5     1\n",
            "5    11     0    11\n",
            "\n",
            "Topmost n records within each group of a DataFrame:\n",
            "   col1  col2  col3\n",
            "5    11     0    11\n",
            "4     7     5     1\n",
            "3     4     9    12\n",
            "\n",
            "Topmost n records within each group of a DataFrame:\n",
            "   col1  col2  col3\n",
            "3     4     9    12\n",
            "2     3     6     8\n",
            "1     2     5     5\n",
            "4     7     5     1\n",
            "\n",
            "Topmost n records within each group of a DataFrame:\n",
            "   col1  col2  col3\n",
            "3     4     9    12\n",
            "5    11     0    11\n",
            "2     3     6     8\n"
          ]
        }
      ]
    },
    {
      "cell_type": "markdown",
      "source": [
        "##31. Write a Pandas program to add a prefix or suffix to all columns of a given DataFrame.\n",
        "\n",
        "```\n",
        "Sample Output:\n",
        "Original DataFrame\n",
        "W X Y Z\n",
        "0 68 78 84 86\n",
        "1 75 85 94 97\n",
        "2 86 96 89 96\n",
        "3 80 80 83 72\n",
        "4 66 86 86 83\n",
        "\n",
        "Add prefix:\n",
        "A_W A_X A_Y A_Z\n",
        "0 68 78 84 86\n",
        "1 75 85 94 97\n",
        "2 86 96 89 96\n",
        "3 80 80 83 72\n",
        "4 66 86 86 83\n",
        "\n",
        "Add suffix:\n",
        "W_1 X_1 Y_1 Z_1\n",
        "0 68 78 84 86\n",
        "1 75 85 94 97\n",
        "2 86 96 89 96\n",
        "3 80 80 83 72\n",
        "4 66 86 86 83\n",
        "\n",
        "```"
      ],
      "metadata": {
        "id": "cwpL5p29v-In"
      }
    },
    {
      "cell_type": "code",
      "source": [
        "# createv dataframe\n",
        "\n",
        "t={'w':[68,75,86,80,66],\n",
        "       \"x\":[78,85,96,80,86],\n",
        "       \"y\":[84,94,89,83,86],\n",
        "       \"z\":[86,97,96,72,83]}\n",
        "\n",
        "table=pd.DataFrame(t)\n",
        "print(table)\n",
        "\n",
        "# Add prefix\n",
        "prefix = table.add_prefix('A_')\n",
        "print(\"\\nAdd prefix:\")\n",
        "print(prefix)\n",
        "\n",
        "# Add suffix\n",
        "suffix = table.add_suffix('_1')\n",
        "print(\"\\nAdd suffix:\")\n",
        "print(suffix)\n"
      ],
      "metadata": {
        "id": "mNnAlSh4wBoU",
        "colab": {
          "base_uri": "https://localhost:8080/"
        },
        "outputId": "9c8e1b65-ccf5-438b-fe0e-4069b74b0a36"
      },
      "execution_count": 36,
      "outputs": [
        {
          "output_type": "stream",
          "name": "stdout",
          "text": [
            "    w   x   y   z\n",
            "0  68  78  84  86\n",
            "1  75  85  94  97\n",
            "2  86  96  89  96\n",
            "3  80  80  83  72\n",
            "4  66  86  86  83\n",
            "\n",
            "Add prefix:\n",
            "   A_w  A_x  A_y  A_z\n",
            "0   68   78   84   86\n",
            "1   75   85   94   97\n",
            "2   86   96   89   96\n",
            "3   80   80   83   72\n",
            "4   66   86   86   83\n",
            "\n",
            "Add suffix:\n",
            "   w_1  x_1  y_1  z_1\n",
            "0   68   78   84   86\n",
            "1   75   85   94   97\n",
            "2   86   96   89   96\n",
            "3   80   80   83   72\n",
            "4   66   86   86   83\n"
          ]
        }
      ]
    },
    {
      "cell_type": "markdown",
      "source": [
        "##32. Write a Pandas program to convert continuous values of a column in a given DataFrame to categorical.\n",
        "```\n",
        "Input:\n",
        "{ 'Name': ['Alberto Franco','Gino Mcneill','Ryan Parkes', 'Eesha Hinton', 'Syed Wharton'],\n",
        "'Age': [18, 22, 40, 50, 80, 5] }\n",
        "\n",
        "\n",
        "Output:\n",
        "Age group:\n",
        "0 kids\n",
        "1 adult\n",
        "2 elderly\n",
        "3 adult\n",
        "4 elderly\n",
        "5 kids\n",
        "Name: age_groups, dtype: category\n",
        "Categories (3, object): [kids < adult < elderly]\n",
        "```"
      ],
      "metadata": {
        "id": "GJA8ou51wLGk"
      }
    },
    {
      "cell_type": "code",
      "source": [
        "p={ 'Name': ['Alberto Franco','Gino Mcneill','Ryan Parkes', 'Eesha Hinton', 'Syed Wharton'],\n",
        "'Age': [18, 22, 40, 50, 80 ] }\n",
        "\n",
        "people=pd.DataFrame(p)\n",
        "print(people)\n",
        "\n",
        "# Define age groups\n",
        "def categorize_age(age):\n",
        "    if age < 18:\n",
        "        return 'kids'\n",
        "    elif age < 65:\n",
        "        return 'adult'\n",
        "    else:\n",
        "        return 'elderly'\n",
        "\n",
        "# Apply categorization\n",
        "people['age_groups'] = people['Age'].apply(categorize_age)\n",
        "\n",
        "# Convert to categorical data type\n",
        "people['age_groups'] = pd.Categorical(people['age_groups'], categories=['kids', 'adult', 'elderly'], ordered=True)\n",
        "\n",
        "# Output the age groups\n",
        "print(\"Age group:\")\n",
        "print(people['age_groups'])"
      ],
      "metadata": {
        "id": "5MF2Dyw1wOK9",
        "colab": {
          "base_uri": "https://localhost:8080/"
        },
        "outputId": "7005a0d6-814e-49a2-a701-d695c5a54c01"
      },
      "execution_count": 44,
      "outputs": [
        {
          "output_type": "stream",
          "name": "stdout",
          "text": [
            "             Name  Age\n",
            "0  Alberto Franco   18\n",
            "1    Gino Mcneill   22\n",
            "2     Ryan Parkes   40\n",
            "3    Eesha Hinton   50\n",
            "4    Syed Wharton   80\n",
            "Age group:\n",
            "0      adult\n",
            "1      adult\n",
            "2      adult\n",
            "3      adult\n",
            "4    elderly\n",
            "Name: age_groups, dtype: category\n",
            "Categories (3, object): ['kids' < 'adult' < 'elderly']\n"
          ]
        }
      ]
    },
    {
      "cell_type": "markdown",
      "source": [
        "##33. Write a Pandas program to append rows to an existing DataFrame and display the combined data.\n",
        "\n",
        "```\n",
        "Test Data:\n",
        "tudent_data1\n",
        "  student_id              name  marks\n",
        "0         S1  Danniella Fenton    200\n",
        "1         S2      Ryder Storey    210\n",
        "2         S3      Bryce Jensen    190\n",
        "3         S4         Ed Bernal    222\n",
        "4         S5       Kwame Morin    199\n",
        "\n",
        "\n",
        "New Row(s)\n",
        "student_id                  S6\n",
        "name          Scarlette Fisher\n",
        "marks                      205\n",
        "dtype: object\n",
        "```"
      ],
      "metadata": {
        "id": "feAsVC_uwhOf"
      }
    },
    {
      "cell_type": "code",
      "source": [
        "import pandas as pd\n",
        "# Existing student data\n",
        "d = {\n",
        "    'student_id': ['S1', 'S2', 'S3', 'S4', 'S5'],\n",
        "    'name': ['Danniella Fenton', 'Ryder Storey', 'Bryce Jensen', 'Ed Bernal', 'Kwame Morin'],\n",
        "    'marks': [200, 210, 190, 222, 199]\n",
        "}\n",
        "\n",
        "# Create the DataFrame\n",
        "data = pd.DataFrame(d)\n",
        "\n",
        "# Display the original DataFrame\n",
        "print(\"Original DataFrame:\")\n",
        "print(data)\n",
        "\n",
        "# New row data\n",
        "new_row = pd.DataFrame({\n",
        "    'student_id':[ 'S6'],\n",
        "    'name': ['Scarlette Fisher'],\n",
        "    'marks': [205]\n",
        "})\n",
        "\n",
        "\n",
        "# Concatenate the new row\n",
        "student_data1 = pd.concat([data, new_row], ignore_index=True)\n",
        "\n",
        "# Display the updated DataFrame\n",
        "print(\"\\nUpdated DataFrame:\")\n",
        "print(student_data1)\n"
      ],
      "metadata": {
        "id": "mX4VNHcCwkY8",
        "colab": {
          "base_uri": "https://localhost:8080/"
        },
        "outputId": "c530d398-a3c9-4ea5-d858-0cb149707450"
      },
      "execution_count": 60,
      "outputs": [
        {
          "output_type": "stream",
          "name": "stdout",
          "text": [
            "Original DataFrame:\n",
            "  student_id              name  marks\n",
            "0         S1  Danniella Fenton    200\n",
            "1         S2      Ryder Storey    210\n",
            "2         S3      Bryce Jensen    190\n",
            "3         S4         Ed Bernal    222\n",
            "4         S5       Kwame Morin    199\n",
            "\n",
            "Updated DataFrame:\n",
            "  student_id              name  marks\n",
            "0         S1  Danniella Fenton    200\n",
            "1         S2      Ryder Storey    210\n",
            "2         S3      Bryce Jensen    190\n",
            "3         S4         Ed Bernal    222\n",
            "4         S5       Kwame Morin    199\n",
            "5         S6  Scarlette Fisher    205\n"
          ]
        }
      ]
    },
    {
      "cell_type": "markdown",
      "source": [
        "##34  Write a Pandas program to join the two given dataframes along rows and merge with another dataframe along the common column id.\n",
        "\n",
        "```\n",
        "Test Data:\n",
        "student_data1:\n",
        "  student_id              name  marks\n",
        "0         S1  Danniella Fenton    200\n",
        "1         S2      Ryder Storey    210\n",
        "2         S3      Bryce Jensen    190\n",
        "3         S4         Ed Bernal    222\n",
        "4         S5       Kwame Morin    199\n",
        "student_data2:\n",
        "  student_id              name  marks\n",
        "0         S4  Scarlette Fisher    201\n",
        "1         S5  Carla Williamson    200\n",
        "2         S6       Dante Morse    198\n",
        "3         S7    Kaiser William    219\n",
        "4         S8   Madeeha Preston    201\n",
        "```\n",
        "```\n",
        "\n",
        "exam_data:\n",
        "   student_id  exam_id\n",
        "0          S1       23\n",
        "1          S2       45\n",
        "2          S3       12\n",
        "3          S4       67\n",
        "4          S5       21\n",
        "5          S7       55\n",
        "6          S8       33\n",
        "7          S9       14\n",
        "8         S10       56\n",
        "9         S11       83\n",
        "10        S12       88\n",
        "11        S13       12\n",
        "```\n"
      ],
      "metadata": {
        "id": "OGD7xDdTwuUF"
      }
    },
    {
      "cell_type": "code",
      "source": [
        "import pandas as pd\n",
        "\n",
        "# Given student data\n",
        "student_data1 = pd.DataFrame({\n",
        "    'student_id': ['S1', 'S2', 'S3', 'S4', 'S5'],\n",
        "    'name': ['Danniella Fenton', 'Ryder Storey', 'Bryce Jensen', 'Ed Bernal', 'Kwame Morin'],\n",
        "    'marks': [200, 210, 190, 222, 199]\n",
        "})\n",
        "\n",
        "student_data2 = pd.DataFrame({\n",
        "    'student_id': ['S4', 'S5', 'S6', 'S7', 'S8'],\n",
        "    'name': ['Scarlette Fisher', 'Carla Williamson', 'Dante Morse', 'Kaiser William', 'Madeeha Preston'],\n",
        "    'marks': [201, 200, 198, 219, 201]\n",
        "})\n",
        "\n",
        "# Additional exam data\n",
        "exam_data = pd.DataFrame({\n",
        "    'student_id': ['S1', 'S2', 'S3', 'S4', 'S5', 'S7', 'S8', 'S9', 'S10', 'S11', 'S12', 'S13'],\n",
        "    'exam_id': [23, 45, 12, 67, 21, 55, 33, 14, 56, 83, 88, 12]\n",
        "})\n",
        "\n",
        "# Step 1: Join the two student DataFrames along rows\n",
        "combined_students = pd.concat([student_data1, student_data2], ignore_index=True)\n",
        "\n",
        "# Display the combined student DataFrame\n",
        "print(\"Combined Student DataFrame:\")\n",
        "print(combined_students)\n",
        "\n",
        "# Step 2: Merge with exam data along the common column 'student_id'\n",
        "merged_data = pd.merge(combined_students, exam_data, on='student_id', how='outer')\n",
        "\n",
        "# Display the merged DataFrame\n",
        "print(\"\\nMerged DataFrame:\")\n",
        "print(merged_data)\n",
        "\n",
        "\n"
      ],
      "metadata": {
        "id": "LKSwxNz3wyO2",
        "colab": {
          "base_uri": "https://localhost:8080/"
        },
        "outputId": "5437473d-ea66-4ac5-a1d2-37cdd13c35b5"
      },
      "execution_count": 65,
      "outputs": [
        {
          "output_type": "stream",
          "name": "stdout",
          "text": [
            "Combined Student DataFrame:\n",
            "  student_id              name  marks\n",
            "0         S1  Danniella Fenton    200\n",
            "1         S2      Ryder Storey    210\n",
            "2         S3      Bryce Jensen    190\n",
            "3         S4         Ed Bernal    222\n",
            "4         S5       Kwame Morin    199\n",
            "5         S4  Scarlette Fisher    201\n",
            "6         S5  Carla Williamson    200\n",
            "7         S6       Dante Morse    198\n",
            "8         S7    Kaiser William    219\n",
            "9         S8   Madeeha Preston    201\n",
            "\n",
            "Merged DataFrame:\n",
            "   student_id              name  marks  exam_id\n",
            "0          S1  Danniella Fenton  200.0     23.0\n",
            "1          S2      Ryder Storey  210.0     45.0\n",
            "2          S3      Bryce Jensen  190.0     12.0\n",
            "3          S4         Ed Bernal  222.0     67.0\n",
            "4          S4  Scarlette Fisher  201.0     67.0\n",
            "5          S5       Kwame Morin  199.0     21.0\n",
            "6          S5  Carla Williamson  200.0     21.0\n",
            "7          S6       Dante Morse  198.0      NaN\n",
            "8          S7    Kaiser William  219.0     55.0\n",
            "9          S8   Madeeha Preston  201.0     33.0\n",
            "10         S9               NaN    NaN     14.0\n",
            "11        S10               NaN    NaN     56.0\n",
            "12        S11               NaN    NaN     83.0\n",
            "13        S12               NaN    NaN     88.0\n",
            "14        S13               NaN    NaN     12.0\n"
          ]
        }
      ]
    }
  ]
}