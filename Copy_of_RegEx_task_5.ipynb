{
  "nbformat": 4,
  "nbformat_minor": 0,
  "metadata": {
    "colab": {
      "provenance": [],
      "include_colab_link": true
    },
    "kernelspec": {
      "name": "python3",
      "display_name": "Python 3"
    },
    "language_info": {
      "name": "python"
    }
  },
  "cells": [
    {
      "cell_type": "markdown",
      "metadata": {
        "id": "view-in-github",
        "colab_type": "text"
      },
      "source": [
        "<a href=\"https://colab.research.google.com/github/Sufiyanyoonus/assignments/blob/main/Copy_of_RegEx_task_5.ipynb\" target=\"_parent\"><img src=\"https://colab.research.google.com/assets/colab-badge.svg\" alt=\"Open In Colab\"/></a>"
      ]
    },
    {
      "cell_type": "markdown",
      "source": [
        "1. Write a Python program to check that a string contains only a certain set of characters (in this case a-z, A-Z and 0-9).\n",
        "\n"
      ],
      "metadata": {
        "id": "fpQX9wBhb6ox"
      }
    },
    {
      "cell_type": "code",
      "execution_count": null,
      "metadata": {
        "id": "5HKhizIkbt59",
        "colab": {
          "base_uri": "https://localhost:8080/"
        },
        "outputId": "4d3e8aa9-357e-4a42-f093-6657e77f1943"
      },
      "outputs": [
        {
          "output_type": "stream",
          "name": "stdout",
          "text": [
            "The string 'Hello123' is valid.\n"
          ]
        }
      ],
      "source": [
        "import re\n",
        "\n",
        "def is_valid_string(input_string):\n",
        "    # Define the allowed character set pattern\n",
        "    pattern = re.compile(r'^[a-zA-Z0-9]+$')\n",
        "\n",
        "    # Check if the input string matches the pattern\n",
        "    if pattern.match(input_string):\n",
        "        return True\n",
        "    else:\n",
        "        return False\n",
        "\n",
        "# Example usage:\n",
        "string = \"Hello123\"\n",
        "if is_valid_string(string):\n",
        "    print(f\"The string '{string}' is valid.\")\n",
        "else:\n",
        "    print(f\"The string '{string}' contains invalid characters.\")"
      ]
    },
    {
      "cell_type": "markdown",
      "source": [
        "2. Write a Python program that matches a string that has an a followed by zero or more b's.\n",
        "\n"
      ],
      "metadata": {
        "id": "rtdxRzltcRtS"
      }
    },
    {
      "cell_type": "code",
      "source": [
        "def match_string(input_string):\n",
        "    pattern = re.compile(r'b*')\n",
        "    match = pattern.fullmatch(input_string)\n",
        "    if match:\n",
        "        return True\n",
        "    else:\n",
        "        return False\n",
        "\n",
        "input_string=\"bbbbbb\"\n",
        "if match_string(input_string):\n",
        "    print(f\"The string '{input_string}' matches the pattern.\")\n",
        "else:\n",
        "    print(f\"The string '{input_string}' does not match the pattern.\")\n",
        "\n"
      ],
      "metadata": {
        "id": "ZjdCBYZAcZGl",
        "colab": {
          "base_uri": "https://localhost:8080/"
        },
        "outputId": "7e262824-01f6-406c-c6c4-dd857f6f6311"
      },
      "execution_count": null,
      "outputs": [
        {
          "output_type": "stream",
          "name": "stdout",
          "text": [
            "The string 'bbbbbb' matches the pattern.\n"
          ]
        }
      ]
    },
    {
      "cell_type": "markdown",
      "source": [
        "3. Replace only the first occurrence of 5 with five for the given string\n",
        "\n"
      ],
      "metadata": {
        "id": "kyvbz3eNcZri"
      }
    },
    {
      "cell_type": "code",
      "source": [
        "import re\n",
        "ip = 'They ate 5 apples and 5 oranges'\n",
        "x=re.sub('5','five',ip,1)\n",
        "print(x)"
      ],
      "metadata": {
        "id": "pgZy45dxcqSg",
        "colab": {
          "base_uri": "https://localhost:8080/"
        },
        "outputId": "ea9c3338-b12e-4f82-9f7c-0dfbf39157f9"
      },
      "execution_count": null,
      "outputs": [
        {
          "output_type": "stream",
          "name": "stdout",
          "text": [
            "They ate five apples and 5 oranges\n"
          ]
        }
      ]
    },
    {
      "cell_type": "markdown",
      "source": [
        "4. Write a Python program that matches a string that has an a followed by three 'b'.\n",
        "\n"
      ],
      "metadata": {
        "id": "h_b1-o6ncuzM"
      }
    },
    {
      "cell_type": "code",
      "source": [
        "def string_match(string):\n",
        "    pattern = re.compile(r'ab{3}')\n",
        "    match = pattern.match(string)\n",
        "    if match:\n",
        "        return True\n",
        "    else:\n",
        "        return False\n",
        "\n",
        "string=\"abbb\"\n",
        "if string_match(string):\n",
        "  print(f\"the string {string} matches the pattern\")\n",
        "else:\n",
        "  print(f\"the string {string} doesnt matches the pattern \")"
      ],
      "metadata": {
        "id": "eWIRl3LccqwE",
        "colab": {
          "base_uri": "https://localhost:8080/"
        },
        "outputId": "ebfc4547-a40e-4260-d300-369c7e386dcc"
      },
      "execution_count": null,
      "outputs": [
        {
          "output_type": "stream",
          "name": "stdout",
          "text": [
            "the string abbb matches the pattern\n"
          ]
        }
      ]
    },
    {
      "cell_type": "markdown",
      "source": [
        "5. Write a Python program that matches a string that has an 'a' followed by anything ending in 'b'.\n",
        "\n"
      ],
      "metadata": {
        "id": "K2vPe01bc2LN"
      }
    },
    {
      "cell_type": "code",
      "source": [
        "def string_match(string):\n",
        "    pattern = re.compile(r'a.*b$')\n",
        "    match = pattern.match(string)\n",
        "    if match:\n",
        "        return True\n",
        "    else:\n",
        "        return False\n",
        "\n",
        "\n",
        "string=\"aansnsgb\"\n",
        "if string_match(string):\n",
        "  print(f\"the string {string} matches the pattern\")\n",
        "else:\n",
        "  print(f\"the string {string} doesnt matches the pattern \")\n"
      ],
      "metadata": {
        "id": "f8KfX59qc3UJ",
        "colab": {
          "base_uri": "https://localhost:8080/"
        },
        "outputId": "0e10fdce-f7a9-4c98-ad7b-2047a6e6949d"
      },
      "execution_count": null,
      "outputs": [
        {
          "output_type": "stream",
          "name": "stdout",
          "text": [
            "the string aansnsgb matches the pattern\n"
          ]
        }
      ]
    },
    {
      "cell_type": "markdown",
      "source": [
        "6. Write a Python program to search for numbers (0-9) of length between 1 and 3 in a given string."
      ],
      "metadata": {
        "id": "NyL-DhqXdZi7"
      }
    },
    {
      "cell_type": "code",
      "source": [
        "txt=\"Exercises number 1, 12, 13, and 345 are important\"\n",
        "x=re.findall(r'\\b\\d{1,3}\\b',txt)\n",
        "print(x)\n"
      ],
      "metadata": {
        "id": "pWsu0HljdnKX",
        "colab": {
          "base_uri": "https://localhost:8080/"
        },
        "outputId": "a072a3a0-7be7-44ac-8b92-fdc398f1d210"
      },
      "execution_count": null,
      "outputs": [
        {
          "output_type": "stream",
          "name": "stdout",
          "text": [
            "['1', '12', '13', '345']\n"
          ]
        }
      ]
    },
    {
      "cell_type": "markdown",
      "source": [
        "7. Write a Python program to search for literal strings within a string.\\\n",
        "Sample text : 'The quick brown fox jumps over the lazy dog.' \\\n",
        "Searched words : 'fox', 'dog', 'horse'"
      ],
      "metadata": {
        "id": "aWaHWXFjdqy7"
      }
    },
    {
      "cell_type": "code",
      "source": [
        "\n",
        "import re\n",
        "search_words = [ 'fox', 'dog', 'horse' ]\n",
        "sample_text = 'The quick brown fox jumps over the lazy dog.'\n",
        "for search_word in search_words: # Loop through each word in the search_words list\n",
        "    if re.search(search_word,sample_text): #def search(pattern, string, flags=0)\n",
        "        print(f\"search for '{search_word}' in string '{sample_text}' : Match found\")\n",
        "    else:\n",
        "        print(f\"search for '{search_word}' in string '{sample_text}' : Match not found\")\n"
      ],
      "metadata": {
        "colab": {
          "base_uri": "https://localhost:8080/"
        },
        "id": "iPv4V4nL8Ji0",
        "outputId": "021fd10a-c650-4d73-e8e1-744785d0c83f"
      },
      "execution_count": null,
      "outputs": [
        {
          "output_type": "stream",
          "name": "stdout",
          "text": [
            "search for 'fox' in string 'The quick brown fox jumps over the lazy dog.' : Match found\n",
            "search for 'dog' in string 'The quick brown fox jumps over the lazy dog.' : Match found\n",
            "search for 'horse' in string 'The quick brown fox jumps over the lazy dog.' : Match not found\n"
          ]
        }
      ]
    },
    {
      "cell_type": "markdown",
      "source": [
        "8. Write a Python program to search for a literal string in a string and also find the location within the original string where the pattern occurs.\n",
        "\n",
        "Sample text : 'The quick brown fox jumps over the lazy dog.' \\\n",
        "Searched words : 'fox'"
      ],
      "metadata": {
        "id": "2cgZLc6Yd0sE"
      }
    },
    {
      "cell_type": "code",
      "source": [
        "text='The quick brown fox jumps over the lazy dog.'\n",
        "search_word='fox'\n",
        "match=re.search(search_word,text)\n",
        "if match:\n",
        "    print(f\"search for '{search_word}' in string '{text}' : Match found\")\n"
      ],
      "metadata": {
        "id": "Tj1FCCx4d3zZ",
        "colab": {
          "base_uri": "https://localhost:8080/"
        },
        "outputId": "6f149e2a-fb51-405f-baaa-d26605736437"
      },
      "execution_count": 22,
      "outputs": [
        {
          "output_type": "stream",
          "name": "stdout",
          "text": [
            "search for 'fox' in string 'The quick brown fox jumps over the lazy dog.' : Match found\n"
          ]
        }
      ]
    },
    {
      "cell_type": "markdown",
      "source": [
        "9.  Write a Python program to extract year, month and date from an URL"
      ],
      "metadata": {
        "id": "ixuwdsnvdtcP"
      }
    },
    {
      "cell_type": "code",
      "source": [
        "import re\n",
        "url1= \"https://www.washingtonpost.com/news/football-insider/wp/2016/09/02/odell-beckhams-fame-rests-on-one-stupid-little-ball-josh-norman-tells-author/\"\n",
        "def dates():\n",
        " p=re.compile('\\d{4}/\\d{2}/\\d{2}/')\n",
        " match=p.search(url1)\n",
        " if match:\n",
        "    match=match.group()\n",
        "    print(match)\n",
        " else:\n",
        "    print(\"no match found\")\n",
        "dates()\n"
      ],
      "metadata": {
        "id": "uWA2_OfJeFpw",
        "colab": {
          "base_uri": "https://localhost:8080/"
        },
        "outputId": "2ca6fd08-bff0-4723-c489-386d0b22e19c"
      },
      "execution_count": 6,
      "outputs": [
        {
          "output_type": "stream",
          "name": "stdout",
          "text": [
            "2016/09/02/\n"
          ]
        }
      ]
    },
    {
      "cell_type": "code",
      "source": [
        "import re\n",
        "def date():\n",
        " url1=\"https://www.washingtonpost.com/news/football-insider/wp/2016/09/02/odell-beckhams-fame-rests-on-one-stupid-little-ball-josh-norman\"\n",
        " p=re.compile('\\d{4}/\\d{2}/\\d{2}/') #compile the patterm\n",
        " match=p.search(url1) # search for the patternm in the url\n",
        " if match:\n",
        "    match=match.group() # group\n",
        "    print(match)\n",
        " else:\n",
        "    print(\"no match found\")\n",
        "\n",
        "date()\n",
        "\n",
        "\n"
      ],
      "metadata": {
        "colab": {
          "base_uri": "https://localhost:8080/"
        },
        "id": "CF4ioOhsiyNn",
        "outputId": "70f10215-ad34-4e14-f349-73905699bb38"
      },
      "execution_count": 2,
      "outputs": [
        {
          "output_type": "stream",
          "name": "stdout",
          "text": [
            "2016/09/02/\n"
          ]
        }
      ]
    },
    {
      "cell_type": "markdown",
      "source": [
        "10. Write a Python program to find URLs in a string.\n",
        "\n"
      ],
      "metadata": {
        "id": "Qdob8Ojkea-W"
      }
    },
    {
      "cell_type": "code",
      "source": [
        "import re\n",
        "text = '<p>Contents :</p><a href=\"https://w3resource.com\">Python Examples</a><a href=\"http://github.com\">Even More Examples</a>'\n",
        "def url():\n",
        "    pattern = re.compile(r'http[s]?://\\S+')\n",
        "    urls = pattern.findall(text)\n",
        "\n",
        "    if urls:\n",
        "        print(\"URLs found:\")\n",
        "        for url in urls:\n",
        "            print(url)\n",
        "    else:\n",
        "        print(\"No URLs found.\")\n",
        "\n",
        "url()\n"
      ],
      "metadata": {
        "id": "d9KUcdQEeIJu",
        "colab": {
          "base_uri": "https://localhost:8080/"
        },
        "outputId": "249972e9-3cb1-4340-a044-89aa924d4d21"
      },
      "execution_count": 14,
      "outputs": [
        {
          "output_type": "stream",
          "name": "stdout",
          "text": [
            "URLs found:\n",
            "https://w3resource.com\">Python\n",
            "http://github.com\">Even\n"
          ]
        }
      ]
    },
    {
      "cell_type": "markdown",
      "source": [
        "11. Write a Python program to remove the parenthesis area in a string.\\\n",
        "\n",
        "Sample data : [\"example (.com)\", \"w3resource\", \"github (.com)\", \"stackoverflow (.com)\"] \\\n",
        "Expected Output: \\\n",
        "example  \\\n",
        "w3resource \\\n",
        "github  \\\n",
        "stackoverflow. \\\n",
        "\n"
      ],
      "metadata": {
        "id": "5mX_cCEFepSi"
      }
    },
    {
      "cell_type": "code",
      "source": [
        "import re\n",
        "data = [\"example (.com)\", \"w3resource\", \"github (.com)\", \"stackoverflow (.com)\"]\n",
        "for item in data:\n",
        "    result = re.sub(r'\\([^)]*\\)', '', item)\n",
        "    print(result)"
      ],
      "metadata": {
        "id": "CNYOSWfLee_M",
        "colab": {
          "base_uri": "https://localhost:8080/"
        },
        "outputId": "39ac9dcb-1ece-4f09-96c0-e84b52d9a995"
      },
      "execution_count": 15,
      "outputs": [
        {
          "output_type": "stream",
          "name": "stdout",
          "text": [
            "example \n",
            "w3resource\n",
            "github \n",
            "stackoverflow \n"
          ]
        }
      ]
    },
    {
      "cell_type": "code",
      "source": [
        "import re\n",
        "data = [\"example (.com)\", \"w3resource\", \"github (.com)\", \"stackoverflow (.com)\"]\n",
        "for item in data:\n",
        "    result = re.sub(r'\\([^)]*\\)',' '  ,item)\n",
        "    print(result)"
      ],
      "metadata": {
        "colab": {
          "base_uri": "https://localhost:8080/"
        },
        "id": "_tn-tAivajCf",
        "outputId": "1daab9e7-9497-43af-ad18-748e61fabc5f"
      },
      "execution_count": 19,
      "outputs": [
        {
          "output_type": "stream",
          "name": "stdout",
          "text": [
            "example  \n",
            "w3resource\n",
            "github  \n",
            "stackoverflow  \n"
          ]
        }
      ]
    },
    {
      "cell_type": "markdown",
      "source": [
        "12. Write a Python program to concatenate the consecutive numbers in a given string. \\\n",
        "\n",
        "Original string:  \\\n",
        "Enter at 1 20 Kearny Street. The security desk can direct you to floor 1 6. Please have your identification ready.  \\\n",
        "\n",
        "After concatenating the consecutive numbers in the said string:  \\\n",
        "Enter at 120 Kearny Street. The security desk can direct you to floor 16. Please have your identification ready."
      ],
      "metadata": {
        "id": "sRhveFHXe7nz"
      }
    },
    {
      "cell_type": "code",
      "source": [
        "string=\"Enter at 1 20 Kearny Street. The security desk can direct you to floor 1 6. Please have your identification ready\"\n",
        "def con():\n",
        "    pattern = re.compile(r'\\b(\\d+)\\s+(\\d+)\\b') # Compile the regex pattern to find two groups of digits separated by spaces\n",
        "    result = pattern.sub(r'\\1\\2', string) # Substitute the matches with the concatenation of the two group\n",
        "    print(result)\n",
        "con()"
      ],
      "metadata": {
        "id": "4dcBL0RTe_zP",
        "colab": {
          "base_uri": "https://localhost:8080/"
        },
        "outputId": "05ddde38-f0c9-4f42-addb-cf22af4de223"
      },
      "execution_count": 31,
      "outputs": [
        {
          "output_type": "stream",
          "name": "stdout",
          "text": [
            "Enter at 120 Kearny Street. The security desk can direct you to floor 16. Please have your identification ready\n"
          ]
        }
      ]
    }
  ]
}