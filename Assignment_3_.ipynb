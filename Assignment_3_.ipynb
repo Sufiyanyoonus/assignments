{
  "nbformat": 4,
  "nbformat_minor": 0,
  "metadata": {
    "colab": {
      "provenance": [],
      "authorship_tag": "ABX9TyNexf77zTs1VjZ2XqaUNfAk",
      "include_colab_link": true
    },
    "kernelspec": {
      "name": "python3",
      "display_name": "Python 3"
    },
    "language_info": {
      "name": "python"
    }
  },
  "cells": [
    {
      "cell_type": "markdown",
      "metadata": {
        "id": "view-in-github",
        "colab_type": "text"
      },
      "source": [
        "<a href=\"https://colab.research.google.com/github/Sufiyanyoonus/assignments/blob/main/Assignment_3_.ipynb\" target=\"_parent\"><img src=\"https://colab.research.google.com/assets/colab-badge.svg\" alt=\"Open In Colab\"/></a>"
      ]
    },
    {
      "cell_type": "markdown",
      "source": [
        "##Exercise 1  \n",
        "##Write Python code that prints your name, student number and email address.  \n",
        "An example runs of the program:  \n",
        "Bob\n",
        "ST1001\n",
        "bob@gmail.com"
      ],
      "metadata": {
        "id": "FHQ03rYiKWK2"
      }
    },
    {
      "cell_type": "code",
      "execution_count": 34,
      "metadata": {
        "colab": {
          "base_uri": "https://localhost:8080/"
        },
        "id": "--rZVjH3KQMp",
        "outputId": "476ca560-9c9c-4cb9-dc9b-dc6324f235ae"
      },
      "outputs": [
        {
          "output_type": "stream",
          "name": "stdout",
          "text": [
            "bob ST1001 bob@gmail.com\n"
          ]
        }
      ],
      "source": [
        "def student_info(name,student_number,email): #define the fuunction\n",
        " print(name,student_number,email) # print the function\n",
        "\n",
        "student_info(\"bob\",\"ST1001\",\"bob@gmail.com\") #call the function"
      ]
    },
    {
      "cell_type": "markdown",
      "source": [
        "##Exercise 2\n",
        "##Write Python code that prints your name, student number and email address using escape sequences.     \n",
        "An example runs of the program:\n",
        "Bob\n",
        "ST1001\n",
        "bob@gmail.com"
      ],
      "metadata": {
        "id": "78A2fO3JMWKt"
      }
    },
    {
      "cell_type": "code",
      "source": [
        "def student_info(name,student_number,email):\n",
        "  print(f\"{name}\\t,{student_number}\\t,{email}\\t\") #using escape sequence \\t\n",
        "\n",
        "student_info(\"bob\",\"ST1001\",\"bob@gmail.com\")"
      ],
      "metadata": {
        "colab": {
          "base_uri": "https://localhost:8080/"
        },
        "id": "mGlMrKqVMdGF",
        "outputId": "7ac69ffd-5e70-46be-f866-6c321935b032"
      },
      "execution_count": 5,
      "outputs": [
        {
          "output_type": "stream",
          "name": "stdout",
          "text": [
            "bob\t,ST1001\t,bob@gmail.com\t\n"
          ]
        }
      ]
    },
    {
      "cell_type": "markdown",
      "source": [
        "\n",
        "##Exercise 3\n",
        "##Write Python code that add, subtract, multiply and divide the two numbers. You can use the two numbers 14 and 7.  An example run of the program:  \n",
        "##14 + 7 = 21\n",
        "##14 * 7 = 98\n",
        "##14 – 7 = 7\n",
        "##14 / 7 = 2"
      ],
      "metadata": {
        "id": "XK2G-B3rN8Wl"
      }
    },
    {
      "cell_type": "code",
      "source": [
        "def mathematics(n1,n2): #define function by variables\n",
        "  sum=n1+n2 # add the variables\n",
        "  sub=n1=n2 #substract the variables\n",
        "  div=n1/n2 #divide the variables\n",
        "  mul=n1*n2 #multiply the variables\n",
        "  print(sum) #print\n",
        "  print(sub)\n",
        "  print(div)\n",
        "  print(mul)\n",
        "mathematics(14,7) # call the function by giving the variables\n"
      ],
      "metadata": {
        "colab": {
          "base_uri": "https://localhost:8080/"
        },
        "id": "XfYZZP5bN7yb",
        "outputId": "1299aa3e-c117-4bee-f688-c4f84a300e36"
      },
      "execution_count": 15,
      "outputs": [
        {
          "output_type": "stream",
          "name": "stdout",
          "text": [
            "21\n",
            "7\n",
            "1.0\n",
            "49\n"
          ]
        }
      ]
    },
    {
      "cell_type": "markdown",
      "source": [
        "##Exercise 4\n",
        "##Write Python code that displays the numbers from 1 to 5 as steps.\n",
        "An example runs of the program:\n",
        "##1\n",
        "##2\n",
        "##3\n",
        "##4\n",
        "##5"
      ],
      "metadata": {
        "id": "dLGn6eQWQM08"
      }
    },
    {
      "cell_type": "code",
      "source": [
        "def numbers(): #define function\n",
        "  sum=0\n",
        "\n",
        "  for i in range (1,6) : #using loop print the 5 numbers in different line\n",
        "    print(i)\n",
        "\n",
        "numbers()"
      ],
      "metadata": {
        "colab": {
          "base_uri": "https://localhost:8080/"
        },
        "id": "_vKfhGdzQd3F",
        "outputId": "85971546-2438-478e-b43e-bb738fa4b0de"
      },
      "execution_count": 21,
      "outputs": [
        {
          "output_type": "stream",
          "name": "stdout",
          "text": [
            "1\n",
            "2\n",
            "3\n",
            "4\n",
            "5\n"
          ]
        }
      ]
    },
    {
      "cell_type": "markdown",
      "source": [
        "##Exercise 5\n",
        "##Write Python code that outputs the following sentence (including the quotation marks and line break) to the screen:\n",
        "An example runs of the program:  \n",
        "##\"SDK\" stands for \"Software Development Kit\", whereas\n",
        "##\"IDE\" stands for \"Integrated Development Environment\"."
      ],
      "metadata": {
        "id": "Qbeanl6ZRHlw"
      }
    },
    {
      "cell_type": "code",
      "source": [
        "def full_sentence(): # define function\n",
        "  print(\"\\\"SDK\\\"stands for \\\"Software Devolopment Kit,whereas\\n\\\"IDE\\\"stands for \\\"Integrated Devolopment Enviorment\") #using escape sequence\\\" we can write coma in the sentence and using escape sequence \\n we can write the new line\n",
        "full_sentence()   #call function"
      ],
      "metadata": {
        "colab": {
          "base_uri": "https://localhost:8080/"
        },
        "id": "uyXaHXJ7RTTD",
        "outputId": "60744e66-2022-4a6c-ab71-f9bde23d6f58"
      },
      "execution_count": 24,
      "outputs": [
        {
          "output_type": "stream",
          "name": "stdout",
          "text": [
            "\"SDK\"stands for \"Software Devolopment Kit,whereas\n",
            "\"IDE\"stands for \"Integrated Devolopment Enviorment\n"
          ]
        }
      ]
    },
    {
      "cell_type": "markdown",
      "source": [
        "##Exercise 6\n",
        "##Practice and check the output\n",
        "###print(\"python is an \\\"awesome\\\" language.\")\n",
        "###print(\"python\\n\\t2023\")\n",
        "###print('I\\'m from Entri.\\b')\n",
        "###print(\"\\65\")\n",
        "###print(\"\\x65\")\n",
        "###print(\"Entri\", \"2023\", sep=\"\\n\")\n",
        "###print(\"Entri\", \"2023\", sep=\"\\b\")\n",
        "###print(\"Entri\", \"2023\", sep=\"*\", end=\"\\b\\b\\b\\b\")\n",
        "\n"
      ],
      "metadata": {
        "id": "L7A1GHGKWZHl"
      }
    },
    {
      "cell_type": "code",
      "source": [
        "print(\"python is an \\\"awesome\\\" language.\")\n",
        "print(\"python\\n\\t2023\")\n",
        "print(\"\\'I\\'m from Entri\\b'\")\n",
        "print(\"\\65\")\n",
        "print(\"\\x65\")\n",
        "print(\"Entri\", \"2023\", sep=\"\\n\")\n",
        "print(\"Entri\", \"2023\", sep=\"\\b\")\n",
        "print(\"Entri\", \"2023\", sep=\"*\", end=\"\\b\\b\\b\\b\")"
      ],
      "metadata": {
        "colab": {
          "base_uri": "https://localhost:8080/"
        },
        "id": "_88rtmcfWCCN",
        "outputId": "d205ebbc-2da2-44e0-ec91-133beec890af"
      },
      "execution_count": 29,
      "outputs": [
        {
          "output_type": "stream",
          "name": "stdout",
          "text": [
            "python is an \"awesome\" language.\n",
            "python\n",
            "\t2023\n",
            "'I'm from Entri\b'\n",
            "5\n",
            "e\n",
            "Entri\n",
            "2023\n",
            "Entri\b2023\n",
            "Entri*2023\b\b\b\b"
          ]
        }
      ]
    },
    {
      "cell_type": "markdown",
      "source": [
        "##Exercise 7\n",
        "##Define the variables below. Print the types of each variable. What is the sum of your variables? (Hint: use a type conversion function.) What datatype is the sum?\n",
        "###num=23\n",
        "###textnum=\"57\"\n",
        "###decimal=98.3"
      ],
      "metadata": {
        "id": "yVRwhbnhYT7G"
      }
    },
    {
      "cell_type": "code",
      "source": [
        "num=23\n",
        "textnum=\"57\"\n",
        "decimal=98.3\n",
        "print(f\"the type of num:{type(num)}\") # using type funvtion we can get the type\n",
        "print(f\"the type of textnum: {type(textnum)}\")\n",
        "print(f\"the type of decimal {type(decimal)} \")\n",
        "\n",
        "textnum=int(textnum) #convert the string into int for adding\n",
        "sum=num+textnum+decimal #sum\n",
        "print(f\"the sum={sum}\") #print the sum\n",
        "print(f\"the type of the sum={type(sum)}\") # print the type using type function"
      ],
      "metadata": {
        "colab": {
          "base_uri": "https://localhost:8080/"
        },
        "id": "vo6-6l9uYcZx",
        "outputId": "f2fc91b3-c011-4318-cb0e-92bf5d070293"
      },
      "execution_count": 31,
      "outputs": [
        {
          "output_type": "stream",
          "name": "stdout",
          "text": [
            "the type of num:<class 'int'>\n",
            "the type of textnum: <class 'str'>\n",
            "the type of decimal <class 'float'> \n",
            "the sum=178.3\n",
            "the type of the sum=<class 'float'>\n"
          ]
        }
      ]
    },
    {
      "cell_type": "markdown",
      "source": [
        "##Exercise 8\n",
        "##calculate the number of minutes in a year using variables for each unit of time. print a statement that describes what your code does also. Create three variables to store no of days in a year, minute in a hour, hours in a day, then calculate the total minutes in a year and print the values\n",
        "###(hint) total number of minutes in an year =No.of days in an year * Hours in a day * Minutes in an hou"
      ],
      "metadata": {
        "id": "E2Od5IkXaHoX"
      }
    },
    {
      "cell_type": "code",
      "source": [
        "def minutes_in_a_year(): # define function\n",
        " no_of_days=365\n",
        " hours_in_day=24\n",
        " minutes_in_hour=60\n",
        "\n",
        " total_minutes_in_year = no_of_days * hours_in_day * minutes_in_hour # formula of total minutes in a year\n",
        "\n",
        " print(f\"the total number of days ina year :{no_of_days}\") #print the days\n",
        " print(f\"the total numbers of hours in a day is :{hours_in_day}\") #print the hours\n",
        " print(f\"the total numbers of minutes in a hour is: {minutes_in_a_year}\") #print the minutes\n",
        " print(f\"the total minutes ina year is :{total_minutes_in_year}\") #print the total minutes in a year\n",
        "\n",
        "minutes_in_a_year() #call the function\n"
      ],
      "metadata": {
        "colab": {
          "base_uri": "https://localhost:8080/"
        },
        "id": "yviFKmuoaP7o",
        "outputId": "c391a4d2-6f57-4fe5-fec2-af5726e4b2f3"
      },
      "execution_count": 36,
      "outputs": [
        {
          "output_type": "stream",
          "name": "stdout",
          "text": [
            "the total number of days ina year :365\n",
            "the total numbers of hours in a day is :24\n",
            "the total numbers of minutes in a hour is: <function minutes_in_a_year at 0x78a9491e79a0>\n",
            "the total minutes ina year is :525600\n"
          ]
        }
      ]
    },
    {
      "cell_type": "markdown",
      "source": [
        "\n",
        "##Exercise 9\n",
        "##Write Python code that asks the user to enter his/her name and then output/prints his/her name with a greeting.\n",
        "###An example runs of the program:\n",
        "###Please enter you name: Tony\n",
        "###Hi Tony, welcome to Python programming :)"
      ],
      "metadata": {
        "id": "McfU2BT7e1hN"
      }
    },
    {
      "cell_type": "code",
      "source": [
        "def greetings(): #define function\n",
        " name=input(\"Enter your name :\") # get the name from the user\n",
        " print(f\"Hi{name},welcome to python programming\") #print the greetings with name to the user\n",
        "\n",
        "greetings() #call the function\n"
      ],
      "metadata": {
        "colab": {
          "base_uri": "https://localhost:8080/"
        },
        "id": "5J1r7TG6e_gg",
        "outputId": "140b7adc-8c0d-4d80-8651-5dbcc1fd9c45"
      },
      "execution_count": 39,
      "outputs": [
        {
          "output_type": "stream",
          "name": "stdout",
          "text": [
            "Enter your name :sufiyan\n",
            "Hisufiyan,welcome to python programming\n"
          ]
        }
      ]
    },
    {
      "cell_type": "markdown",
      "source": [
        "\n",
        "##Exercise 10\n",
        "##Name your file: PoundsToDollars.py\n",
        "##Write a program that asks the user to enter an amount in pounds (£) and the program calculates and converts an amount in dollar\n",
        "###An example runs of the program:\n",
        "###Please enter amount in pounds: XXX\n",
        "###£ XXX are $ XXX"
      ],
      "metadata": {
        "id": "tCsKjPWrgGOH"
      }
    },
    {
      "cell_type": "code",
      "source": [
        "def poundstodollars():\n",
        "  pounds=float(input(\"enter your money in pounds: £\"))\n",
        "  conversion_rate=1.38\n",
        "  dollars=pounds*conversion_rate\n",
        "  print(f\"£ {pounds:.2f} are in  ${dollars:.2f}\")\n",
        "\n",
        "poundstodollars()\n"
      ],
      "metadata": {
        "colab": {
          "base_uri": "https://localhost:8080/"
        },
        "id": "maWCo2otgc3m",
        "outputId": "e15506e7-25bd-4bdd-c0ae-1508a40b0bf0"
      },
      "execution_count": 41,
      "outputs": [
        {
          "output_type": "stream",
          "name": "stdout",
          "text": [
            "enter your money in pounds: £1\n",
            "£ 1.00 are in  $1.38\n"
          ]
        }
      ]
    }
  ]
}