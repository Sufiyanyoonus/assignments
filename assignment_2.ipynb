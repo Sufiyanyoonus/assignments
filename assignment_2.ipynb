{
  "nbformat": 4,
  "nbformat_minor": 0,
  "metadata": {
    "colab": {
      "provenance": [],
      "authorship_tag": "ABX9TyMZRbul88eStuOwaTUK5ltH",
      "include_colab_link": true
    },
    "kernelspec": {
      "name": "python3",
      "display_name": "Python 3"
    },
    "language_info": {
      "name": "python"
    }
  },
  "cells": [
    {
      "cell_type": "markdown",
      "metadata": {
        "id": "view-in-github",
        "colab_type": "text"
      },
      "source": [
        "<a href=\"https://colab.research.google.com/github/Sufiyanyoonus/assignments/blob/main/assignment_2.ipynb\" target=\"_parent\"><img src=\"https://colab.research.google.com/assets/colab-badge.svg\" alt=\"Open In Colab\"/></a>"
      ]
    },
    {
      "cell_type": "markdown",
      "source": [
        "## 1.Write a Python program to sum all the items in a list."
      ],
      "metadata": {
        "id": "r61k_5Y-d6p3"
      }
    },
    {
      "cell_type": "code",
      "source": [
        "numbers=[1,2,3,4,5]\n",
        "total=sum(numbers)              ##sum function for adding all\n",
        "print(f\"the sum of all number in this list  {numbers} is :{total}\")"
      ],
      "metadata": {
        "colab": {
          "base_uri": "https://localhost:8080/"
        },
        "id": "EqMGoRZ1eBPg",
        "outputId": "2cce6744-abdf-4563-8fcc-ce7bf55c93e5"
      },
      "execution_count": null,
      "outputs": [
        {
          "output_type": "stream",
          "name": "stdout",
          "text": [
            "the sum of all number in this list  [1, 2, 3, 4, 5] is :15\n"
          ]
        }
      ]
    },
    {
      "cell_type": "markdown",
      "source": [
        "## 2. Write a Python program to get the largest number from a list."
      ],
      "metadata": {
        "id": "GU7jpM7Ye_Vt"
      }
    },
    {
      "cell_type": "code",
      "source": [
        "numbers=list(range(1,16))\n",
        "numbers.sort()       #sor function to make an ascending order\n",
        "print(numbers)\n",
        "print(\"the largest numbers is :\",numbers[-1]) #  after ording in ascending the last number will be the largest number so for getting that negative index will get the last number"
      ],
      "metadata": {
        "colab": {
          "base_uri": "https://localhost:8080/"
        },
        "id": "MvLCtxe1l6an",
        "outputId": "b6fc0385-cf83-4c7a-d47d-24c284b24ad7"
      },
      "execution_count": null,
      "outputs": [
        {
          "output_type": "stream",
          "name": "stdout",
          "text": [
            "[1, 2, 3, 4, 5, 6, 7, 8, 9, 10, 11, 12, 13, 14, 15]\n",
            "the largest numbers is : 15\n"
          ]
        }
      ]
    },
    {
      "cell_type": "markdown",
      "source": [
        "##3.Write a Python program to count the number of strings from a given list of strings. The string length is 2 or more and the first and last characters are the same."
      ],
      "metadata": {
        "id": "AJsg-bdfnGYX"
      }
    },
    {
      "cell_type": "code",
      "source": [
        "words=[\"madam\",\"wow\",\"mom\",\"india\",\"malayalam\"]     #make a list which first and last characters(alphabets) are same\n",
        "count=0                                             # initilase the count as zero\n",
        "for word in words:\n",
        " if len(word) >=2 and  word[0]==word[-1]:           #if the length of word is greater than 2 and last and first  characetrs are same\n",
        "  count+=1\n",
        "print(f\"the number of string which characters are saem in fist and last is: {count}\")\n",
        "\n",
        "\n"
      ],
      "metadata": {
        "colab": {
          "base_uri": "https://localhost:8080/"
        },
        "id": "hzORy3cXnk6P",
        "outputId": "a68d6792-d7ed-486a-f506-7b9417524185"
      },
      "execution_count": null,
      "outputs": [
        {
          "output_type": "stream",
          "name": "stdout",
          "text": [
            "the number of string which characters are saem in fist and last is: 4\n"
          ]
        }
      ]
    },
    {
      "cell_type": "markdown",
      "source": [],
      "metadata": {
        "id": "K_YcZvm5rwaf"
      }
    },
    {
      "cell_type": "code",
      "source": [
        "samples=['abc', 'xyz', 'aba', '1221'] #create a list\n",
        "count=0 #\n",
        "for sample in samples:\n",
        "    if len(sample)>=2 and sample[0]==sample[-1]: # if the length of the sample is graeter than 2 and the first and last numbers are same\n",
        "      count+=1 # it will count as 1\n",
        "print(f\"the number of string which characters are saem in fist and last is: {count} \") #print\n"
      ],
      "metadata": {
        "colab": {
          "base_uri": "https://localhost:8080/"
        },
        "id": "JL8GK0IKr3O4",
        "outputId": "4b756091-ee2a-4e70-d277-4772701cc7ed"
      },
      "execution_count": null,
      "outputs": [
        {
          "output_type": "stream",
          "name": "stdout",
          "text": [
            "the number of string which characters are saem in fist and last is: 2 \n"
          ]
        }
      ]
    },
    {
      "cell_type": "markdown",
      "source": [
        "##4.Write a Python program to remove duplicates from a list."
      ],
      "metadata": {
        "id": "Yny8sJLrDlRv"
      }
    },
    {
      "cell_type": "markdown",
      "source": [],
      "metadata": {
        "id": "sIGRdmxNuFMw"
      }
    },
    {
      "cell_type": "code",
      "source": [
        "numbers = [1, 3, 4, 5, 1, 3, 4, 5, 9, 10, 11]\n",
        "#  remove duplicates using set\n",
        "new_list=list(set(numbers)) # we are converting list into a set because the set will not allow duplicates after that we will convert it into list\n",
        "print(\"the list with duplicate is :\",numbers) # print the list with duplicate\n",
        "print(\"the list without duplicates is :\",new_list) # print the list with without duplicate"
      ],
      "metadata": {
        "colab": {
          "base_uri": "https://localhost:8080/"
        },
        "id": "utH0nYePDsSB",
        "outputId": "e13c11d2-2eed-420a-c226-b0127d88742d"
      },
      "execution_count": null,
      "outputs": [
        {
          "output_type": "stream",
          "name": "stdout",
          "text": [
            "the list with duplicate is : [1, 3, 4, 5, 1, 3, 4, 5, 9, 10, 11]\n",
            "the list without duplicates is : [1, 3, 4, 5, 9, 10, 11]\n"
          ]
        }
      ]
    },
    {
      "cell_type": "markdown",
      "source": [
        "##5.Write a Python program to check if a list is empty or not."
      ],
      "metadata": {
        "id": "QiFei3lzGSkv"
      }
    },
    {
      "cell_type": "code",
      "source": [
        "l=[1,2,3,4,5,6,1]\n",
        "#l=[] # use this to check with empty list\n",
        "if len(l)==0: # if the length of an list is 0 there will be no elements in lest\n",
        "  print(\"the list has no elements\")\n",
        "else:\n",
        "  print(\"the list has elements\",l)\n",
        "\n"
      ],
      "metadata": {
        "colab": {
          "base_uri": "https://localhost:8080/"
        },
        "id": "mlK1Vo7MGXzB",
        "outputId": "b52db755-f50a-4fc6-af88-6d2dff26e917"
      },
      "execution_count": null,
      "outputs": [
        {
          "output_type": "stream",
          "name": "stdout",
          "text": [
            "the list has elements [1, 2, 3, 4, 5, 6, 1]\n"
          ]
        }
      ]
    },
    {
      "cell_type": "markdown",
      "source": [
        "##6. Write a Python program to filter the list if the length of the character is < 4\n",
        "Sample List : ['abc', 'xyz', 'aba', '1221']\n",
        "Expected Result: ['abc', 'xyz', 'aba']\n"
      ],
      "metadata": {
        "id": "Sfr3kh00If9O"
      }
    },
    {
      "cell_type": "code",
      "source": [
        "words=[\"abc\",\"xyz\",\"aba\"\"1234\"]\n",
        "filtered_words=[] # create a empty list\n",
        "for word in words:\n",
        "  if len(word)<4: # for finding the length of the word is less than 4 or not\n",
        "   filtered_words.append(word) # use append function to add the iterated elements to empty list\n",
        "\n",
        "if filtered_words:\n",
        "  print(\"elemets which is lesser than 4\",filtered_words)   # print the filterd list\n",
        "else:\n",
        "    print(\"there are no elements with more than 3 character\",words)"
      ],
      "metadata": {
        "colab": {
          "base_uri": "https://localhost:8080/"
        },
        "id": "OB9YXRPqImRY",
        "outputId": "5b0c7ad3-b201-42ed-e8cd-eded24c798d7"
      },
      "execution_count": null,
      "outputs": [
        {
          "output_type": "stream",
          "name": "stdout",
          "text": [
            "elemets which is lesser than 4 ['abc', 'xyz', 'aba']\n"
          ]
        }
      ]
    },
    {
      "cell_type": "markdown",
      "source": [
        "##7.Write a Python program to find the second largest number in a list."
      ],
      "metadata": {
        "id": "kk1cr7y7LVV3"
      }
    },
    {
      "cell_type": "code",
      "source": [
        "l=[1,2,3,4,5,6,7,8,11,15,12,18] # create a list\n",
        "l.sort() #using sort function we can sort the list in ascending order\n",
        "print(l) #print the list\n",
        "print(\"the secomd largest number is :\",l[-2]) #print the second largest number usimg the negative index"
      ],
      "metadata": {
        "colab": {
          "base_uri": "https://localhost:8080/"
        },
        "id": "9tyynvVpLU24",
        "outputId": "172c91f7-db44-468a-e443-f2df8d405d13"
      },
      "execution_count": null,
      "outputs": [
        {
          "output_type": "stream",
          "name": "stdout",
          "text": [
            "[1, 2, 3, 4, 5, 6, 7, 8, 11, 12, 15, 18]\n",
            "the secomd largest number is : 15\n"
          ]
        }
      ]
    },
    {
      "cell_type": "markdown",
      "source": [
        "##8. Write a Python program to reverse a list at a specific location.\n"
      ],
      "metadata": {
        "id": "LM7mzTDfnHXs"
      }
    },
    {
      "cell_type": "code",
      "source": [
        "y_list = [1, 2, 3, 4, 5, 6, 7, 8, 9]\n",
        "print(\"Original list:\", y_list)\n",
        "start_index=2\n",
        "end_index=8\n",
        "y_list[start_index:end_index+1]=y_list[start_index:end_index+1][::-1]\n",
        "print(\"the reversed list from {} to {} is \".format(start_index,end_index))\n",
        "print(y_list)\n"
      ],
      "metadata": {
        "colab": {
          "base_uri": "https://localhost:8080/"
        },
        "id": "9nRO7FC6nera",
        "outputId": "0e1e6db9-b737-47de-f6c0-56bec33afb20"
      },
      "execution_count": 8,
      "outputs": [
        {
          "output_type": "stream",
          "name": "stdout",
          "text": [
            "Original list: [1, 2, 3, 4, 5, 6, 7, 8, 9]\n",
            "the reversed list from 2 to 8 is \n",
            "[1, 2, 9, 8, 7, 6, 5, 4, 3]\n"
          ]
        }
      ]
    },
    {
      "cell_type": "markdown",
      "source": [
        "##9. Write a Python program to reverse a list at a specific location."
      ],
      "metadata": {
        "id": "_HR2B-aUMwdS"
      }
    },
    {
      "cell_type": "code",
      "source": [
        "palindromes=[\"mam\",\"malayalam\",\"radar\",\"india\"]\n",
        "for palindrome in palindromes:\n",
        "  if palindrome==palindrome[::-1]:\n",
        "       print(palindrome,\"is  a palindrome\")\n",
        "  else:\n",
        "       print(palindrome,\"is not a palindrome \")"
      ],
      "metadata": {
        "colab": {
          "base_uri": "https://localhost:8080/"
        },
        "id": "-ipeuRrFNCeQ",
        "outputId": "bb28bcf5-8332-488e-ba65-40ebf1c778f0"
      },
      "execution_count": null,
      "outputs": [
        {
          "output_type": "stream",
          "name": "stdout",
          "text": [
            "mam is  a palindrome\n",
            "malayalam is  a palindrome\n",
            "radar is  a palindrome\n",
            "india is not a palindrome \n"
          ]
        }
      ]
    },
    {
      "cell_type": "markdown",
      "source": [
        "##10. Write a Python a program to find the union and intersection of two lists."
      ],
      "metadata": {
        "id": "aDQTPvG7SFvg"
      }
    },
    {
      "cell_type": "code",
      "source": [
        "set1={1,3,4,8,9,10,12,} #create a set\n",
        "set2={2,4,6,5,3,8,15,17,19,20} # create second set\n",
        "print(\"set1:\",set1)\n",
        "print(\"set2:\",set2)\n",
        "set3=set1.union(set2) # make a set3 by compiling two sets using union function\n",
        "print(\"union of two sets:\",set3)\n",
        "set3=set1.intersection(set2) # make a set by using intesection functoion\n",
        "print(\"intersection of two sets:\",set3)"
      ],
      "metadata": {
        "colab": {
          "base_uri": "https://localhost:8080/"
        },
        "id": "awX0hOzwSfPB",
        "outputId": "5324a400-28f2-4911-a333-4700531896ef"
      },
      "execution_count": null,
      "outputs": [
        {
          "output_type": "stream",
          "name": "stdout",
          "text": [
            "set1: {1, 3, 4, 8, 9, 10, 12}\n",
            "set2: {2, 3, 4, 5, 6, 8, 15, 17, 19, 20}\n",
            "union of two sets: {1, 2, 3, 4, 5, 6, 8, 9, 10, 12, 15, 17, 19, 20}\n",
            "intersection of two sets: {8, 3, 4}\n"
          ]
        }
      ]
    },
    {
      "cell_type": "markdown",
      "source": [
        "##11.Write a Python script to sort (ascending and descending) a dictionary by value"
      ],
      "metadata": {
        "id": "71IexMIeUjy3"
      }
    },
    {
      "cell_type": "code",
      "source": [
        "my_dict = {'apple': 5, 'banana': 3, 'cherry': 9, 'date': 1}\n",
        "sorted_dict_asc=dict(sorted(my_dict.items(), key=lambda item:item[1]))\n",
        "sorted_dict_desc=dict(sorted(my_dict.items(), key=lambda item:item[1],reverse=True))\n",
        "print(\"Sorted dictionary by value in ascending order:\", sorted_dict_asc)\n",
        "print(\"Sorted dictionary by value in descending order:\", sorted_dict_desc)"
      ],
      "metadata": {
        "colab": {
          "base_uri": "https://localhost:8080/"
        },
        "id": "ssW1iJO9UvKg",
        "outputId": "5d297ad2-2047-45bc-ed91-6fe32d5b6152"
      },
      "execution_count": null,
      "outputs": [
        {
          "output_type": "stream",
          "name": "stdout",
          "text": [
            "Sorted dictionary by value in ascending order: {'date': 1, 'banana': 3, 'apple': 5, 'cherry': 9}\n",
            "Sorted dictionary by value in descending order: {'cherry': 9, 'apple': 5, 'banana': 3, 'date': 1}\n"
          ]
        }
      ]
    },
    {
      "cell_type": "markdown",
      "source": [
        "##12. Write a Python script to check whether a given key already exists in a dictionary."
      ],
      "metadata": {
        "id": "Sl_HWVZSZ7_Q"
      }
    },
    {
      "cell_type": "code",
      "source": [
        "fruits= {'apple': 5, 'banana': 3, 'cherry': 9, 'date': 1}\n"
      ],
      "metadata": {
        "id": "fte-EFRuaCsw"
      },
      "execution_count": null,
      "outputs": []
    },
    {
      "cell_type": "markdown",
      "source": [
        "##13.Write a Python program to sum all the values in a dictionary."
      ],
      "metadata": {
        "id": "nNam12ZeDmE_"
      }
    },
    {
      "cell_type": "code",
      "source": [
        "\n",
        "my_dictionary = {'a': 10, 'b': 20, 'c': 30}\n",
        "def sum_dictitonary_values(dictionary):\n",
        "  total=0\n",
        "  for value in dictionary.values():\n",
        "    total+=value\n",
        "  return total\n",
        "\n",
        "result=sum_dictitonary_values(my_dictionary)\n",
        "print(\"the sum of all the values in the dictionary is :\",result)"
      ],
      "metadata": {
        "colab": {
          "base_uri": "https://localhost:8080/"
        },
        "id": "1n8oXW1ODwJG",
        "outputId": "9d9b79e9-9d8a-4ac2-d40c-c0bdc296f7c9"
      },
      "execution_count": null,
      "outputs": [
        {
          "output_type": "stream",
          "name": "stdout",
          "text": [
            "the sum of all the values in the dictionary is : 60\n"
          ]
        }
      ]
    },
    {
      "cell_type": "markdown",
      "source": [
        "##14.Write a Python program to create a dictionary with a number and its corresponding square from 1 to input number. And also check if the input number is less than 10"
      ],
      "metadata": {
        "id": "xy4kHq9sJIdL"
      }
    },
    {
      "cell_type": "code",
      "source": [
        "number=int(input(\"enter a number :\"))\n",
        "def square_numbers(n):\n",
        "  if n<10:\n",
        "    result_dict={}\n",
        "    for i in range(1,n+1):\n",
        "     result_dict[i]=i**2\n",
        "    return result_dict\n",
        "  else:\n",
        "   return(\"the number should be less than 10\")\n",
        "\n",
        "result=square_numbers(number)\n",
        "print(\"dictionary with numbers and squares\",result)\n",
        "\n"
      ],
      "metadata": {
        "colab": {
          "base_uri": "https://localhost:8080/"
        },
        "id": "LUtXUvieJIHZ",
        "outputId": "488af1f6-e75e-459f-8cf1-9e634324066d"
      },
      "execution_count": null,
      "outputs": [
        {
          "output_type": "stream",
          "name": "stdout",
          "text": [
            "enter a number :5\n",
            "dictionary with numbers and squares {1: 1, 2: 4, 3: 9, 4: 16, 5: 25}\n"
          ]
        }
      ]
    },
    {
      "cell_type": "markdown",
      "source": [
        "##15.Write a Python program to sort a given dictionary by key."
      ],
      "metadata": {
        "id": "LXxIggjrM20a"
      }
    },
    {
      "cell_type": "code",
      "source": [
        "my_dict = {'b': 3, 'c': 1, 'a': 2}\n",
        "sorted_dict={k :my_dict[k] for k in sorted(my_dict)}\n",
        "print(\"sorted dictonries by keys:\",sorted_dict)\n"
      ],
      "metadata": {
        "colab": {
          "base_uri": "https://localhost:8080/"
        },
        "id": "T-0W4rmHNALs",
        "outputId": "d2390349-0443-430d-e48c-ad60c1f5cb97"
      },
      "execution_count": null,
      "outputs": [
        {
          "output_type": "stream",
          "name": "stdout",
          "text": [
            "sorted dictonries by keys: {'a': 2, 'b': 3, 'c': 1}\n"
          ]
        }
      ]
    }
  ]
}