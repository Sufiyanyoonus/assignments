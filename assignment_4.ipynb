{
  "nbformat": 4,
  "nbformat_minor": 0,
  "metadata": {
    "colab": {
      "provenance": [],
      "authorship_tag": "ABX9TyM8iDPHtA5dd1FmyCY28FsV",
      "include_colab_link": true
    },
    "kernelspec": {
      "name": "python3",
      "display_name": "Python 3"
    },
    "language_info": {
      "name": "python"
    }
  },
  "cells": [
    {
      "cell_type": "markdown",
      "metadata": {
        "id": "view-in-github",
        "colab_type": "text"
      },
      "source": [
        "<a href=\"https://colab.research.google.com/github/Sufiyanyoonus/assignments/blob/main/assignment_4.ipynb\" target=\"_parent\"><img src=\"https://colab.research.google.com/assets/colab-badge.svg\" alt=\"Open In Colab\"/></a>"
      ]
    },
    {
      "cell_type": "markdown",
      "source": [
        "\n",
        "#Exercise 1: Create a function with a default argument\n",
        "##Write a program to create a function show_employee() using the following conditions.\n",
        "##It should accept the employee’s name and salary and display both.\n",
        "##If the salary is missing in the function call then assign default value 9000 to salary\n"
      ],
      "metadata": {
        "id": "78b7xOEP-RI1"
      }
    },
    {
      "cell_type": "code",
      "execution_count": null,
      "metadata": {
        "colab": {
          "base_uri": "https://localhost:8080/"
        },
        "id": "ZVO2sE1g94fH",
        "outputId": "f2f17ef5-689b-499b-904c-142f0ea5cea5"
      },
      "outputs": [
        {
          "output_type": "stream",
          "name": "stdout",
          "text": [
            "the name of the employe is :arijith\n",
            "the salary of the employee is :12000\n",
            "the name of the employe is :jasee\n",
            "the salary of the employee is :9000\n"
          ]
        }
      ],
      "source": [
        "def show_employee(name,salary= 9000):\n",
        "  print(f\"the name of the employe is :{name}\")\n",
        "  print(f\"the salary of the employee is :{salary}\")\n",
        "\n",
        "show_employee(\"arijith\",12000)\n",
        "show_employee(\"jasee\")\n"
      ]
    },
    {
      "cell_type": "markdown",
      "source": [],
      "metadata": {
        "id": "ScKdZtOU_twB"
      }
    },
    {
      "cell_type": "markdown",
      "source": [
        "#Exercise 2: Create an inner function to calculate the addition in the following way\n",
        "##Create an outer function that will accept two parameters, a and b\n",
        "##Create an inner function inside an outer function that will calculate the addition of a and b\n",
        "##At last, an outer function will add 5 into addition and return it\n"
      ],
      "metadata": {
        "id": "y5S-LRZa_5Ph"
      }
    },
    {
      "cell_type": "code",
      "source": [
        "def my_function(a,b):\n",
        "  def inner_function():\n",
        "     return a+b\n",
        "\n",
        "  addition=inner_function()\n",
        "  result=addition+5\n",
        "  return result\n",
        "\n",
        "my_function(5,5)"
      ],
      "metadata": {
        "colab": {
          "base_uri": "https://localhost:8080/"
        },
        "id": "00_fCHaBAAYR",
        "outputId": "3bdb8c26-58e2-4279-d2f9-8de5dc0ce193"
      },
      "execution_count": null,
      "outputs": [
        {
          "output_type": "execute_result",
          "data": {
            "text/plain": [
              "15"
            ]
          },
          "metadata": {},
          "execution_count": 9
        }
      ]
    },
    {
      "cell_type": "markdown",
      "source": [
        "\n",
        "#Exercise 3: Generate a Python list of all the even numbers between 4 to 30"
      ],
      "metadata": {
        "id": "n-cfHcGfBR4S"
      }
    },
    {
      "cell_type": "code",
      "source": [
        "even_numbers=list(filter(lambda x:x%2==0,range(4,31)))\n",
        "print(even_numbers)\n",
        "\n"
      ],
      "metadata": {
        "colab": {
          "base_uri": "https://localhost:8080/"
        },
        "id": "dEvpcauABbSS",
        "outputId": "4014d0c9-a004-4542-e554-0f46403a1f4e"
      },
      "execution_count": null,
      "outputs": [
        {
          "output_type": "stream",
          "name": "stdout",
          "text": [
            "[4, 6, 8, 10, 12, 14, 16, 18, 20, 22, 24, 26, 28, 30]\n"
          ]
        }
      ]
    },
    {
      "cell_type": "markdown",
      "source": [
        "#Exercise 4: Lambda Function to Check if value is in a List\n",
        "##Given a list, the task is to write a Python program to check if the value exists in the list or not using the lambda function.\n",
        "\n",
        "\n",
        "###Input  : L = [1, 2, 3, 4, 5]\n",
        "          element = 4\n",
        "###Output :  Element is Present in the list\n",
        "\n",
        "###Input :  L = [1, 2, 3, 4, 5]\n",
        "          element = 8\n",
        "###Output :  Element is NOT Present in the list\n"
      ],
      "metadata": {
        "id": "N9sOtH-7Coda"
      }
    },
    {
      "cell_type": "code",
      "source": [
        "L = [1, 2, 3, 4, 5]\n",
        "number=int(input(\"enter a number:\"))\n",
        "result=list(filter(lambda x:x==number,L))\n",
        "if result:\n",
        "  print(f\"element={result}\")\n",
        "else:\n",
        "  print(\"the numbers is not in the list\")"
      ],
      "metadata": {
        "colab": {
          "base_uri": "https://localhost:8080/"
        },
        "id": "TYE_J20pCwjo",
        "outputId": "295f4e4f-9da1-4124-ae67-f4a6f37c859f"
      },
      "execution_count": null,
      "outputs": [
        {
          "output_type": "stream",
          "name": "stdout",
          "text": [
            "enter a number:4\n",
            "element=[4]\n"
          ]
        }
      ]
    },
    {
      "cell_type": "code",
      "source": [
        "L = [1, 2, 3, 4, 5]\n",
        "number=int(input(\"enter a number:\"))\n",
        "result=list(filter(lambda x:x==number,L))\n",
        "if result:\n",
        "  print(f\"element={result}\")\n",
        "else:\n",
        "  print(\"the numbers is not in the list\")"
      ],
      "metadata": {
        "colab": {
          "base_uri": "https://localhost:8080/"
        },
        "id": "fbWDvoM4GLEJ",
        "outputId": "bfc29f22-e79b-4878-8597-db724a856bbe"
      },
      "execution_count": null,
      "outputs": [
        {
          "output_type": "stream",
          "name": "stdout",
          "text": [
            "enter a number:8\n",
            "the numbers is not in the list\n"
          ]
        }
      ]
    },
    {
      "cell_type": "markdown",
      "source": [
        "#Exercise 5: Sort list of tuples with their sum\n",
        "##Sort the points based on their sum of elements in the tuples\n",
        "\n",
        "##points = [(1, 2), (5, 3), (0, 7), (3, 1)]\n"
      ],
      "metadata": {
        "id": "1HU0ENjqGNkq"
      }
    },
    {
      "cell_type": "code",
      "source": [
        "points = [(1, 2), (5, 3), (0, 7), (3, 1)]\n",
        "sorted_points=sorted(points ,key=lambda x:sum(x))\n",
        "print(sorted_points)"
      ],
      "metadata": {
        "colab": {
          "base_uri": "https://localhost:8080/"
        },
        "id": "YpTnocHgGTf4",
        "outputId": "a6698bcb-c621-4ecf-ad3b-73700b39267a"
      },
      "execution_count": null,
      "outputs": [
        {
          "output_type": "stream",
          "name": "stdout",
          "text": [
            "[(1, 2), (3, 1), (0, 7), (5, 3)]\n"
          ]
        }
      ]
    },
    {
      "cell_type": "markdown",
      "source": [
        "#Exercise 6 :\n",
        "##Write a python function, which will find all such numbers between 1000 and 3000 (both included) such that each digit of the number is an even number. Return the results as a list\n"
      ],
      "metadata": {
        "id": "7F-eKo8vH8SY"
      }
    },
    {
      "cell_type": "code",
      "source": [
        "def finding_even():\n",
        "  all_even=[]\n",
        "  for number in range(1000,3001):\n",
        "    str_number=str(number)\n",
        "    if all(int(digit) %2==0 for digit in str_number ):\n",
        "     all_even.append( str_number)\n",
        "  return all_even\n",
        "\n",
        "result=finding_even()\n",
        "print(result)\n"
      ],
      "metadata": {
        "colab": {
          "base_uri": "https://localhost:8080/"
        },
        "id": "qTCdYT34IDVQ",
        "outputId": "81e17eaf-fc1c-450d-b447-95b1eec0012e"
      },
      "execution_count": null,
      "outputs": [
        {
          "output_type": "stream",
          "name": "stdout",
          "text": [
            "['2000', '2002', '2004', '2006', '2008', '2020', '2022', '2024', '2026', '2028', '2040', '2042', '2044', '2046', '2048', '2060', '2062', '2064', '2066', '2068', '2080', '2082', '2084', '2086', '2088', '2200', '2202', '2204', '2206', '2208', '2220', '2222', '2224', '2226', '2228', '2240', '2242', '2244', '2246', '2248', '2260', '2262', '2264', '2266', '2268', '2280', '2282', '2284', '2286', '2288', '2400', '2402', '2404', '2406', '2408', '2420', '2422', '2424', '2426', '2428', '2440', '2442', '2444', '2446', '2448', '2460', '2462', '2464', '2466', '2468', '2480', '2482', '2484', '2486', '2488', '2600', '2602', '2604', '2606', '2608', '2620', '2622', '2624', '2626', '2628', '2640', '2642', '2644', '2646', '2648', '2660', '2662', '2664', '2666', '2668', '2680', '2682', '2684', '2686', '2688', '2800', '2802', '2804', '2806', '2808', '2820', '2822', '2824', '2826', '2828', '2840', '2842', '2844', '2846', '2848', '2860', '2862', '2864', '2866', '2868', '2880', '2882', '2884', '2886', '2888']\n"
          ]
        }
      ]
    },
    {
      "cell_type": "markdown",
      "source": [
        "#Exercise 7 :\n",
        "#Write a python function that accepts a sentence and calculate and return the number of letters and digits.\n",
        "##Suppose the following input is supplied to the program:\n",
        "##hello world! 123\n",
        "##Then, the output should be:\n",
        "##LETTERS 10\n",
        "##DIGITS 3\n"
      ],
      "metadata": {
        "id": "E8Deijq6MH6A"
      }
    },
    {
      "cell_type": "code",
      "source": [
        "\n",
        "def sentence(order):\n",
        "  letters=0\n",
        "  digits=0\n",
        "  for char in order:\n",
        "    if char.isalpha():\n",
        "      letters +=1\n",
        "    elif char.isdigit():\n",
        "      digits +=1\n",
        "  return {\"letters\":letters,\"DIGITS\":digits}\n",
        "\n",
        "\n",
        "order=\"he45454654\"\n",
        "result=sentence(order)\n",
        "print(result)\n"
      ],
      "metadata": {
        "colab": {
          "base_uri": "https://localhost:8080/"
        },
        "id": "ndpvRcp2RnmH",
        "outputId": "704aa3aa-9503-476e-c731-3b7781ebdc23"
      },
      "execution_count": null,
      "outputs": [
        {
          "output_type": "stream",
          "name": "stdout",
          "text": [
            "{'letters': 2, 'DIGITS': 8}\n"
          ]
        }
      ]
    },
    {
      "cell_type": "markdown",
      "source": [
        "#Exercise 8  MAP:\n",
        "##Write a Python program to convert all the characters into uppercase and lowercase and eliminate duplicate letters from a given sequence. Use the map() function\n"
      ],
      "metadata": {
        "id": "fxu5J1i-TQwe"
      }
    },
    {
      "cell_type": "code",
      "source": [
        "def uppercase(lowercase): # make the\n",
        "  upper=lowercase.upper()\n",
        "  lower=lowercase.lower()\n",
        "\n",
        "  seen=set()\n",
        "  result=[]\n",
        "\n",
        "  for char in upper and lower:\n",
        "   if char not in seen:\n",
        "    seen.add(char)\n",
        "    result.append(char)\n",
        "\n",
        "\n",
        "  return''.join(result)\n",
        "\n",
        "\n",
        "\n",
        "\n",
        "lowercase=\"dslsmsndJJJSJJSl\"\n",
        "result=uppercase(lowercase)\n",
        "print(result)\n",
        "\n",
        "\n",
        "\n"
      ],
      "metadata": {
        "colab": {
          "base_uri": "https://localhost:8080/"
        },
        "id": "v6u1GhFaXvUK",
        "outputId": "78b3f307-1485-4e83-99cc-895d20c39487"
      },
      "execution_count": null,
      "outputs": [
        {
          "output_type": "stream",
          "name": "stdout",
          "text": [
            "dslmnj\n"
          ]
        }
      ]
    },
    {
      "cell_type": "markdown",
      "source": [
        "#Exercise 9 MAP:\n",
        "## Write a Python program to element wise add two given lists and find the difference between them. Use the map() function\n"
      ],
      "metadata": {
        "id": "pXJOjluVjQTj"
      }
    },
    {
      "cell_type": "code",
      "source": [
        "x=1,2,3,4,5,6\n",
        "y=7,8,9,10,11,12\n",
        "\n",
        "def add(a,b): # create the function\n",
        "  return a+b # return the sum\n",
        "\n",
        "addition=list(map(add,x,y)) # using map function we can each elements\n",
        "\n",
        "def sub(a,b): # make a function\n",
        "  return a-b # return the difference\n",
        "\n",
        "substraction=list(map(sub,x,y))   # substract it using the map function we can substrct each elemts\n",
        "\n",
        "print(\" element wise addition\",addition) #print the addition\n",
        "print(\"differnce\",substraction) # print the substraction\n"
      ],
      "metadata": {
        "colab": {
          "base_uri": "https://localhost:8080/"
        },
        "id": "tAej-zKVjXs9",
        "outputId": "7e312dcc-7166-4528-8531-a50892f98548"
      },
      "execution_count": null,
      "outputs": [
        {
          "output_type": "stream",
          "name": "stdout",
          "text": [
            " element wise addition [8, 10, 12, 14, 16, 18]\n",
            "differnce [-6, -6, -6, -6, -6, -6]\n"
          ]
        }
      ]
    },
    {
      "cell_type": "markdown",
      "source": [
        "#Exercise 10 Filter:\n",
        "##Write a Python program to filter the height and weight of students, which are stored in a dictionary using lambda.\n",
        "##Original Dictionary:\n",
        "{'Cierra Vega': (6.2, 71), 'Alden Cantrell': (5.9, 65), 'Kierra Gentry': (6.0, 68), 'Pierre Cox': (5.8, 66)}\n",
        "Height> 6ft and Weight> 70kg:\n",
        "{'Cierra Vega': (6.2, 71)}\n"
      ],
      "metadata": {
        "id": "pgCIffr0l4WB"
      }
    },
    {
      "cell_type": "code",
      "source": [
        "students = {\n",
        "    'Cierra Vega': (6.2, 71),\n",
        "    'Alden Cantrell': (5.9, 65), # dict\n",
        "    'Kierra Gentry': (6.0, 68),\n",
        "    'Pierre Cox': (5.8, 66)\n",
        "}\n",
        "filtered=dict(filter(lambda item:item[1][0] >6 and item[1][1] >70 ,students.items())) #using  filter function and lambda function give the conditions\n",
        "print(\"Height> 6ft and Weight> 70kg:\")\n",
        "print(\"the person is :\",filtered) # print the result which satisfy the conditions"
      ],
      "metadata": {
        "colab": {
          "base_uri": "https://localhost:8080/"
        },
        "id": "2Q-DkQVBmBE1",
        "outputId": "c74cee08-1a29-41b7-ca1f-21e616803374"
      },
      "execution_count": null,
      "outputs": [
        {
          "output_type": "stream",
          "name": "stdout",
          "text": [
            "Height> 6ft and Weight> 70kg:\n",
            "the person is : {'Cierra Vega': (6.2, 71)}\n"
          ]
        }
      ]
    },
    {
      "cell_type": "markdown",
      "source": [
        "#Exercise 11 Filter:\n",
        "##Write a Python program to remove all elements from a given list present in another list using lambda.\n",
        "###Original lists:\n",
        "###list1: [1, 2, 3, 4, 5, 6, 7, 8, 9, 10]\n",
        "###list2: [2, 4, 6, 8]\n",
        "###Remove all elements from 'list1' present in 'list2:\n",
        "###[1, 3, 5, 7, 9, 10]\n"
      ],
      "metadata": {
        "id": "yjjAdJMuoUs4"
      }
    },
    {
      "cell_type": "code",
      "source": [
        "list1= [1, 2, 3, 4, 5, 6, 7, 8, 9, 10] #list 1\n",
        "list2= [2, 4, 6, 8] #list 2\n",
        "filtered=list(filter(lambda x:x not in list2,list1)) # using filter function filter the data using lambda function\n",
        "print(\"The elements is list1 is not repeated in list2\",filtered) # print"
      ],
      "metadata": {
        "colab": {
          "base_uri": "https://localhost:8080/"
        },
        "id": "biHDIDNGocpX",
        "outputId": "62dfa15f-8a1c-4b70-ccc9-7e985c740143"
      },
      "execution_count": null,
      "outputs": [
        {
          "output_type": "stream",
          "name": "stdout",
          "text": [
            "The elements is list1 is not repeated in list2 [1, 3, 5, 7, 9, 10]\n"
          ]
        }
      ]
    },
    {
      "cell_type": "markdown",
      "source": [
        "#Exercise 12 Reduce:\n",
        "\n",
        "\n",
        "##Write a Python program to calculate the product of a given list of numbers using lambda.\n",
        "##list1: [1, 2, 3, 4, 5, 6, 7, 8, 9, 10]\n",
        "##Product of the said list numbers 3628800\n"
      ],
      "metadata": {
        "id": "EY1_ssLwrDY8"
      }
    },
    {
      "cell_type": "code",
      "source": [
        "import functools # import the reduce function\n",
        "print(functools.reduce(lambda x,y:x*y,[1,2,3,4,5,6,7,8,9,10] )) # using lambda functionn gave the conditions aand iterable"
      ],
      "metadata": {
        "colab": {
          "base_uri": "https://localhost:8080/"
        },
        "id": "zs052qnnrStO",
        "outputId": "e6d7be7b-5e65-40ba-bff3-230d2cd93fe7"
      },
      "execution_count": null,
      "outputs": [
        {
          "output_type": "stream",
          "name": "stdout",
          "text": [
            "3628800\n"
          ]
        }
      ]
    },
    {
      "cell_type": "markdown",
      "source": [
        "#Exercise 13 Reduce:\n",
        "\n",
        "\n",
        "##Write a Python program to multiply all the numbers in a given list using lambda.\n",
        "##Original list:\n",
        "##[4, 3, 2, 2, -1, 18]\n",
        "##Mmultiply all the numbers of the said list: -864\n"
      ],
      "metadata": {
        "id": "xjO-5WzJsgtr"
      }
    },
    {
      "cell_type": "code",
      "source": [
        "print(functools.reduce(lambda x,y:x*y,[4, 3, 2, 2, -1, 18])) # usnig reduce give the conditions in lambda function and then give the iterable"
      ],
      "metadata": {
        "colab": {
          "base_uri": "https://localhost:8080/"
        },
        "id": "FmTo4dPcsvkJ",
        "outputId": "7ec1eb8c-0212-496f-c434-17c4da9a7bc7"
      },
      "execution_count": null,
      "outputs": [
        {
          "output_type": "stream",
          "name": "stdout",
          "text": [
            "-864\n"
          ]
        }
      ]
    },
    {
      "cell_type": "markdown",
      "source": [
        "#Exercise 14 Reduce:\n",
        "\n",
        "\n",
        "##Write a Python program to calculate the average value of the numbers in a given tuple of tuples using lambda.\n",
        "##Original Tuple:\n",
        "##((10, 10, 10), (30, 45, 56), (81, 80, 39), (1, 2, 3))\n",
        "##Average value of the numbers of the said tuple of tuples:\n",
        "##(30.5, 34.25, 27.0)\n"
      ],
      "metadata": {
        "id": "YgrJZPbNtFdT"
      }
    },
    {
      "cell_type": "code",
      "source": [
        "from functools import reduce\n",
        "tuples = ((10, 10, 10), (30, 45, 56), (81, 80, 39), (1, 2, 3))\n",
        "\n",
        "average=functools.reduce(lambda x,y:tuple((a+b)/2 for a,b in zip(x,y)),tuples)\n",
        "print(average)"
      ],
      "metadata": {
        "id": "t047CAsPvqcC",
        "colab": {
          "base_uri": "https://localhost:8080/"
        },
        "outputId": "916a3b0f-d32a-4ce1-a003-71930c4c832d"
      },
      "execution_count": null,
      "outputs": [
        {
          "output_type": "stream",
          "name": "stdout",
          "text": [
            "(25.75, 27.875, 19.5)\n"
          ]
        }
      ]
    },
    {
      "cell_type": "markdown",
      "source": [
        "\n",
        "\n",
        "#Exercise 15:\n",
        "\n",
        "\n",
        "##Write a Python program to sort a given mixed list of integers and strings using lambda. Numbers must be sorted before strings.\n",
        "##Original list:\n",
        "##[19, 'red', 12, 'green', 'blue', 10, 'white', 'green', 1]\n",
        "##sort the said mixed list of integers and strings:\n",
        "##[1, 10, 12, 19, 'blue', 'green', 'green', 'red', 'white']\n"
      ],
      "metadata": {
        "id": "Czz3hwWGyJER"
      }
    },
    {
      "cell_type": "code",
      "source": [
        "\n",
        "elements=[19, 'red', 12, 'green', 'blue', 10, 'white', 'green', 1]\n",
        "integers=[] # for intetgers make an empty list\n",
        "strings=[] # for strings make an empty list\n",
        "\n",
        "for x in elements: #iterate elements using loop\n",
        "  if type(x)==int: # if the type is int\n",
        "    integers.append(x) # it will append to integers\n",
        "\n",
        "for x in elements: # iterate using loop\n",
        "  if type(x)==str: # if the type is string\n",
        "    strings.append(x) # it will append to strings\n",
        "\n",
        "sorted_int=sorted(integers) # sort the inetgers\n",
        "sorted_str=sorted(strings) # sort the strings\n",
        "sorted_elements=sorted_int+sorted_str # add  the sorted elments and we will get in order\n",
        "print(\"sorted elememts is :\",sorted_elements)    # print\n"
      ],
      "metadata": {
        "colab": {
          "base_uri": "https://localhost:8080/"
        },
        "id": "-EMRRCYWiIhP",
        "outputId": "747451c8-0096-4694-f4bf-d7e9bf6290c5"
      },
      "execution_count": 4,
      "outputs": [
        {
          "output_type": "stream",
          "name": "stdout",
          "text": [
            "sorted elememts is : [1, 10, 12, 19, 'blue', 'green', 'green', 'red', 'white']\n"
          ]
        }
      ]
    },
    {
      "cell_type": "markdown",
      "source": [
        "#Exercise 16:\n",
        "##Write a Python program to count the occurrences of items in a given list using lambda.\n",
        "##Original list:\n",
        "##[3, 4, 5, 8, 0, 3, 8, 5, 0, 3, 1, 5, 2, 3, 4, 2]\n",
        "##Count the occurrences of the items in the said list:\n",
        "##{3: 4, 4: 2, 5: 3, 8: 2, 0: 2, 1: 1, 2: 2}\n"
      ],
      "metadata": {
        "id": "SfvulKAsmJe4"
      }
    },
    {
      "cell_type": "code",
      "source": [
        "l=[3, 4, 5, 8, 0, 3, 8, 5, 0, 3, 1, 5, 2, 3, 4, 2]\n",
        "\n",
        "#dict comprehension method\n",
        "count_dict={x:l.count(x) for x in l } #output/ loop/ condition and count function for counting\n",
        "\n",
        "print(\"Count the occurrences of the items in the said list:\") #print\n",
        "print(count_dict)\n"
      ],
      "metadata": {
        "colab": {
          "base_uri": "https://localhost:8080/"
        },
        "id": "jeFUe_aWmVYi",
        "outputId": "9fb48c02-f5dc-4038-9dd8-14dc424506f0"
      },
      "execution_count": 7,
      "outputs": [
        {
          "output_type": "stream",
          "name": "stdout",
          "text": [
            "Count the occurrences of the items in the said list:\n",
            "{3: 4, 4: 2, 5: 3, 8: 2, 0: 2, 1: 1, 2: 2}\n"
          ]
        }
      ]
    },
    {
      "cell_type": "markdown",
      "source": [
        "#Exercise 17:\n",
        "\n",
        "\n",
        "##Write a Python program to remove None values from a given list using the lambda function.\n",
        "##Original list:\n",
        "##[12, 0, None, 23, None, -55, 234, 89, None, 0, 6, -12]\n",
        "##Remove None value from the said list:\n",
        "##[12, 0, 23, -55, 234, 89, 0, 6, -12]\n"
      ],
      "metadata": {
        "id": "46parNbrrhh4"
      }
    },
    {
      "cell_type": "code",
      "source": [
        "l = [12, 0, None, 23, None, -55, 234, 89, None, 0, 6, -12]\n",
        "\n",
        "integers = list(filter(lambda x: isinstance(x, int), l)) # isinstance will look x is integer ir not and using filter we can remove none values and using list function we will get the list\n",
        "print(integers)"
      ],
      "metadata": {
        "colab": {
          "base_uri": "https://localhost:8080/"
        },
        "id": "hYNM9Xl8t_VZ",
        "outputId": "46f018d9-3910-4f71-9312-3fc48c712dcc"
      },
      "execution_count": 23,
      "outputs": [
        {
          "output_type": "stream",
          "name": "stdout",
          "text": [
            "[12, 0, 23, -55, 234, 89, 0, 6, -12]\n"
          ]
        }
      ]
    }
  ]
}